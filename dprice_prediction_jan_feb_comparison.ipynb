{
 "cells": [
  {
   "cell_type": "code",
   "execution_count": 1,
   "metadata": {
    "collapsed": true,
    "deletable": true,
    "editable": true
   },
   "outputs": [],
   "source": [
    "import numpy as np\n",
    "import pandas as pd\n",
    "import matplotlib.pyplot as plt\n",
    "import extract\n",
    "import visualize\n",
    "from sklearn import tree\n",
    "import pydotplus\n",
    "import seaborn as sns\n",
    "import time\n",
    "from sklearn.preprocessing import StandardScaler\n",
    "from sklearn import preprocessing\n",
    "from sklearn.model_selection import train_test_split, GridSearchCV\n",
    "from sklearn.metrics import confusion_matrix\n",
    "from sklearn.ensemble import RandomForestRegressor\n",
    "from sklearn.tree import DecisionTreeRegressor"
   ]
  },
  {
   "cell_type": "code",
   "execution_count": 2,
   "metadata": {
    "collapsed": false,
    "deletable": true,
    "editable": true
   },
   "outputs": [
    {
     "name": "stderr",
     "output_type": "stream",
     "text": [
      "/home/mark/Math/bondproject/venv/local/lib/python2.7/site-packages/pandas/core/indexing.py:477: SettingWithCopyWarning: \n",
      "A value is trying to be set on a copy of a slice from a DataFrame.\n",
      "Try using .loc[row_indexer,col_indexer] = value instead\n",
      "\n",
      "See the caveats in the documentation: http://pandas.pydata.org/pandas-docs/stable/indexing.html#indexing-view-versus-copy\n",
      "  self.obj[item] = s\n",
      "/home/mark/Math/bondproject/venv/local/lib/python2.7/site-packages/pandas/core/indexing.py:297: SettingWithCopyWarning: \n",
      "A value is trying to be set on a copy of a slice from a DataFrame.\n",
      "Try using .loc[row_indexer,col_indexer] = value instead\n",
      "\n",
      "See the caveats in the documentation: http://pandas.pydata.org/pandas-docs/stable/indexing.html#indexing-view-versus-copy\n",
      "  self.obj[key] = _infer_fill_value(value)\n"
     ]
    }
   ],
   "source": [
    "d_jan = extract.get_data()\n",
    "d_jan = extract.clean_data(d_jan)"
   ]
  },
  {
   "cell_type": "code",
   "execution_count": 43,
   "metadata": {
    "collapsed": true,
    "deletable": true,
    "editable": true
   },
   "outputs": [],
   "source": [
    "d_new = pd.read_csv('./data/EMMA_new_data.csv', usecols = ['cusip', 'price', 'yield', 'tradedate', 'tradetype', 'name', 'state', 'RTG_Moody', 'RTG_SP', 'coupon', 'maturity',\n",
    "'issuetype', 'issuesource'])\n",
    "d_new.columns = [s.lower() for s in d_new.columns]"
   ]
  },
  {
   "cell_type": "code",
   "execution_count": null,
   "metadata": {
    "collapsed": false,
    "deletable": true,
    "editable": true
   },
   "outputs": [],
   "source": []
  },
  {
   "cell_type": "code",
   "execution_count": 44,
   "metadata": {
    "collapsed": false,
    "deletable": true,
    "editable": true
   },
   "outputs": [],
   "source": [
    "d_new.state = d_new.state.apply(lambda x: x[0].upper() + x[1:])"
   ]
  },
  {
   "cell_type": "code",
   "execution_count": 45,
   "metadata": {
    "collapsed": false,
    "deletable": true,
    "editable": true
   },
   "outputs": [],
   "source": [
    "d_new = extract.clean_data(d_new)"
   ]
  },
  {
   "cell_type": "code",
   "execution_count": 46,
   "metadata": {
    "collapsed": false,
    "deletable": true,
    "editable": true
   },
   "outputs": [],
   "source": [
    "d_new.issuetype = d_new.issuetype.apply(lambda x: x.upper())\n",
    "d_new.issuesource = d_new.issuesource.apply(lambda x: x.upper())"
   ]
  },
  {
   "cell_type": "code",
   "execution_count": 47,
   "metadata": {
    "collapsed": true,
    "deletable": true,
    "editable": true
   },
   "outputs": [],
   "source": [
    "d_new.loc[d_new.tradetype == 'Customer sold', 'tradetype'] = 'Purchase_from_Customer'\n",
    "d_new.loc[d_new.tradetype == 'Customer bought', 'tradetype'] = 'Sale_to_Customer'"
   ]
  },
  {
   "cell_type": "code",
   "execution_count": 54,
   "metadata": {
    "collapsed": false,
    "deletable": true,
    "editable": true
   },
   "outputs": [
    {
     "data": {
      "text/plain": [
       "Int64Index([  0,   1,   2,   3,   4,   5,   6,   7,   8,   9,\n",
       "            ...\n",
       "            398, 399, 400, 401, 402, 403, 404, 405, 406, 407],\n",
       "           dtype='int64', length=408)"
      ]
     },
     "execution_count": 54,
     "metadata": {},
     "output_type": "execute_result"
    }
   ],
   "source": [
    "d_new.columns\n",
    "d_new.shape\n",
    "d_new.index"
   ]
  },
  {
   "cell_type": "code",
   "execution_count": 55,
   "metadata": {
    "collapsed": false,
    "deletable": true,
    "editable": true
   },
   "outputs": [
    {
     "data": {
      "text/plain": [
       "Int64Index([    0,     1,     2,     3,     4,     5,     6,     7,     8,\n",
       "                9,\n",
       "            ...\n",
       "            35446, 35447, 35448, 35449, 35450, 35451, 35452, 35453, 35454,\n",
       "            35455],\n",
       "           dtype='int64', length=35456)"
      ]
     },
     "execution_count": 55,
     "metadata": {},
     "output_type": "execute_result"
    }
   ],
   "source": [
    "d_jan.columns\n",
    "d_jan.shape\n",
    "d_jan.index"
   ]
  },
  {
   "cell_type": "code",
   "execution_count": 84,
   "metadata": {
    "collapsed": false,
    "deletable": true,
    "editable": true
   },
   "outputs": [],
   "source": [
    "d_combined = pd.concat([d_jan, d_new], axis = 0, join = 'outer')\n",
    "d_combined.index = range(d_combined.shape[0])"
   ]
  },
  {
   "cell_type": "code",
   "execution_count": 85,
   "metadata": {
    "collapsed": false,
    "deletable": true,
    "editable": true
   },
   "outputs": [],
   "source": [
    "# embed text features of d_combined\n",
    "d_combined_1 = d_combined.drop(['amount', 'bidcount', 'issuesize', 'tradeid'], axis = 1)\n",
    "d_combined_state_features = extract.build_state_features(d_combined_1, num_states = None)\n",
    "d_combined_other_features = extract.build_other_text_features(d_combined_1)\n",
    "d_t = pd.concat([d_combined_1.drop(['state', 'issuetype', 'issuesource', 'tradetype'], axis = 1), d_combined_state_features, d_combined_other_features], axis = 1)"
   ]
  },
  {
   "cell_type": "code",
   "execution_count": 86,
   "metadata": {
    "collapsed": false,
    "deletable": true,
    "editable": true
   },
   "outputs": [
    {
     "data": {
      "text/html": [
       "<div>\n",
       "<table border=\"1\" class=\"dataframe\">\n",
       "  <thead>\n",
       "    <tr style=\"text-align: right;\">\n",
       "      <th></th>\n",
       "      <th>coupon</th>\n",
       "      <th>cusip</th>\n",
       "      <th>maturity</th>\n",
       "      <th>name</th>\n",
       "      <th>price</th>\n",
       "      <th>rtg</th>\n",
       "      <th>tradedate</th>\n",
       "      <th>yield</th>\n",
       "      <th>Alabama</th>\n",
       "      <th>Alaska</th>\n",
       "      <th>...</th>\n",
       "      <th>SPECIAL ASSESSMENT</th>\n",
       "      <th>SPECIAL TAX</th>\n",
       "      <th>STUDENT LOAN REVENUE</th>\n",
       "      <th>TAX INCRMT./ALLCTN.REV.</th>\n",
       "      <th>TELECOM REVENUE</th>\n",
       "      <th>TOBACCO &amp; LIQUOR TAXES</th>\n",
       "      <th>TOBACCO SETTLEMENT FUNDED</th>\n",
       "      <th>TRANSIT REVENUE</th>\n",
       "      <th>WATER REVENUE</th>\n",
       "      <th>tradetype</th>\n",
       "    </tr>\n",
       "  </thead>\n",
       "  <tbody>\n",
       "    <tr>\n",
       "      <th>0</th>\n",
       "      <td>4.00</td>\n",
       "      <td>45471AKG6</td>\n",
       "      <td>6635.0</td>\n",
       "      <td>indiana st fin auth-a</td>\n",
       "      <td>99.507</td>\n",
       "      <td>6</td>\n",
       "      <td>2.0</td>\n",
       "      <td>4.037</td>\n",
       "      <td>0</td>\n",
       "      <td>0</td>\n",
       "      <td>...</td>\n",
       "      <td>0</td>\n",
       "      <td>0</td>\n",
       "      <td>0</td>\n",
       "      <td>0</td>\n",
       "      <td>0</td>\n",
       "      <td>0</td>\n",
       "      <td>0</td>\n",
       "      <td>0</td>\n",
       "      <td>0</td>\n",
       "      <td>1</td>\n",
       "    </tr>\n",
       "    <tr>\n",
       "      <th>1</th>\n",
       "      <td>4.00</td>\n",
       "      <td>45471AKG6</td>\n",
       "      <td>6635.0</td>\n",
       "      <td>indiana st fin auth-a</td>\n",
       "      <td>99.410</td>\n",
       "      <td>6</td>\n",
       "      <td>2.0</td>\n",
       "      <td>4.045</td>\n",
       "      <td>0</td>\n",
       "      <td>0</td>\n",
       "      <td>...</td>\n",
       "      <td>0</td>\n",
       "      <td>0</td>\n",
       "      <td>0</td>\n",
       "      <td>0</td>\n",
       "      <td>0</td>\n",
       "      <td>0</td>\n",
       "      <td>0</td>\n",
       "      <td>0</td>\n",
       "      <td>0</td>\n",
       "      <td>1</td>\n",
       "    </tr>\n",
       "    <tr>\n",
       "      <th>2</th>\n",
       "      <td>4.00</td>\n",
       "      <td>45471AKG6</td>\n",
       "      <td>6635.0</td>\n",
       "      <td>indiana st fin auth-a</td>\n",
       "      <td>99.290</td>\n",
       "      <td>6</td>\n",
       "      <td>2.0</td>\n",
       "      <td>4.054</td>\n",
       "      <td>0</td>\n",
       "      <td>0</td>\n",
       "      <td>...</td>\n",
       "      <td>0</td>\n",
       "      <td>0</td>\n",
       "      <td>0</td>\n",
       "      <td>0</td>\n",
       "      <td>0</td>\n",
       "      <td>0</td>\n",
       "      <td>0</td>\n",
       "      <td>0</td>\n",
       "      <td>0</td>\n",
       "      <td>0</td>\n",
       "    </tr>\n",
       "    <tr>\n",
       "      <th>3</th>\n",
       "      <td>4.25</td>\n",
       "      <td>45471AMY5</td>\n",
       "      <td>6423.0</td>\n",
       "      <td>in fin auth-major</td>\n",
       "      <td>103.145</td>\n",
       "      <td>9</td>\n",
       "      <td>2.0</td>\n",
       "      <td>3.717</td>\n",
       "      <td>0</td>\n",
       "      <td>0</td>\n",
       "      <td>...</td>\n",
       "      <td>0</td>\n",
       "      <td>0</td>\n",
       "      <td>0</td>\n",
       "      <td>0</td>\n",
       "      <td>0</td>\n",
       "      <td>0</td>\n",
       "      <td>0</td>\n",
       "      <td>0</td>\n",
       "      <td>0</td>\n",
       "      <td>1</td>\n",
       "    </tr>\n",
       "    <tr>\n",
       "      <th>4</th>\n",
       "      <td>5.00</td>\n",
       "      <td>4550572N8</td>\n",
       "      <td>2894.0</td>\n",
       "      <td>in fin auth-ref-a</td>\n",
       "      <td>114.082</td>\n",
       "      <td>1</td>\n",
       "      <td>2.0</td>\n",
       "      <td>2.060</td>\n",
       "      <td>0</td>\n",
       "      <td>0</td>\n",
       "      <td>...</td>\n",
       "      <td>0</td>\n",
       "      <td>0</td>\n",
       "      <td>0</td>\n",
       "      <td>0</td>\n",
       "      <td>0</td>\n",
       "      <td>0</td>\n",
       "      <td>0</td>\n",
       "      <td>0</td>\n",
       "      <td>1</td>\n",
       "      <td>1</td>\n",
       "    </tr>\n",
       "  </tbody>\n",
       "</table>\n",
       "<p>5 rows × 113 columns</p>\n",
       "</div>"
      ],
      "text/plain": [
       "   coupon      cusip  maturity                   name    price  rtg  \\\n",
       "0    4.00  45471AKG6    6635.0  indiana st fin auth-a   99.507    6   \n",
       "1    4.00  45471AKG6    6635.0  indiana st fin auth-a   99.410    6   \n",
       "2    4.00  45471AKG6    6635.0  indiana st fin auth-a   99.290    6   \n",
       "3    4.25  45471AMY5    6423.0      in fin auth-major  103.145    9   \n",
       "4    5.00  4550572N8    2894.0      in fin auth-ref-a  114.082    1   \n",
       "\n",
       "   tradedate  yield  Alabama  Alaska    ...      SPECIAL ASSESSMENT  \\\n",
       "0        2.0  4.037        0       0    ...                       0   \n",
       "1        2.0  4.045        0       0    ...                       0   \n",
       "2        2.0  4.054        0       0    ...                       0   \n",
       "3        2.0  3.717        0       0    ...                       0   \n",
       "4        2.0  2.060        0       0    ...                       0   \n",
       "\n",
       "   SPECIAL TAX  STUDENT LOAN REVENUE  TAX INCRMT./ALLCTN.REV.  \\\n",
       "0            0                     0                        0   \n",
       "1            0                     0                        0   \n",
       "2            0                     0                        0   \n",
       "3            0                     0                        0   \n",
       "4            0                     0                        0   \n",
       "\n",
       "   TELECOM REVENUE  TOBACCO & LIQUOR TAXES  TOBACCO SETTLEMENT FUNDED  \\\n",
       "0                0                       0                          0   \n",
       "1                0                       0                          0   \n",
       "2                0                       0                          0   \n",
       "3                0                       0                          0   \n",
       "4                0                       0                          0   \n",
       "\n",
       "   TRANSIT REVENUE  WATER REVENUE  tradetype  \n",
       "0                0              0          1  \n",
       "1                0              0          1  \n",
       "2                0              0          0  \n",
       "3                0              0          1  \n",
       "4                0              1          1  \n",
       "\n",
       "[5 rows x 113 columns]"
      ]
     },
     "execution_count": 86,
     "metadata": {},
     "output_type": "execute_result"
    }
   ],
   "source": [
    "d_t.head()"
   ]
  },
  {
   "cell_type": "code",
   "execution_count": 88,
   "metadata": {
    "collapsed": false,
    "deletable": true,
    "editable": true
   },
   "outputs": [],
   "source": [
    "d_jan_t = d_t.loc[:d_jan.shape[0]-1, :]\n",
    "d_new_t = d_t.loc[d_jan.shape[0]:, :]"
   ]
  },
  {
   "cell_type": "code",
   "execution_count": 91,
   "metadata": {
    "collapsed": false,
    "deletable": true,
    "editable": true
   },
   "outputs": [
    {
     "name": "stdout",
     "output_type": "stream",
     "text": [
      "extract.compile_price_change_data: finished cusip 0 of 5\n",
      "extract.compile_price_change_data: finished cusip 1 of 5\n",
      "extract.compile_price_change_data: finished cusip 2 of 5\n",
      "extract.compile_price_change_data: finished cusip 3 of 5\n",
      "extract.compile_price_change_data: finished cusip 4 of 5\n"
     ]
    }
   ],
   "source": [
    "s_jan = extract.compile_price_change_data(d_jan_t, {'purchase': 1, 'sell': 0})\n",
    "s_new = extract.compile_price_change_data(d_new_t, {'purchase': 1, 'sell': 0})"
   ]
  },
  {
   "cell_type": "code",
   "execution_count": 95,
   "metadata": {
    "collapsed": false,
    "deletable": true,
    "editable": true
   },
   "outputs": [
    {
     "data": {
      "text/html": [
       "<div>\n",
       "<table border=\"1\" class=\"dataframe\">\n",
       "  <thead>\n",
       "    <tr style=\"text-align: right;\">\n",
       "      <th></th>\n",
       "      <th>coupon</th>\n",
       "      <th>cusip</th>\n",
       "      <th>maturity</th>\n",
       "      <th>name</th>\n",
       "      <th>price</th>\n",
       "      <th>rtg</th>\n",
       "      <th>tradedate</th>\n",
       "      <th>yield</th>\n",
       "      <th>Alabama</th>\n",
       "      <th>Alaska</th>\n",
       "      <th>...</th>\n",
       "      <th>TAX INCRMT./ALLCTN.REV.</th>\n",
       "      <th>TELECOM REVENUE</th>\n",
       "      <th>TOBACCO &amp; LIQUOR TAXES</th>\n",
       "      <th>TOBACCO SETTLEMENT FUNDED</th>\n",
       "      <th>TRANSIT REVENUE</th>\n",
       "      <th>WATER REVENUE</th>\n",
       "      <th>tradetype</th>\n",
       "      <th>dprice</th>\n",
       "      <th>holdtime</th>\n",
       "      <th>d_index</th>\n",
       "    </tr>\n",
       "  </thead>\n",
       "  <tbody>\n",
       "    <tr>\n",
       "      <th>0</th>\n",
       "      <td>4.0</td>\n",
       "      <td>13080SMW1</td>\n",
       "      <td>0.0</td>\n",
       "      <td>ca stwd cmntys-a-ref</td>\n",
       "      <td>100.0</td>\n",
       "      <td>5</td>\n",
       "      <td>37.619444</td>\n",
       "      <td>3.999</td>\n",
       "      <td>0</td>\n",
       "      <td>0</td>\n",
       "      <td>...</td>\n",
       "      <td>0</td>\n",
       "      <td>0</td>\n",
       "      <td>0</td>\n",
       "      <td>0</td>\n",
       "      <td>0</td>\n",
       "      <td>0</td>\n",
       "      <td>1</td>\n",
       "      <td>-2.060</td>\n",
       "      <td>7.912500</td>\n",
       "      <td>35577</td>\n",
       "    </tr>\n",
       "    <tr>\n",
       "      <th>1</th>\n",
       "      <td>4.0</td>\n",
       "      <td>13080SMW1</td>\n",
       "      <td>0.0</td>\n",
       "      <td>ca stwd cmntys-a-ref</td>\n",
       "      <td>100.0</td>\n",
       "      <td>5</td>\n",
       "      <td>37.619444</td>\n",
       "      <td>3.999</td>\n",
       "      <td>0</td>\n",
       "      <td>0</td>\n",
       "      <td>...</td>\n",
       "      <td>0</td>\n",
       "      <td>0</td>\n",
       "      <td>0</td>\n",
       "      <td>0</td>\n",
       "      <td>0</td>\n",
       "      <td>0</td>\n",
       "      <td>1</td>\n",
       "      <td>-2.060</td>\n",
       "      <td>7.925694</td>\n",
       "      <td>35577</td>\n",
       "    </tr>\n",
       "    <tr>\n",
       "      <th>2</th>\n",
       "      <td>4.0</td>\n",
       "      <td>13080SMW1</td>\n",
       "      <td>0.0</td>\n",
       "      <td>ca stwd cmntys-a-ref</td>\n",
       "      <td>100.0</td>\n",
       "      <td>5</td>\n",
       "      <td>37.619444</td>\n",
       "      <td>3.999</td>\n",
       "      <td>0</td>\n",
       "      <td>0</td>\n",
       "      <td>...</td>\n",
       "      <td>0</td>\n",
       "      <td>0</td>\n",
       "      <td>0</td>\n",
       "      <td>0</td>\n",
       "      <td>0</td>\n",
       "      <td>0</td>\n",
       "      <td>1</td>\n",
       "      <td>-3.475</td>\n",
       "      <td>7.942361</td>\n",
       "      <td>35577</td>\n",
       "    </tr>\n",
       "    <tr>\n",
       "      <th>3</th>\n",
       "      <td>4.0</td>\n",
       "      <td>13080SMW1</td>\n",
       "      <td>0.0</td>\n",
       "      <td>ca stwd cmntys-a-ref</td>\n",
       "      <td>100.0</td>\n",
       "      <td>5</td>\n",
       "      <td>37.619444</td>\n",
       "      <td>3.999</td>\n",
       "      <td>0</td>\n",
       "      <td>0</td>\n",
       "      <td>...</td>\n",
       "      <td>0</td>\n",
       "      <td>0</td>\n",
       "      <td>0</td>\n",
       "      <td>0</td>\n",
       "      <td>0</td>\n",
       "      <td>0</td>\n",
       "      <td>1</td>\n",
       "      <td>-2.060</td>\n",
       "      <td>7.971528</td>\n",
       "      <td>35577</td>\n",
       "    </tr>\n",
       "    <tr>\n",
       "      <th>4</th>\n",
       "      <td>4.0</td>\n",
       "      <td>13080SMW1</td>\n",
       "      <td>0.0</td>\n",
       "      <td>ca stwd cmntys-a-ref</td>\n",
       "      <td>100.0</td>\n",
       "      <td>5</td>\n",
       "      <td>37.619444</td>\n",
       "      <td>3.999</td>\n",
       "      <td>0</td>\n",
       "      <td>0</td>\n",
       "      <td>...</td>\n",
       "      <td>0</td>\n",
       "      <td>0</td>\n",
       "      <td>0</td>\n",
       "      <td>0</td>\n",
       "      <td>0</td>\n",
       "      <td>0</td>\n",
       "      <td>1</td>\n",
       "      <td>-2.060</td>\n",
       "      <td>7.999306</td>\n",
       "      <td>35577</td>\n",
       "    </tr>\n",
       "  </tbody>\n",
       "</table>\n",
       "<p>5 rows × 116 columns</p>\n",
       "</div>"
      ],
      "text/plain": [
       "   coupon      cusip  maturity                  name  price  rtg  tradedate  \\\n",
       "0     4.0  13080SMW1       0.0  ca stwd cmntys-a-ref  100.0    5  37.619444   \n",
       "1     4.0  13080SMW1       0.0  ca stwd cmntys-a-ref  100.0    5  37.619444   \n",
       "2     4.0  13080SMW1       0.0  ca stwd cmntys-a-ref  100.0    5  37.619444   \n",
       "3     4.0  13080SMW1       0.0  ca stwd cmntys-a-ref  100.0    5  37.619444   \n",
       "4     4.0  13080SMW1       0.0  ca stwd cmntys-a-ref  100.0    5  37.619444   \n",
       "\n",
       "   yield  Alabama  Alaska   ...     TAX INCRMT./ALLCTN.REV.  TELECOM REVENUE  \\\n",
       "0  3.999        0       0   ...                           0                0   \n",
       "1  3.999        0       0   ...                           0                0   \n",
       "2  3.999        0       0   ...                           0                0   \n",
       "3  3.999        0       0   ...                           0                0   \n",
       "4  3.999        0       0   ...                           0                0   \n",
       "\n",
       "   TOBACCO & LIQUOR TAXES  TOBACCO SETTLEMENT FUNDED  TRANSIT REVENUE  \\\n",
       "0                       0                          0                0   \n",
       "1                       0                          0                0   \n",
       "2                       0                          0                0   \n",
       "3                       0                          0                0   \n",
       "4                       0                          0                0   \n",
       "\n",
       "   WATER REVENUE  tradetype  dprice  holdtime  d_index  \n",
       "0              0          1  -2.060  7.912500    35577  \n",
       "1              0          1  -2.060  7.925694    35577  \n",
       "2              0          1  -3.475  7.942361    35577  \n",
       "3              0          1  -2.060  7.971528    35577  \n",
       "4              0          1  -2.060  7.999306    35577  \n",
       "\n",
       "[5 rows x 116 columns]"
      ]
     },
     "execution_count": 95,
     "metadata": {},
     "output_type": "execute_result"
    }
   ],
   "source": [
    "s_new.head()"
   ]
  },
  {
   "cell_type": "code",
   "execution_count": 96,
   "metadata": {
    "collapsed": false,
    "deletable": true,
    "editable": true
   },
   "outputs": [],
   "source": [
    "dprice_jan = s_jan.pop('dprice')\n",
    "dprice_new = s_new.pop('dprice')"
   ]
  },
  {
   "cell_type": "code",
   "execution_count": 97,
   "metadata": {
    "collapsed": false,
    "deletable": true,
    "editable": true
   },
   "outputs": [],
   "source": [
    "d_index_jan = s_jan.pop('d_index')\n",
    "d_index_new = s_new.pop('d_index')\n",
    "s_jan_1 = s_jan.drop(['tradetype', 'cusip', 'name', 'yield'], axis = 1)\n",
    "s_new_1 = s_new.drop(['tradetype', 'cusip', 'name', 'yield'], axis = 1)"
   ]
  },
  {
   "cell_type": "code",
   "execution_count": 98,
   "metadata": {
    "collapsed": false,
    "deletable": true,
    "editable": true
   },
   "outputs": [
    {
     "data": {
      "text/html": [
       "<div>\n",
       "<table border=\"1\" class=\"dataframe\">\n",
       "  <thead>\n",
       "    <tr style=\"text-align: right;\">\n",
       "      <th></th>\n",
       "      <th>coupon</th>\n",
       "      <th>maturity</th>\n",
       "      <th>price</th>\n",
       "      <th>rtg</th>\n",
       "      <th>tradedate</th>\n",
       "      <th>Alabama</th>\n",
       "      <th>Alaska</th>\n",
       "      <th>Arizona</th>\n",
       "      <th>Arkansas</th>\n",
       "      <th>California</th>\n",
       "      <th>...</th>\n",
       "      <th>SPECIAL ASSESSMENT</th>\n",
       "      <th>SPECIAL TAX</th>\n",
       "      <th>STUDENT LOAN REVENUE</th>\n",
       "      <th>TAX INCRMT./ALLCTN.REV.</th>\n",
       "      <th>TELECOM REVENUE</th>\n",
       "      <th>TOBACCO &amp; LIQUOR TAXES</th>\n",
       "      <th>TOBACCO SETTLEMENT FUNDED</th>\n",
       "      <th>TRANSIT REVENUE</th>\n",
       "      <th>WATER REVENUE</th>\n",
       "      <th>holdtime</th>\n",
       "    </tr>\n",
       "  </thead>\n",
       "  <tbody>\n",
       "    <tr>\n",
       "      <th>0</th>\n",
       "      <td>4.0</td>\n",
       "      <td>6635.0</td>\n",
       "      <td>99.507</td>\n",
       "      <td>6</td>\n",
       "      <td>2.0</td>\n",
       "      <td>0</td>\n",
       "      <td>0</td>\n",
       "      <td>0</td>\n",
       "      <td>0</td>\n",
       "      <td>0</td>\n",
       "      <td>...</td>\n",
       "      <td>0</td>\n",
       "      <td>0</td>\n",
       "      <td>0</td>\n",
       "      <td>0</td>\n",
       "      <td>0</td>\n",
       "      <td>0</td>\n",
       "      <td>0</td>\n",
       "      <td>0</td>\n",
       "      <td>0</td>\n",
       "      <td>1.0</td>\n",
       "    </tr>\n",
       "    <tr>\n",
       "      <th>1</th>\n",
       "      <td>4.0</td>\n",
       "      <td>6635.0</td>\n",
       "      <td>99.507</td>\n",
       "      <td>6</td>\n",
       "      <td>2.0</td>\n",
       "      <td>0</td>\n",
       "      <td>0</td>\n",
       "      <td>0</td>\n",
       "      <td>0</td>\n",
       "      <td>0</td>\n",
       "      <td>...</td>\n",
       "      <td>0</td>\n",
       "      <td>0</td>\n",
       "      <td>0</td>\n",
       "      <td>0</td>\n",
       "      <td>0</td>\n",
       "      <td>0</td>\n",
       "      <td>0</td>\n",
       "      <td>0</td>\n",
       "      <td>0</td>\n",
       "      <td>1.0</td>\n",
       "    </tr>\n",
       "    <tr>\n",
       "      <th>2</th>\n",
       "      <td>4.0</td>\n",
       "      <td>6635.0</td>\n",
       "      <td>99.507</td>\n",
       "      <td>6</td>\n",
       "      <td>2.0</td>\n",
       "      <td>0</td>\n",
       "      <td>0</td>\n",
       "      <td>0</td>\n",
       "      <td>0</td>\n",
       "      <td>0</td>\n",
       "      <td>...</td>\n",
       "      <td>0</td>\n",
       "      <td>0</td>\n",
       "      <td>0</td>\n",
       "      <td>0</td>\n",
       "      <td>0</td>\n",
       "      <td>0</td>\n",
       "      <td>0</td>\n",
       "      <td>0</td>\n",
       "      <td>0</td>\n",
       "      <td>6.0</td>\n",
       "    </tr>\n",
       "    <tr>\n",
       "      <th>3</th>\n",
       "      <td>4.0</td>\n",
       "      <td>6635.0</td>\n",
       "      <td>99.507</td>\n",
       "      <td>6</td>\n",
       "      <td>2.0</td>\n",
       "      <td>0</td>\n",
       "      <td>0</td>\n",
       "      <td>0</td>\n",
       "      <td>0</td>\n",
       "      <td>0</td>\n",
       "      <td>...</td>\n",
       "      <td>0</td>\n",
       "      <td>0</td>\n",
       "      <td>0</td>\n",
       "      <td>0</td>\n",
       "      <td>0</td>\n",
       "      <td>0</td>\n",
       "      <td>0</td>\n",
       "      <td>0</td>\n",
       "      <td>0</td>\n",
       "      <td>8.0</td>\n",
       "    </tr>\n",
       "    <tr>\n",
       "      <th>4</th>\n",
       "      <td>4.0</td>\n",
       "      <td>6635.0</td>\n",
       "      <td>99.507</td>\n",
       "      <td>6</td>\n",
       "      <td>2.0</td>\n",
       "      <td>0</td>\n",
       "      <td>0</td>\n",
       "      <td>0</td>\n",
       "      <td>0</td>\n",
       "      <td>0</td>\n",
       "      <td>...</td>\n",
       "      <td>0</td>\n",
       "      <td>0</td>\n",
       "      <td>0</td>\n",
       "      <td>0</td>\n",
       "      <td>0</td>\n",
       "      <td>0</td>\n",
       "      <td>0</td>\n",
       "      <td>0</td>\n",
       "      <td>0</td>\n",
       "      <td>10.0</td>\n",
       "    </tr>\n",
       "  </tbody>\n",
       "</table>\n",
       "<p>5 rows × 110 columns</p>\n",
       "</div>"
      ],
      "text/plain": [
       "   coupon  maturity   price  rtg  tradedate  Alabama  Alaska  Arizona  \\\n",
       "0     4.0    6635.0  99.507    6        2.0        0       0        0   \n",
       "1     4.0    6635.0  99.507    6        2.0        0       0        0   \n",
       "2     4.0    6635.0  99.507    6        2.0        0       0        0   \n",
       "3     4.0    6635.0  99.507    6        2.0        0       0        0   \n",
       "4     4.0    6635.0  99.507    6        2.0        0       0        0   \n",
       "\n",
       "   Arkansas  California    ...     SPECIAL ASSESSMENT  SPECIAL TAX  \\\n",
       "0         0           0    ...                      0            0   \n",
       "1         0           0    ...                      0            0   \n",
       "2         0           0    ...                      0            0   \n",
       "3         0           0    ...                      0            0   \n",
       "4         0           0    ...                      0            0   \n",
       "\n",
       "   STUDENT LOAN REVENUE  TAX INCRMT./ALLCTN.REV.  TELECOM REVENUE  \\\n",
       "0                     0                        0                0   \n",
       "1                     0                        0                0   \n",
       "2                     0                        0                0   \n",
       "3                     0                        0                0   \n",
       "4                     0                        0                0   \n",
       "\n",
       "   TOBACCO & LIQUOR TAXES  TOBACCO SETTLEMENT FUNDED  TRANSIT REVENUE  \\\n",
       "0                       0                          0                0   \n",
       "1                       0                          0                0   \n",
       "2                       0                          0                0   \n",
       "3                       0                          0                0   \n",
       "4                       0                          0                0   \n",
       "\n",
       "   WATER REVENUE  holdtime  \n",
       "0              0       1.0  \n",
       "1              0       1.0  \n",
       "2              0       6.0  \n",
       "3              0       8.0  \n",
       "4              0      10.0  \n",
       "\n",
       "[5 rows x 110 columns]"
      ]
     },
     "execution_count": 98,
     "metadata": {},
     "output_type": "execute_result"
    }
   ],
   "source": [
    "s_jan_1.head()"
   ]
  },
  {
   "cell_type": "code",
   "execution_count": 111,
   "metadata": {
    "collapsed": false,
    "deletable": true,
    "editable": true
   },
   "outputs": [],
   "source": [
    "clf = RandomForestRegressor(max_depth = 10, n_estimators = 50)"
   ]
  },
  {
   "cell_type": "code",
   "execution_count": 113,
   "metadata": {
    "collapsed": false,
    "deletable": true,
    "editable": true
   },
   "outputs": [
    {
     "data": {
      "text/plain": [
       "RandomForestRegressor(bootstrap=True, criterion='mse', max_depth=10,\n",
       "           max_features='auto', max_leaf_nodes=None,\n",
       "           min_impurity_split=1e-07, min_samples_leaf=1,\n",
       "           min_samples_split=2, min_weight_fraction_leaf=0.0,\n",
       "           n_estimators=50, n_jobs=1, oob_score=False, random_state=None,\n",
       "           verbose=0, warm_start=False)"
      ]
     },
     "execution_count": 113,
     "metadata": {},
     "output_type": "execute_result"
    }
   ],
   "source": [
    "clf.fit(s_jan_1, dprice_jan)"
   ]
  },
  {
   "cell_type": "code",
   "execution_count": 115,
   "metadata": {
    "collapsed": false,
    "deletable": true,
    "editable": true
   },
   "outputs": [
    {
     "data": {
      "image/png": "[encoded data removed]",
      "text/plain": [
       "<matplotlib.figure.Figure at 0x7f9068379250>"
      ]
     },
     "metadata": {},
     "output_type": "display_data"
    }
   ],
   "source": [
    "dp_predict = clf.predict(s_new_1)\n",
    "#dp_predict_old = clf.predict(s_jan_1)\n",
    "cnf_matrix = confusion_matrix((dprice_new>0).astype(np.int), (dp_predict>0).astype(np.int))\n",
    "plt.figure()\n",
    "visualize.plot_confusion_matrix(cnf_matrix, classes=[0, 1], title='Confusion matrix, without normalization')\n",
    "plt.show()"
   ]
  },
  {
   "cell_type": "code",
   "execution_count": 102,
   "metadata": {
    "collapsed": false,
    "deletable": true,
    "editable": true
   },
   "outputs": [
    {
     "data": {
      "text/plain": [
       "177     0.281\n",
       "192     0.375\n",
       "223     0.176\n",
       "229     0.075\n",
       "951     0.266\n",
       "956     0.334\n",
       "962     0.724\n",
       "966     0.722\n",
       "967     0.030\n",
       "1062    0.079\n",
       "1066    0.077\n",
       "Name: dprice, dtype: float64"
      ]
     },
     "execution_count": 102,
     "metadata": {},
     "output_type": "execute_result"
    }
   ],
   "source": [
    "dprice_new[dprice_new > 0]"
   ]
  },
  {
   "cell_type": "code",
   "execution_count": 20,
   "metadata": {
    "collapsed": false,
    "deletable": true,
    "editable": true
   },
   "outputs": [
    {
     "data": {
      "text/plain": [
       "96.525000000000006"
      ]
     },
     "execution_count": 20,
     "metadata": {},
     "output_type": "execute_result"
    }
   ],
   "source": []
  },
  {
   "cell_type": "code",
   "execution_count": 21,
   "metadata": {
    "collapsed": false,
    "deletable": true,
    "editable": true
   },
   "outputs": [
    {
     "data": {
      "text/plain": [
       "100.7"
      ]
     },
     "execution_count": 21,
     "metadata": {},
     "output_type": "execute_result"
    }
   ],
   "source": []
  },
  {
   "cell_type": "code",
   "execution_count": 106,
   "metadata": {
    "collapsed": false,
    "deletable": true,
    "editable": true
   },
   "outputs": [
    {
     "data": {
      "text/plain": [
       "1.4072970650219945"
      ]
     },
     "execution_count": 106,
     "metadata": {},
     "output_type": "execute_result"
    }
   ],
   "source": [
    "np.sqrt(np.sum((dp_predict - dprice_new.values)**2)/dprice_new.shape[0])"
   ]
  },
  {
   "cell_type": "code",
   "execution_count": 107,
   "metadata": {
    "collapsed": false,
    "deletable": true,
    "editable": true
   },
   "outputs": [
    {
     "data": {
      "text/plain": [
       "array([-0.29416135, -0.29416135, -0.29416135, -0.29416135, -0.29416135,\n",
       "       -0.29858335, -0.29858335, -0.29858335, -0.34630401, -0.26251347])"
      ]
     },
     "execution_count": 107,
     "metadata": {},
     "output_type": "execute_result"
    }
   ],
   "source": [
    "dp_predict[:10]"
   ]
  },
  {
   "cell_type": "code",
   "execution_count": 108,
   "metadata": {
    "collapsed": false,
    "deletable": true,
    "editable": true
   },
   "outputs": [
    {
     "data": {
      "text/plain": [
       "0   -2.060\n",
       "1   -2.060\n",
       "2   -3.475\n",
       "3   -2.060\n",
       "4   -2.060\n",
       "5   -2.000\n",
       "6   -2.000\n",
       "7   -2.000\n",
       "8   -1.750\n",
       "9   -2.060\n",
       "Name: dprice, dtype: float64"
      ]
     },
     "execution_count": 108,
     "metadata": {},
     "output_type": "execute_result"
    }
   ],
   "source": [
    "dprice_new[:10]"
   ]
  },
  {
   "cell_type": "code",
   "execution_count": 117,
   "metadata": {
    "collapsed": false,
    "deletable": true,
    "editable": true
   },
   "outputs": [
    {
     "data": {
      "text/plain": [
       "Index([u'coupon', u'cusip', u'maturity', u'name', u'price', u'rtg',\n",
       "       u'tradedate', u'yield', u'Alabama', u'Alaska',\n",
       "       ...\n",
       "       u'SPECIAL TAX', u'STUDENT LOAN REVENUE', u'TAX INCRMT./ALLCTN.REV.',\n",
       "       u'TELECOM REVENUE', u'TOBACCO & LIQUOR TAXES',\n",
       "       u'TOBACCO SETTLEMENT FUNDED', u'TRANSIT REVENUE', u'WATER REVENUE',\n",
       "       u'tradetype', u'holdtime'],\n",
       "      dtype='object', length=114)"
      ]
     },
     "execution_count": 117,
     "metadata": {},
     "output_type": "execute_result"
    }
   ],
   "source": [
    "s_jan.columns"
   ]
  },
  {
   "cell_type": "code",
   "execution_count": 118,
   "metadata": {
    "collapsed": false,
    "deletable": true,
    "editable": true
   },
   "outputs": [
    {
     "data": {
      "text/plain": [
       "0   -0.762\n",
       "1    0.376\n",
       "2    0.473\n",
       "3    1.614\n",
       "4    1.272\n",
       "5   -0.211\n",
       "6    0.126\n",
       "7   -0.306\n",
       "8   -2.240\n",
       "9   -0.665\n",
       "Name: dprice, dtype: float64"
      ]
     },
     "execution_count": 118,
     "metadata": {},
     "output_type": "execute_result"
    }
   ],
   "source": [
    "dprice_jan[:10]"
   ]
  },
  {
   "cell_type": "code",
   "execution_count": 119,
   "metadata": {
    "collapsed": false,
    "deletable": true,
    "editable": true
   },
   "outputs": [
    {
     "data": {
      "text/plain": [
       "Int64Index([    0,     1,     2,     3,     4,     5,     6,     7,     8,\n",
       "                9,\n",
       "            ...\n",
       "            77175, 77176, 77177, 77178, 77179, 77180, 77181, 77182, 77183,\n",
       "            77184],\n",
       "           dtype='int64', length=77185)"
      ]
     },
     "execution_count": 119,
     "metadata": {},
     "output_type": "execute_result"
    }
   ],
   "source": [
    "dprice_jan.index"
   ]
  },
  {
   "cell_type": "code",
   "execution_count": 120,
   "metadata": {
    "collapsed": false,
    "deletable": true,
    "editable": true
   },
   "outputs": [
    {
     "data": {
      "text/plain": [
       "Int64Index([    0,     1,     2,     3,     4,     5,     6,     7,     8,\n",
       "                9,\n",
       "            ...\n",
       "            77175, 77176, 77177, 77178, 77179, 77180, 77181, 77182, 77183,\n",
       "            77184],\n",
       "           dtype='int64', length=77185)"
      ]
     },
     "execution_count": 120,
     "metadata": {},
     "output_type": "execute_result"
    }
   ],
   "source": [
    "s_jan.index"
   ]
  },
  {
   "cell_type": "code",
   "execution_count": 152,
   "metadata": {
    "collapsed": false,
    "deletable": true,
    "editable": true
   },
   "outputs": [],
   "source": [
    "r = -float('infinity')\n",
    "for s in s_jan.cusip.unique():\n",
    "    I = s_jan.cusip == s\n",
    "    n = dprice_jan[I].mean()*np.sum(dprice_jan[I] > 0)\n",
    "    if n > r:\n",
    "        r = n\n",
    "        s_best = s\n",
    "        "
   ]
  },
  {
   "cell_type": "code",
   "execution_count": 153,
   "metadata": {
    "collapsed": false,
    "deletable": true,
    "editable": true
   },
   "outputs": [
    {
     "data": {
      "text/plain": [
       "'57563RNV7'"
      ]
     },
     "execution_count": 153,
     "metadata": {},
     "output_type": "execute_result"
    }
   ],
   "source": [
    "s_best"
   ]
  },
  {
   "cell_type": "code",
   "execution_count": 154,
   "metadata": {
    "collapsed": false,
    "deletable": true,
    "editable": true
   },
   "outputs": [
    {
     "data": {
      "text/plain": [
       "49.280923664122113"
      ]
     },
     "execution_count": 154,
     "metadata": {},
     "output_type": "execute_result"
    }
   ],
   "source": [
    "r"
   ]
  },
  {
   "cell_type": "code",
   "execution_count": 155,
   "metadata": {
    "collapsed": false,
    "deletable": true,
    "editable": true
   },
   "outputs": [],
   "source": [
    "P = dprice_jan[s_jan.cusip == s_best]"
   ]
  },
  {
   "cell_type": "code",
   "execution_count": 156,
   "metadata": {
    "collapsed": false,
    "deletable": true,
    "editable": true
   },
   "outputs": [
    {
     "data": {
      "text/plain": [
       "51"
      ]
     },
     "execution_count": 156,
     "metadata": {},
     "output_type": "execute_result"
    }
   ],
   "source": [
    "np.sum(P < 0)"
   ]
  },
  {
   "cell_type": "code",
   "execution_count": 157,
   "metadata": {
    "collapsed": false,
    "deletable": true,
    "editable": true
   },
   "outputs": [
    {
     "data": {
      "text/plain": [
       "79"
      ]
     },
     "execution_count": 157,
     "metadata": {},
     "output_type": "execute_result"
    }
   ],
   "source": [
    "np.sum(P > 0)"
   ]
  },
  {
   "cell_type": "code",
   "execution_count": 158,
   "metadata": {
    "collapsed": false,
    "deletable": true,
    "editable": true
   },
   "outputs": [
    {
     "data": {
      "text/plain": [
       "0.62380916030534317"
      ]
     },
     "execution_count": 158,
     "metadata": {},
     "output_type": "execute_result"
    }
   ],
   "source": [
    "P.mean()"
   ]
  },
  {
   "cell_type": "code",
   "execution_count": 159,
   "metadata": {
    "collapsed": false,
    "deletable": true,
    "editable": true
   },
   "outputs": [
    {
     "data": {
      "text/plain": [
       "49.280923664122113"
      ]
     },
     "execution_count": 159,
     "metadata": {},
     "output_type": "execute_result"
    }
   ],
   "source": [
    "P.mean()*np.sum(P>0)"
   ]
  },
  {
   "cell_type": "code",
   "execution_count": null,
   "metadata": {
    "collapsed": true,
    "deletable": true,
    "editable": true
   },
   "outputs": [],
   "source": []
  }
 ],
 "metadata": {
  "kernelspec": {
   "display_name": "Python 2",
   "language": "python",
   "name": "python2"
  },
  "language_info": {
   "codemirror_mode": {
    "name": "ipython",
    "version": 2
   },
   "file_extension": ".py",
   "mimetype": "text/x-python",
   "name": "python",
   "nbconvert_exporter": "python",
   "pygments_lexer": "ipython2",
   "version": "2.7.10"
  }
 },
 "nbformat": 4,
 "nbformat_minor": 2
}
