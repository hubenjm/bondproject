{
 "cells": [
  {
   "cell_type": "code",
   "execution_count": 60,
   "metadata": {
    "collapsed": true
   },
   "outputs": [],
   "source": [
    "import extract\n",
    "import numpy as np\n",
    "from sklearn.feature_extraction import FeatureHasher\n",
    "import pandas as pd\n",
    "import re"
   ]
  },
  {
   "cell_type": "code",
   "execution_count": 2,
   "metadata": {
    "collapsed": false
   },
   "outputs": [
    {
     "name": "stderr",
     "output_type": "stream",
     "text": [
      "/home/mark/Math/bondproject/venv/local/lib/python2.7/site-packages/pandas/core/indexing.py:477: SettingWithCopyWarning: \n",
      "A value is trying to be set on a copy of a slice from a DataFrame.\n",
      "Try using .loc[row_indexer,col_indexer] = value instead\n",
      "\n",
      "See the caveats in the documentation: http://pandas.pydata.org/pandas-docs/stable/indexing.html#indexing-view-versus-copy\n",
      "  self.obj[item] = s\n",
      "/home/mark/Math/bondproject/venv/local/lib/python2.7/site-packages/pandas/core/indexing.py:297: SettingWithCopyWarning: \n",
      "A value is trying to be set on a copy of a slice from a DataFrame.\n",
      "Try using .loc[row_indexer,col_indexer] = value instead\n",
      "\n",
      "See the caveats in the documentation: http://pandas.pydata.org/pandas-docs/stable/indexing.html#indexing-view-versus-copy\n",
      "  self.obj[key] = _infer_fill_value(value)\n"
     ]
    }
   ],
   "source": [
    "d = extract.get_data()\n",
    "d = extract.clean_data(d)"
   ]
  },
  {
   "cell_type": "code",
   "execution_count": 3,
   "metadata": {
    "collapsed": false
   },
   "outputs": [
    {
     "data": {
      "text/html": [
       "<div>\n",
       "<table border=\"1\" class=\"dataframe\">\n",
       "  <thead>\n",
       "    <tr style=\"text-align: right;\">\n",
       "      <th></th>\n",
       "      <th>tradeid</th>\n",
       "      <th>cusip</th>\n",
       "      <th>amount</th>\n",
       "      <th>price</th>\n",
       "      <th>yield</th>\n",
       "      <th>tradedate</th>\n",
       "      <th>tradetype</th>\n",
       "      <th>name</th>\n",
       "      <th>state</th>\n",
       "      <th>coupon</th>\n",
       "      <th>maturity</th>\n",
       "      <th>issuesize</th>\n",
       "      <th>issuetype</th>\n",
       "      <th>issuesource</th>\n",
       "      <th>bidcount</th>\n",
       "      <th>rtg</th>\n",
       "    </tr>\n",
       "  </thead>\n",
       "  <tbody>\n",
       "    <tr>\n",
       "      <th>0</th>\n",
       "      <td>317.0</td>\n",
       "      <td>45471AKG6</td>\n",
       "      <td>5000.0</td>\n",
       "      <td>99.507</td>\n",
       "      <td>4.037</td>\n",
       "      <td>0.0</td>\n",
       "      <td>Sale_to_Customer</td>\n",
       "      <td>indiana st fin auth-a</td>\n",
       "      <td>Indiana</td>\n",
       "      <td>4.00</td>\n",
       "      <td>6635.0</td>\n",
       "      <td>88930000.0</td>\n",
       "      <td>REVENUE BONDS</td>\n",
       "      <td>HLTH, HOSP, NURSHOME REV.</td>\n",
       "      <td>NaN</td>\n",
       "      <td>6</td>\n",
       "    </tr>\n",
       "    <tr>\n",
       "      <th>1</th>\n",
       "      <td>318.0</td>\n",
       "      <td>45471AKG6</td>\n",
       "      <td>30000.0</td>\n",
       "      <td>99.410</td>\n",
       "      <td>4.045</td>\n",
       "      <td>0.0</td>\n",
       "      <td>Sale_to_Customer</td>\n",
       "      <td>indiana st fin auth-a</td>\n",
       "      <td>Indiana</td>\n",
       "      <td>4.00</td>\n",
       "      <td>6635.0</td>\n",
       "      <td>88930000.0</td>\n",
       "      <td>REVENUE BONDS</td>\n",
       "      <td>HLTH, HOSP, NURSHOME REV.</td>\n",
       "      <td>NaN</td>\n",
       "      <td>6</td>\n",
       "    </tr>\n",
       "    <tr>\n",
       "      <th>2</th>\n",
       "      <td>319.0</td>\n",
       "      <td>45471AKG6</td>\n",
       "      <td>30000.0</td>\n",
       "      <td>99.290</td>\n",
       "      <td>4.054</td>\n",
       "      <td>0.0</td>\n",
       "      <td>Purchase_from_Customer</td>\n",
       "      <td>indiana st fin auth-a</td>\n",
       "      <td>Indiana</td>\n",
       "      <td>4.00</td>\n",
       "      <td>6635.0</td>\n",
       "      <td>88930000.0</td>\n",
       "      <td>REVENUE BONDS</td>\n",
       "      <td>HLTH, HOSP, NURSHOME REV.</td>\n",
       "      <td>NaN</td>\n",
       "      <td>6</td>\n",
       "    </tr>\n",
       "    <tr>\n",
       "      <th>3</th>\n",
       "      <td>333.0</td>\n",
       "      <td>45471AMY5</td>\n",
       "      <td>15000.0</td>\n",
       "      <td>103.145</td>\n",
       "      <td>3.717</td>\n",
       "      <td>0.0</td>\n",
       "      <td>Sale_to_Customer</td>\n",
       "      <td>in fin auth-major</td>\n",
       "      <td>Indiana</td>\n",
       "      <td>4.25</td>\n",
       "      <td>6423.0</td>\n",
       "      <td>9520000.0</td>\n",
       "      <td>REVENUE BONDS</td>\n",
       "      <td>HLTH, HOSP, NURSHOME REV.</td>\n",
       "      <td>NaN</td>\n",
       "      <td>9</td>\n",
       "    </tr>\n",
       "    <tr>\n",
       "      <th>4</th>\n",
       "      <td>378.0</td>\n",
       "      <td>4550572N8</td>\n",
       "      <td>150000.0</td>\n",
       "      <td>114.082</td>\n",
       "      <td>2.060</td>\n",
       "      <td>0.0</td>\n",
       "      <td>Sale_to_Customer</td>\n",
       "      <td>in fin auth-ref-a</td>\n",
       "      <td>Indiana</td>\n",
       "      <td>5.00</td>\n",
       "      <td>2894.0</td>\n",
       "      <td>22530000.0</td>\n",
       "      <td>REVENUE BONDS</td>\n",
       "      <td>WATER REVENUE</td>\n",
       "      <td>NaN</td>\n",
       "      <td>1</td>\n",
       "    </tr>\n",
       "  </tbody>\n",
       "</table>\n",
       "</div>"
      ],
      "text/plain": [
       "   tradeid      cusip    amount    price  yield  tradedate  \\\n",
       "0    317.0  45471AKG6    5000.0   99.507  4.037        0.0   \n",
       "1    318.0  45471AKG6   30000.0   99.410  4.045        0.0   \n",
       "2    319.0  45471AKG6   30000.0   99.290  4.054        0.0   \n",
       "3    333.0  45471AMY5   15000.0  103.145  3.717        0.0   \n",
       "4    378.0  4550572N8  150000.0  114.082  2.060        0.0   \n",
       "\n",
       "                tradetype                   name    state  coupon  maturity  \\\n",
       "0        Sale_to_Customer  indiana st fin auth-a  Indiana    4.00    6635.0   \n",
       "1        Sale_to_Customer  indiana st fin auth-a  Indiana    4.00    6635.0   \n",
       "2  Purchase_from_Customer  indiana st fin auth-a  Indiana    4.00    6635.0   \n",
       "3        Sale_to_Customer      in fin auth-major  Indiana    4.25    6423.0   \n",
       "4        Sale_to_Customer      in fin auth-ref-a  Indiana    5.00    2894.0   \n",
       "\n",
       "    issuesize      issuetype                issuesource  bidcount  rtg  \n",
       "0  88930000.0  REVENUE BONDS  HLTH, HOSP, NURSHOME REV.       NaN    6  \n",
       "1  88930000.0  REVENUE BONDS  HLTH, HOSP, NURSHOME REV.       NaN    6  \n",
       "2  88930000.0  REVENUE BONDS  HLTH, HOSP, NURSHOME REV.       NaN    6  \n",
       "3   9520000.0  REVENUE BONDS  HLTH, HOSP, NURSHOME REV.       NaN    9  \n",
       "4  22530000.0  REVENUE BONDS              WATER REVENUE       NaN    1  "
      ]
     },
     "execution_count": 3,
     "metadata": {},
     "output_type": "execute_result"
    }
   ],
   "source": [
    "d.head()"
   ]
  },
  {
   "cell_type": "code",
   "execution_count": 5,
   "metadata": {
    "collapsed": false
   },
   "outputs": [
    {
     "data": {
      "text/plain": [
       "0    indiana st fin auth-a\n",
       "1    indiana st fin auth-a\n",
       "2    indiana st fin auth-a\n",
       "3        in fin auth-major\n",
       "4        in fin auth-ref-a\n",
       "Name: name, dtype: object"
      ]
     },
     "execution_count": 5,
     "metadata": {},
     "output_type": "execute_result"
    }
   ],
   "source": [
    "d.name[:5]"
   ]
  },
  {
   "cell_type": "code",
   "execution_count": 6,
   "metadata": {
    "collapsed": true
   },
   "outputs": [],
   "source": [
    "state_names = list(d.state.unique()) + ['massachusets']\n",
    "state_names = [s.lower() for s in state_names]\n",
    "state_names.sort()"
   ]
  },
  {
   "cell_type": "code",
   "execution_count": 10,
   "metadata": {
    "collapsed": false
   },
   "outputs": [],
   "source": [
    "#remove state_names from string name if they do occur\n",
    "#state names always seem to occur at beginning of name\n",
    "def state_strip(s):\n",
    "    for state in state_names:\n",
    "        if state in s:\n",
    "            s = ''.join(s.split(state))\n",
    "    return s.strip()"
   ]
  },
  {
   "cell_type": "code",
   "execution_count": 14,
   "metadata": {
    "collapsed": false
   },
   "outputs": [],
   "source": [
    "state_abbr = [\"AL\", \"AK\", \"AZ\", \"AR\", \"CA\", \"CO\", \"CT\", \"DC\", \"DE\", \"FL\", \"GA\", \n",
    "\t\"HI\", \"ID\", \"IL\", \"IN\", \"IA\", \"KS\", \"KY\", \"LA\", \"ME\", \"MD\", \n",
    "\t\"MA\", \"MI\", \"MN\", \"MS\", \"MO\", \"MT\", \"NE\", \"NV\", \"NH\", \"NJ\", \n",
    "\t\"NM\", \"NY\", \"NC\", \"ND\", \"OH\", \"OK\", \"OR\", \"PA\", \"RI\", \"SC\", \n",
    "\t\"SD\", \"TN\", \"TX\", \"UT\", \"VT\", \"VA\", \"WA\", \"WV\", \"WI\", \"WY\"]\n",
    "state_abbr = [s.lower() for s in state_abbr]\n",
    "\n",
    "def state_abbr_filter(s):\n",
    "\tif s in state_abbr:\n",
    "\t\treturn ''\n",
    "\n",
    "\tfor code in state_abbr:\n",
    "\t\tif \" \" + code + \" \" in s:\n",
    "\t\t\treturn ''.join(s.split(\" \" + code + \" \"))\n",
    "\n",
    "\t\tif \" \" + code in s[-3:]:\n",
    "\t\t\treturn s[:-3]\n",
    "\n",
    "\t\tif code + \" \" in s[:3]:\n",
    "\t\t\treturn s[3:]\n",
    "\t\t\n",
    "\treturn s"
   ]
  },
  {
   "cell_type": "code",
   "execution_count": 15,
   "metadata": {
    "collapsed": false
   },
   "outputs": [],
   "source": [
    "L = d.name.apply(state_strip).apply(state_abbr_filter).str.split(r'[\\-/ ]', expand = True)"
   ]
  },
  {
   "cell_type": "code",
   "execution_count": 35,
   "metadata": {
    "collapsed": false
   },
   "outputs": [
    {
     "data": {
      "text/html": [
       "<div>\n",
       "<table border=\"1\" class=\"dataframe\">\n",
       "  <thead>\n",
       "    <tr style=\"text-align: right;\">\n",
       "      <th></th>\n",
       "      <th>0</th>\n",
       "      <th>1</th>\n",
       "      <th>2</th>\n",
       "      <th>3</th>\n",
       "      <th>4</th>\n",
       "      <th>5</th>\n",
       "      <th>6</th>\n",
       "      <th>7</th>\n",
       "      <th>8</th>\n",
       "    </tr>\n",
       "  </thead>\n",
       "  <tbody>\n",
       "    <tr>\n",
       "      <th>0</th>\n",
       "      <td>st</td>\n",
       "      <td>fin</td>\n",
       "      <td>auth</td>\n",
       "      <td>a</td>\n",
       "      <td></td>\n",
       "      <td></td>\n",
       "      <td></td>\n",
       "      <td></td>\n",
       "      <td></td>\n",
       "    </tr>\n",
       "    <tr>\n",
       "      <th>1</th>\n",
       "      <td>st</td>\n",
       "      <td>fin</td>\n",
       "      <td>auth</td>\n",
       "      <td>a</td>\n",
       "      <td></td>\n",
       "      <td></td>\n",
       "      <td></td>\n",
       "      <td></td>\n",
       "      <td></td>\n",
       "    </tr>\n",
       "    <tr>\n",
       "      <th>2</th>\n",
       "      <td>st</td>\n",
       "      <td>fin</td>\n",
       "      <td>auth</td>\n",
       "      <td>a</td>\n",
       "      <td></td>\n",
       "      <td></td>\n",
       "      <td></td>\n",
       "      <td></td>\n",
       "      <td></td>\n",
       "    </tr>\n",
       "    <tr>\n",
       "      <th>3</th>\n",
       "      <td>fin</td>\n",
       "      <td>auth</td>\n",
       "      <td>major</td>\n",
       "      <td></td>\n",
       "      <td></td>\n",
       "      <td></td>\n",
       "      <td></td>\n",
       "      <td></td>\n",
       "      <td></td>\n",
       "    </tr>\n",
       "    <tr>\n",
       "      <th>4</th>\n",
       "      <td>fin</td>\n",
       "      <td>auth</td>\n",
       "      <td>ref</td>\n",
       "      <td>a</td>\n",
       "      <td></td>\n",
       "      <td></td>\n",
       "      <td></td>\n",
       "      <td></td>\n",
       "      <td></td>\n",
       "    </tr>\n",
       "  </tbody>\n",
       "</table>\n",
       "</div>"
      ],
      "text/plain": [
       "     0     1      2  3 4 5 6 7 8\n",
       "0   st   fin   auth  a          \n",
       "1   st   fin   auth  a          \n",
       "2   st   fin   auth  a          \n",
       "3  fin  auth  major             \n",
       "4  fin  auth    ref  a          "
      ]
     },
     "execution_count": 35,
     "metadata": {},
     "output_type": "execute_result"
    }
   ],
   "source": [
    "mask = L.applymap(lambda x: x is None)\n",
    "cols = L.columns[mask.any()]\n",
    "for col in L[cols]:\n",
    "    L.loc[mask[col], col] = \"\"\n",
    "    \n",
    "L.head()"
   ]
  },
  {
   "cell_type": "code",
   "execution_count": 36,
   "metadata": {
    "collapsed": false
   },
   "outputs": [],
   "source": [
    "fh = FeatureHasher(input_type='string',non_negative=True)"
   ]
  },
  {
   "cell_type": "code",
   "execution_count": 37,
   "metadata": {
    "collapsed": false
   },
   "outputs": [],
   "source": [
    "L_t = fh.transform(L.values)"
   ]
  },
  {
   "cell_type": "code",
   "execution_count": 38,
   "metadata": {
    "collapsed": false
   },
   "outputs": [
    {
     "data": {
      "text/plain": [
       "<35456x1048576 sparse matrix of type '<type 'numpy.float64'>'\n",
       "\twith 159442 stored elements in Compressed Sparse Row format>"
      ]
     },
     "execution_count": 38,
     "metadata": {},
     "output_type": "execute_result"
    }
   ],
   "source": [
    "L_t"
   ]
  },
  {
   "cell_type": "code",
   "execution_count": 39,
   "metadata": {
    "collapsed": false
   },
   "outputs": [
    {
     "data": {
      "text/plain": [
       "scipy.sparse.csr.csr_matrix"
      ]
     },
     "execution_count": 39,
     "metadata": {},
     "output_type": "execute_result"
    }
   ],
   "source": [
    "type(L_t)"
   ]
  },
  {
   "cell_type": "code",
   "execution_count": 40,
   "metadata": {
    "collapsed": false
   },
   "outputs": [
    {
     "data": {
      "text/plain": [
       "5.0"
      ]
     },
     "execution_count": 40,
     "metadata": {},
     "output_type": "execute_result"
    }
   ],
   "source": [
    "L_t[0,0]"
   ]
  },
  {
   "cell_type": "code",
   "execution_count": 41,
   "metadata": {
    "collapsed": false
   },
   "outputs": [
    {
     "data": {
      "text/plain": [
       "(35456, 9)"
      ]
     },
     "execution_count": 41,
     "metadata": {},
     "output_type": "execute_result"
    }
   ],
   "source": [
    "L.shape"
   ]
  },
  {
   "cell_type": "code",
   "execution_count": 48,
   "metadata": {
    "collapsed": false
   },
   "outputs": [
    {
     "data": {
      "text/plain": [
       "2429"
      ]
     },
     "execution_count": 48,
     "metadata": {},
     "output_type": "execute_result"
    }
   ],
   "source": [
    "S.unique().size"
   ]
  },
  {
   "cell_type": "code",
   "execution_count": 49,
   "metadata": {
    "collapsed": false
   },
   "outputs": [
    {
     "data": {
      "text/plain": [
       "array(['indiana st fin auth-a', 'indiana st fin auth-a',\n",
       "       'indiana st fin auth-a', 'in fin auth-major', 'in fin auth-ref-a',\n",
       "       'maryland-second ser b', 'maryland-second ser b',\n",
       "       'maryland-second ser b', 'maryland-second ser b', 'maryland st'], dtype=object)"
      ]
     },
     "execution_count": 49,
     "metadata": {},
     "output_type": "execute_result"
    }
   ],
   "source": [
    "d.name.values[:10]"
   ]
  },
  {
   "cell_type": "code",
   "execution_count": 61,
   "metadata": {
    "collapsed": false
   },
   "outputs": [],
   "source": [
    "pattern = re.compile(r'[\\-/ ]')\n",
    "def clean_text(s):\n",
    "    s = state_strip(s)\n",
    "    s = state_abbr_filter(s)\n",
    "    return re.split(pattern, s)"
   ]
  },
  {
   "cell_type": "code",
   "execution_count": 62,
   "metadata": {
    "collapsed": true
   },
   "outputs": [],
   "source": [
    "X = [clean_text(s) for s in d.name.values]"
   ]
  },
  {
   "cell_type": "code",
   "execution_count": 63,
   "metadata": {
    "collapsed": false
   },
   "outputs": [
    {
     "data": {
      "text/plain": [
       "[['st', 'fin', 'auth', 'a'],\n",
       " ['st', 'fin', 'auth', 'a'],\n",
       " ['st', 'fin', 'auth', 'a'],\n",
       " ['fin', 'auth', 'major'],\n",
       " ['fin', 'auth', 'ref', 'a']]"
      ]
     },
     "execution_count": 63,
     "metadata": {},
     "output_type": "execute_result"
    }
   ],
   "source": [
    "X[:5]"
   ]
  },
  {
   "cell_type": "code",
   "execution_count": 64,
   "metadata": {
    "collapsed": false
   },
   "outputs": [
    {
     "data": {
      "text/plain": [
       "35456"
      ]
     },
     "execution_count": 64,
     "metadata": {},
     "output_type": "execute_result"
    }
   ],
   "source": [
    "len(X)"
   ]
  },
  {
   "cell_type": "code",
   "execution_count": 65,
   "metadata": {
    "collapsed": true
   },
   "outputs": [],
   "source": [
    "fh = FeatureHasher(input_type='string',non_negative=True)"
   ]
  },
  {
   "cell_type": "code",
   "execution_count": 66,
   "metadata": {
    "collapsed": true
   },
   "outputs": [],
   "source": [
    "X_t = fh.transform(X)"
   ]
  },
  {
   "cell_type": "code",
   "execution_count": 67,
   "metadata": {
    "collapsed": false
   },
   "outputs": [
    {
     "data": {
      "text/plain": [
       "scipy.sparse.csr.csr_matrix"
      ]
     },
     "execution_count": 67,
     "metadata": {},
     "output_type": "execute_result"
    }
   ],
   "source": [
    "type(X_t)"
   ]
  },
  {
   "cell_type": "code",
   "execution_count": 68,
   "metadata": {
    "collapsed": false
   },
   "outputs": [
    {
     "data": {
      "text/plain": [
       "(35456, 1048576)"
      ]
     },
     "execution_count": 68,
     "metadata": {},
     "output_type": "execute_result"
    }
   ],
   "source": [
    "X_t.shape"
   ]
  },
  {
   "cell_type": "code",
   "execution_count": 83,
   "metadata": {
    "collapsed": false
   },
   "outputs": [],
   "source": [
    "y = [X_t[j,:].dot(X_t[0,:].T) for j in range(100)]"
   ]
  },
  {
   "cell_type": "code",
   "execution_count": 85,
   "metadata": {
    "collapsed": false
   },
   "outputs": [
    {
     "data": {
      "text/plain": [
       "(1, 1048576)"
      ]
     },
     "execution_count": 85,
     "metadata": {},
     "output_type": "execute_result"
    }
   ],
   "source": [
    "X_t[0,:].shape"
   ]
  },
  {
   "cell_type": "code",
   "execution_count": 87,
   "metadata": {
    "collapsed": false
   },
   "outputs": [
    {
     "data": {
      "text/plain": [
       "{'dtype': numpy.float64,\n",
       " 'input_type': 'string',\n",
       " 'n_features': 1048576,\n",
       " 'non_negative': True}"
      ]
     },
     "execution_count": 87,
     "metadata": {},
     "output_type": "execute_result"
    }
   ],
   "source": [
    "fh.get_params()"
   ]
  },
  {
   "cell_type": "code",
   "execution_count": 88,
   "metadata": {
    "collapsed": false
   },
   "outputs": [
    {
     "data": {
      "text/plain": [
       "2147483648"
      ]
     },
     "execution_count": 88,
     "metadata": {},
     "output_type": "execute_result"
    }
   ],
   "source": [
    "2**31"
   ]
  },
  {
   "cell_type": "code",
   "execution_count": 90,
   "metadata": {
    "collapsed": false
   },
   "outputs": [
    {
     "data": {
      "text/plain": [
       "1048576"
      ]
     },
     "execution_count": 90,
     "metadata": {},
     "output_type": "execute_result"
    }
   ],
   "source": []
  },
  {
   "cell_type": "code",
   "execution_count": null,
   "metadata": {
    "collapsed": true
   },
   "outputs": [],
   "source": []
  }
 ],
 "metadata": {
  "kernelspec": {
   "display_name": "Python 2",
   "language": "python",
   "name": "python2"
  },
  "language_info": {
   "codemirror_mode": {
    "name": "ipython",
    "version": 2
   },
   "file_extension": ".py",
   "mimetype": "text/x-python",
   "name": "python",
   "nbconvert_exporter": "python",
   "pygments_lexer": "ipython2",
   "version": "2.7.10"
  }
 },
 "nbformat": 4,
 "nbformat_minor": 2
}
