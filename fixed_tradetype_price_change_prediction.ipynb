{
 "cells": [
  {
   "cell_type": "code",
   "execution_count": 1,
   "metadata": {
    "collapsed": false,
    "deletable": true,
    "editable": true
   },
   "outputs": [],
   "source": [
    "import numpy as np\n",
    "import pandas as pd\n",
    "import matplotlib.pyplot as plt\n",
    "import extract\n",
    "import visualize\n",
    "from sklearn import tree\n",
    "import pydotplus\n",
    "import seaborn as sns\n",
    "import time"
   ]
  },
  {
   "cell_type": "code",
   "execution_count": 2,
   "metadata": {
    "collapsed": true,
    "deletable": true,
    "editable": true
   },
   "outputs": [],
   "source": [
    "from sklearn.preprocessing import StandardScaler\n",
    "from sklearn import preprocessing\n",
    "from sklearn.model_selection import train_test_split, GridSearchCV\n",
    "from sklearn.model_selection import StratifiedShuffleSplit\n",
    "from sklearn.metrics import confusion_matrix\n",
    "from sklearn.ensemble import RandomForestRegressor\n",
    "from sklearn.tree import DecisionTreeRegressor"
   ]
  },
  {
   "cell_type": "code",
   "execution_count": 3,
   "metadata": {
    "collapsed": false,
    "deletable": true,
    "editable": true
   },
   "outputs": [],
   "source": [
    "s0 = pd.read_csv(\"./data/sale_to_customer_rl_10_price_change_data.csv\", usecols = ['d_index_1', 'd_index_2', 'name',\n",
    "\t\t'cusip', 'state', 'coupon', 'maturity', 'yield', 'issuetype', 'issuesource', 'rtg',\n",
    "\t\t'tradedate', 'tradedate_2', 'price', 'dprice', 'holdtime'])\n",
    "#d = extract.get_data(\"./data/TMC_020617.csv\")\n",
    "#d = extract.clean_data(d)"
   ]
  },
  {
   "cell_type": "code",
   "execution_count": 4,
   "metadata": {
    "collapsed": false,
    "deletable": true,
    "editable": true
   },
   "outputs": [
    {
     "data": {
      "text/html": [
       "<div>\n",
       "<table border=\"1\" class=\"dataframe\">\n",
       "  <thead>\n",
       "    <tr style=\"text-align: right;\">\n",
       "      <th></th>\n",
       "      <th>dprice</th>\n",
       "      <th>holdtime</th>\n",
       "      <th>d_index_1</th>\n",
       "      <th>d_index_2</th>\n",
       "      <th>tradedate_2</th>\n",
       "      <th>cusip</th>\n",
       "      <th>price</th>\n",
       "      <th>yield</th>\n",
       "      <th>tradedate</th>\n",
       "      <th>name</th>\n",
       "      <th>state</th>\n",
       "      <th>coupon</th>\n",
       "      <th>maturity</th>\n",
       "      <th>issuetype</th>\n",
       "      <th>issuesource</th>\n",
       "      <th>rtg</th>\n",
       "    </tr>\n",
       "  </thead>\n",
       "  <tbody>\n",
       "    <tr>\n",
       "      <th>0</th>\n",
       "      <td>0.476</td>\n",
       "      <td>1.0</td>\n",
       "      <td>0</td>\n",
       "      <td>2676</td>\n",
       "      <td>3.0</td>\n",
       "      <td>45471AKG6</td>\n",
       "      <td>99.507</td>\n",
       "      <td>4.037</td>\n",
       "      <td>2.0</td>\n",
       "      <td>indiana st fin auth-a</td>\n",
       "      <td>Indiana</td>\n",
       "      <td>4.0</td>\n",
       "      <td>6692.0</td>\n",
       "      <td>ISSUE TYPE: REVENUE BONDS</td>\n",
       "      <td>ISSUE SOURCE: HLTH, HOSP, NURSHOME REV.</td>\n",
       "      <td>6</td>\n",
       "    </tr>\n",
       "    <tr>\n",
       "      <th>1</th>\n",
       "      <td>0.488</td>\n",
       "      <td>2.0</td>\n",
       "      <td>0</td>\n",
       "      <td>2677</td>\n",
       "      <td>4.0</td>\n",
       "      <td>45471AKG6</td>\n",
       "      <td>99.507</td>\n",
       "      <td>4.037</td>\n",
       "      <td>2.0</td>\n",
       "      <td>indiana st fin auth-a</td>\n",
       "      <td>Indiana</td>\n",
       "      <td>4.0</td>\n",
       "      <td>6692.0</td>\n",
       "      <td>ISSUE TYPE: REVENUE BONDS</td>\n",
       "      <td>ISSUE SOURCE: HLTH, HOSP, NURSHOME REV.</td>\n",
       "      <td>6</td>\n",
       "    </tr>\n",
       "    <tr>\n",
       "      <th>2</th>\n",
       "      <td>3.239</td>\n",
       "      <td>8.0</td>\n",
       "      <td>0</td>\n",
       "      <td>8287</td>\n",
       "      <td>10.0</td>\n",
       "      <td>45471AKG6</td>\n",
       "      <td>99.507</td>\n",
       "      <td>4.037</td>\n",
       "      <td>2.0</td>\n",
       "      <td>indiana st fin auth-a</td>\n",
       "      <td>Indiana</td>\n",
       "      <td>4.0</td>\n",
       "      <td>6692.0</td>\n",
       "      <td>ISSUE TYPE: REVENUE BONDS</td>\n",
       "      <td>ISSUE SOURCE: HLTH, HOSP, NURSHOME REV.</td>\n",
       "      <td>6</td>\n",
       "    </tr>\n",
       "    <tr>\n",
       "      <th>3</th>\n",
       "      <td>3.089</td>\n",
       "      <td>9.0</td>\n",
       "      <td>0</td>\n",
       "      <td>9511</td>\n",
       "      <td>11.0</td>\n",
       "      <td>45471AKG6</td>\n",
       "      <td>99.507</td>\n",
       "      <td>4.037</td>\n",
       "      <td>2.0</td>\n",
       "      <td>indiana st fin auth-a</td>\n",
       "      <td>Indiana</td>\n",
       "      <td>4.0</td>\n",
       "      <td>6692.0</td>\n",
       "      <td>ISSUE TYPE: REVENUE BONDS</td>\n",
       "      <td>ISSUE SOURCE: HLTH, HOSP, NURSHOME REV.</td>\n",
       "      <td>6</td>\n",
       "    </tr>\n",
       "    <tr>\n",
       "      <th>4</th>\n",
       "      <td>3.476</td>\n",
       "      <td>9.0</td>\n",
       "      <td>0</td>\n",
       "      <td>9512</td>\n",
       "      <td>11.0</td>\n",
       "      <td>45471AKG6</td>\n",
       "      <td>99.507</td>\n",
       "      <td>4.037</td>\n",
       "      <td>2.0</td>\n",
       "      <td>indiana st fin auth-a</td>\n",
       "      <td>Indiana</td>\n",
       "      <td>4.0</td>\n",
       "      <td>6692.0</td>\n",
       "      <td>ISSUE TYPE: REVENUE BONDS</td>\n",
       "      <td>ISSUE SOURCE: HLTH, HOSP, NURSHOME REV.</td>\n",
       "      <td>6</td>\n",
       "    </tr>\n",
       "  </tbody>\n",
       "</table>\n",
       "</div>"
      ],
      "text/plain": [
       "   dprice  holdtime  d_index_1  d_index_2  tradedate_2      cusip   price  \\\n",
       "0   0.476       1.0          0       2676          3.0  45471AKG6  99.507   \n",
       "1   0.488       2.0          0       2677          4.0  45471AKG6  99.507   \n",
       "2   3.239       8.0          0       8287         10.0  45471AKG6  99.507   \n",
       "3   3.089       9.0          0       9511         11.0  45471AKG6  99.507   \n",
       "4   3.476       9.0          0       9512         11.0  45471AKG6  99.507   \n",
       "\n",
       "   yield  tradedate                   name    state  coupon  maturity  \\\n",
       "0  4.037        2.0  indiana st fin auth-a  Indiana     4.0    6692.0   \n",
       "1  4.037        2.0  indiana st fin auth-a  Indiana     4.0    6692.0   \n",
       "2  4.037        2.0  indiana st fin auth-a  Indiana     4.0    6692.0   \n",
       "3  4.037        2.0  indiana st fin auth-a  Indiana     4.0    6692.0   \n",
       "4  4.037        2.0  indiana st fin auth-a  Indiana     4.0    6692.0   \n",
       "\n",
       "                   issuetype                              issuesource  rtg  \n",
       "0  ISSUE TYPE: REVENUE BONDS  ISSUE SOURCE: HLTH, HOSP, NURSHOME REV.    6  \n",
       "1  ISSUE TYPE: REVENUE BONDS  ISSUE SOURCE: HLTH, HOSP, NURSHOME REV.    6  \n",
       "2  ISSUE TYPE: REVENUE BONDS  ISSUE SOURCE: HLTH, HOSP, NURSHOME REV.    6  \n",
       "3  ISSUE TYPE: REVENUE BONDS  ISSUE SOURCE: HLTH, HOSP, NURSHOME REV.    6  \n",
       "4  ISSUE TYPE: REVENUE BONDS  ISSUE SOURCE: HLTH, HOSP, NURSHOME REV.    6  "
      ]
     },
     "execution_count": 4,
     "metadata": {},
     "output_type": "execute_result"
    }
   ],
   "source": [
    "s0.head()"
   ]
  },
  {
   "cell_type": "code",
   "execution_count": 5,
   "metadata": {
    "collapsed": false,
    "deletable": true,
    "editable": true
   },
   "outputs": [],
   "source": [
    "#print s0[(s0.cusip == '45471AKG6')&(s0.tradedate == 2.0)]"
   ]
  },
  {
   "cell_type": "code",
   "execution_count": 6,
   "metadata": {
    "collapsed": false,
    "deletable": true,
    "editable": true
   },
   "outputs": [],
   "source": [
    "d_index_1 = s0.pop('d_index_1')\n",
    "d_index_2 = s0.pop('d_index_2')"
   ]
  },
  {
   "cell_type": "code",
   "execution_count": 7,
   "metadata": {
    "collapsed": false,
    "deletable": true,
    "editable": true
   },
   "outputs": [],
   "source": [
    "s_name_features = extract.build_name_features(s0, num_general_words = 50, num_long_words = 100, long_word_length = 5)\n",
    "s_state_features = extract.build_state_features(s0, num_states = None)\n",
    "s_other_features = extract.build_other_text_features(s0, tradetype=False)\n",
    "s = pd.concat([s0.drop(['state', 'name', 'issuetype', 'issuesource', 'cusip', 'price'], axis = 1), s_state_features, s_other_features, s_name_features], axis = 1)\n",
    "s = s.dropna()\n",
    "s = s[s.holdtime < 7] #pick out only data with holdtime < max days"
   ]
  },
  {
   "cell_type": "code",
   "execution_count": 8,
   "metadata": {
    "collapsed": false,
    "deletable": true,
    "editable": true
   },
   "outputs": [
    {
     "data": {
      "text/html": [
       "<div>\n",
       "<table border=\"1\" class=\"dataframe\">\n",
       "  <thead>\n",
       "    <tr style=\"text-align: right;\">\n",
       "      <th></th>\n",
       "      <th>dprice</th>\n",
       "      <th>holdtime</th>\n",
       "      <th>tradedate_2</th>\n",
       "      <th>yield</th>\n",
       "      <th>tradedate</th>\n",
       "      <th>coupon</th>\n",
       "      <th>maturity</th>\n",
       "      <th>rtg</th>\n",
       "      <th>Alabama</th>\n",
       "      <th>Alaska</th>\n",
       "      <th>...</th>\n",
       "      <th>grove</th>\n",
       "      <th>mooresville</th>\n",
       "      <th>antonio</th>\n",
       "      <th>shreveport</th>\n",
       "      <th>hlth</th>\n",
       "      <th>pension</th>\n",
       "      <th>transprtn</th>\n",
       "      <th>turnpike</th>\n",
       "      <th>hartford</th>\n",
       "      <th>nthrnuniv</th>\n",
       "    </tr>\n",
       "  </thead>\n",
       "  <tbody>\n",
       "    <tr>\n",
       "      <th>0</th>\n",
       "      <td>0.476</td>\n",
       "      <td>1.0</td>\n",
       "      <td>3.0</td>\n",
       "      <td>4.037</td>\n",
       "      <td>2.0</td>\n",
       "      <td>4.0</td>\n",
       "      <td>6692.0</td>\n",
       "      <td>6</td>\n",
       "      <td>0</td>\n",
       "      <td>0</td>\n",
       "      <td>...</td>\n",
       "      <td>0</td>\n",
       "      <td>0</td>\n",
       "      <td>0</td>\n",
       "      <td>0</td>\n",
       "      <td>0</td>\n",
       "      <td>0</td>\n",
       "      <td>0</td>\n",
       "      <td>0</td>\n",
       "      <td>0</td>\n",
       "      <td>0</td>\n",
       "    </tr>\n",
       "    <tr>\n",
       "      <th>1</th>\n",
       "      <td>0.488</td>\n",
       "      <td>2.0</td>\n",
       "      <td>4.0</td>\n",
       "      <td>4.037</td>\n",
       "      <td>2.0</td>\n",
       "      <td>4.0</td>\n",
       "      <td>6692.0</td>\n",
       "      <td>6</td>\n",
       "      <td>0</td>\n",
       "      <td>0</td>\n",
       "      <td>...</td>\n",
       "      <td>0</td>\n",
       "      <td>0</td>\n",
       "      <td>0</td>\n",
       "      <td>0</td>\n",
       "      <td>0</td>\n",
       "      <td>0</td>\n",
       "      <td>0</td>\n",
       "      <td>0</td>\n",
       "      <td>0</td>\n",
       "      <td>0</td>\n",
       "    </tr>\n",
       "    <tr>\n",
       "      <th>11</th>\n",
       "      <td>0.573</td>\n",
       "      <td>1.0</td>\n",
       "      <td>3.0</td>\n",
       "      <td>4.045</td>\n",
       "      <td>2.0</td>\n",
       "      <td>4.0</td>\n",
       "      <td>6692.0</td>\n",
       "      <td>6</td>\n",
       "      <td>0</td>\n",
       "      <td>0</td>\n",
       "      <td>...</td>\n",
       "      <td>0</td>\n",
       "      <td>0</td>\n",
       "      <td>0</td>\n",
       "      <td>0</td>\n",
       "      <td>0</td>\n",
       "      <td>0</td>\n",
       "      <td>0</td>\n",
       "      <td>0</td>\n",
       "      <td>0</td>\n",
       "      <td>0</td>\n",
       "    </tr>\n",
       "    <tr>\n",
       "      <th>12</th>\n",
       "      <td>0.585</td>\n",
       "      <td>2.0</td>\n",
       "      <td>4.0</td>\n",
       "      <td>4.045</td>\n",
       "      <td>2.0</td>\n",
       "      <td>4.0</td>\n",
       "      <td>6692.0</td>\n",
       "      <td>6</td>\n",
       "      <td>0</td>\n",
       "      <td>0</td>\n",
       "      <td>...</td>\n",
       "      <td>0</td>\n",
       "      <td>0</td>\n",
       "      <td>0</td>\n",
       "      <td>0</td>\n",
       "      <td>0</td>\n",
       "      <td>0</td>\n",
       "      <td>0</td>\n",
       "      <td>0</td>\n",
       "      <td>0</td>\n",
       "      <td>0</td>\n",
       "    </tr>\n",
       "    <tr>\n",
       "      <th>22</th>\n",
       "      <td>0.012</td>\n",
       "      <td>1.0</td>\n",
       "      <td>4.0</td>\n",
       "      <td>4.000</td>\n",
       "      <td>3.0</td>\n",
       "      <td>4.0</td>\n",
       "      <td>6691.0</td>\n",
       "      <td>6</td>\n",
       "      <td>0</td>\n",
       "      <td>0</td>\n",
       "      <td>...</td>\n",
       "      <td>0</td>\n",
       "      <td>0</td>\n",
       "      <td>0</td>\n",
       "      <td>0</td>\n",
       "      <td>0</td>\n",
       "      <td>0</td>\n",
       "      <td>0</td>\n",
       "      <td>0</td>\n",
       "      <td>0</td>\n",
       "      <td>0</td>\n",
       "    </tr>\n",
       "  </tbody>\n",
       "</table>\n",
       "<p>5 rows × 400 columns</p>\n",
       "</div>"
      ],
      "text/plain": [
       "    dprice  holdtime  tradedate_2  yield  tradedate  coupon  maturity  rtg  \\\n",
       "0    0.476       1.0          3.0  4.037        2.0     4.0    6692.0    6   \n",
       "1    0.488       2.0          4.0  4.037        2.0     4.0    6692.0    6   \n",
       "11   0.573       1.0          3.0  4.045        2.0     4.0    6692.0    6   \n",
       "12   0.585       2.0          4.0  4.045        2.0     4.0    6692.0    6   \n",
       "22   0.012       1.0          4.0  4.000        3.0     4.0    6691.0    6   \n",
       "\n",
       "    Alabama  Alaska    ...      grove  mooresville  antonio  shreveport  hlth  \\\n",
       "0         0       0    ...          0            0        0           0     0   \n",
       "1         0       0    ...          0            0        0           0     0   \n",
       "11        0       0    ...          0            0        0           0     0   \n",
       "12        0       0    ...          0            0        0           0     0   \n",
       "22        0       0    ...          0            0        0           0     0   \n",
       "\n",
       "    pension  transprtn  turnpike  hartford  nthrnuniv  \n",
       "0         0          0         0         0          0  \n",
       "1         0          0         0         0          0  \n",
       "11        0          0         0         0          0  \n",
       "12        0          0         0         0          0  \n",
       "22        0          0         0         0          0  \n",
       "\n",
       "[5 rows x 400 columns]"
      ]
     },
     "execution_count": 8,
     "metadata": {},
     "output_type": "execute_result"
    }
   ],
   "source": [
    "s.head()"
   ]
  },
  {
   "cell_type": "markdown",
   "metadata": {
    "deletable": true,
    "editable": true
   },
   "source": [
    "### Try a Random Forest Regressor"
   ]
  },
  {
   "cell_type": "code",
   "execution_count": 9,
   "metadata": {
    "collapsed": false,
    "deletable": true,
    "editable": true
   },
   "outputs": [],
   "source": [
    "dprice = s.pop('dprice')"
   ]
  },
  {
   "cell_type": "code",
   "execution_count": 10,
   "metadata": {
    "collapsed": false,
    "deletable": true,
    "editable": true
   },
   "outputs": [],
   "source": [
    "#s_train, s_test, dp_train, dp_test = train_test_split(s, dprice, test_size=0.20, random_state=180)\n",
    "s_train = s[(s.tradedate < 20)&(s.tradedate_2 < 21)]\n",
    "dp_train = dprice[(s.tradedate < 20)&(s.tradedate_2 < 21)]\n",
    "s_test = s[s.tradedate >= 21]\n",
    "dp_test = dprice[s.tradedate >= 21]"
   ]
  },
  {
   "cell_type": "code",
   "execution_count": 11,
   "metadata": {
    "collapsed": false,
    "deletable": true,
    "editable": true
   },
   "outputs": [
    {
     "data": {
      "text/plain": [
       "66        24.0\n",
       "69        24.0\n",
       "72        30.0\n",
       "74        31.0\n",
       "157       25.0\n",
       "158       25.0\n",
       "159       25.0\n",
       "160       25.0\n",
       "161       25.0\n",
       "162       25.0\n",
       "214       24.0\n",
       "215       24.0\n",
       "222       29.0\n",
       "223       30.0\n",
       "224       30.0\n",
       "291       26.0\n",
       "293       32.0\n",
       "337       26.0\n",
       "341       29.0\n",
       "342       31.0\n",
       "343       31.0\n",
       "344       31.0\n",
       "345       31.0\n",
       "650       29.0\n",
       "651       29.0\n",
       "653       31.0\n",
       "654       31.0\n",
       "1489      24.0\n",
       "1490      26.0\n",
       "1491      26.0\n",
       "          ... \n",
       "212164    29.0\n",
       "212166    31.0\n",
       "212167    29.0\n",
       "212168    31.0\n",
       "212169    31.0\n",
       "212171    29.0\n",
       "212172    29.0\n",
       "212173    30.0\n",
       "212174    31.0\n",
       "212175    31.0\n",
       "212176    31.0\n",
       "212177    31.0\n",
       "212178    29.0\n",
       "212179    29.0\n",
       "212180    29.0\n",
       "212181    29.0\n",
       "212182    29.0\n",
       "212183    30.0\n",
       "212184    30.0\n",
       "212185    26.0\n",
       "212187    32.0\n",
       "212188    32.0\n",
       "212189    32.0\n",
       "212190    29.0\n",
       "212191    30.0\n",
       "212192    31.0\n",
       "212193    31.0\n",
       "212194    31.0\n",
       "212195    31.0\n",
       "212196    31.0\n",
       "Name: tradedate_2, dtype: float64"
      ]
     },
     "execution_count": 11,
     "metadata": {},
     "output_type": "execute_result"
    }
   ],
   "source": [
    "s_train.pop('tradedate_2')\n",
    "s_test.pop('tradedate_2')"
   ]
  },
  {
   "cell_type": "markdown",
   "metadata": {
    "deletable": true,
    "editable": true
   },
   "source": [
    "### Want to optimize the max_depth and n_estimators parameters of the regressor with respect to the percentage of winning predictions that are actually winners. To do this, we construct a custom scorer function"
   ]
  },
  {
   "cell_type": "code",
   "execution_count": 12,
   "metadata": {
    "collapsed": true,
    "deletable": true,
    "editable": true
   },
   "outputs": [],
   "source": [
    "def scorer(clf, X_test, y_test):\n",
    "    #we want to maximize f1 score value = 2*(precision*recall)/(precision + recall)\n",
    "    y_predict = clf.predict(X_test)\n",
    "    recall = float(np.sum(y_predict[y_test > 0] > 0))/np.sum(y_test > 0) #percent of true dprice>0 cases model can predict\n",
    "    precision = float(np.sum(y_test[y_predict > 0] > 0))/np.sum(y_predict > 0) #percent of increases predicted are actually correct\n",
    "    return 2*precision*recall/(precision + recall)"
   ]
  },
  {
   "cell_type": "code",
   "execution_count": 26,
   "metadata": {
    "collapsed": false,
    "deletable": true,
    "editable": true
   },
   "outputs": [],
   "source": [
    "#parameters = {'max_depth':[10, 15, 20, 25], 'n_estimators':[50, 100], 'criterion':['mse']}\n",
    "#rfr = RandomForestRegressor()\n",
    "#clf = GridSearchCV(rfr, param_grid = parameters, scoring = scorer)\n",
    "clf = RandomForestRegressor(max_depth = None, n_estimators = 200, max_features = None)"
   ]
  },
  {
   "cell_type": "code",
   "execution_count": 27,
   "metadata": {
    "collapsed": false,
    "deletable": true,
    "editable": true
   },
   "outputs": [
    {
     "name": "stdout",
     "output_type": "stream",
     "text": [
      "65.5255799294\n"
     ]
    }
   ],
   "source": [
    "t0 = time.time()\n",
    "clf.fit(s_train, dp_train)\n",
    "print time.time() - t0"
   ]
  },
  {
   "cell_type": "code",
   "execution_count": 15,
   "metadata": {
    "collapsed": false,
    "deletable": true,
    "editable": true
   },
   "outputs": [],
   "source": [
    "#clf.cv_results_\n",
    "#estimator = clf.best_estimator_\n",
    "#clf.best_params_"
   ]
  },
  {
   "cell_type": "code",
   "execution_count": 28,
   "metadata": {
    "collapsed": false,
    "deletable": true,
    "editable": true
   },
   "outputs": [],
   "source": [
    "#dp_predict = estimator.predict(s_test)\n",
    "dp_predict = clf.predict(s_test)"
   ]
  },
  {
   "cell_type": "code",
   "execution_count": 29,
   "metadata": {
    "collapsed": false,
    "deletable": true,
    "editable": true
   },
   "outputs": [
    {
     "data": {
      "text/plain": [
       "array([ -9.75634078e-02,   1.35020664e-01,   1.35020664e-01,\n",
       "         3.22809677e-02,   3.22809677e-02,   1.78827976e-02,\n",
       "         2.12017811e-02,   2.12017811e-02,  -6.66036356e-02,\n",
       "        -6.66036356e-02,  -1.26320346e-01,  -3.06686940e-01,\n",
       "        -3.06686940e-01,  -3.06686940e-01,  -7.86841548e-02,\n",
       "        -2.73596497e-01,  -2.73596497e-01,  -2.73596497e-01,\n",
       "        -2.10163055e-01,  -2.10163055e-01,  -2.10163055e-01,\n",
       "        -2.30510299e-01,  -1.19338440e-01,  -2.30111855e-01,\n",
       "        -2.30111855e-01,  -2.66777518e-01,  -2.66777518e-01,\n",
       "        -2.75850851e-01,  -2.75850851e-01,  -2.75850851e-01,\n",
       "        -1.37341557e-01,  -1.37341557e-01,  -1.37341557e-01,\n",
       "        -1.39295586e-01,  -1.39295586e-01,  -1.39295586e-01,\n",
       "        -2.10699986e-01,  -5.93570669e-01,  -1.29884224e+00,\n",
       "        -1.29884224e+00,  -1.32187974e+00,  -1.30349474e+00,\n",
       "        -2.41774790e-01,  -1.48547619e-04,  -1.84857016e-01,\n",
       "        -2.71149638e-01,  -1.03860094e+00,  -8.24669518e-01,\n",
       "        -1.05178694e+00,  -1.05178694e+00,  -8.13270200e-01,\n",
       "        -1.01464200e+00,  -1.00547804e+00,  -1.88480083e-01,\n",
       "        -8.46185106e-01,   8.05921169e-01,   8.05921169e-01,\n",
       "         8.05921169e-01,   8.05921169e-01,   8.05921169e-01,\n",
       "         8.02825779e-01,   8.02825779e-01,   8.22426703e-01,\n",
       "         8.22426703e-01,   8.22426703e-01,   8.22426703e-01,\n",
       "         8.05921169e-01,   8.05921169e-01,   8.05921169e-01,\n",
       "         8.05921169e-01,   8.05921169e-01,   8.02825779e-01,\n",
       "         8.02825779e-01,   8.22426703e-01,   8.22426703e-01,\n",
       "         8.22426703e-01,   8.22426703e-01,  -1.46882355e-01,\n",
       "        -1.46882355e-01,  -1.46882355e-01,  -1.46882355e-01,\n",
       "        -1.46882355e-01,  -1.83359286e-01,  -1.83359286e-01,\n",
       "        -2.01150000e-01,  -2.01150000e-01,  -2.01150000e-01,\n",
       "        -2.01150000e-01,  -1.46882355e-01,  -1.46882355e-01,\n",
       "        -1.46882355e-01,  -1.46882355e-01,  -1.46882355e-01,\n",
       "        -1.83359286e-01,  -1.83359286e-01,  -2.01150000e-01,\n",
       "        -2.01150000e-01,  -2.01150000e-01,  -2.01150000e-01,\n",
       "        -1.46882355e-01])"
      ]
     },
     "execution_count": 29,
     "metadata": {},
     "output_type": "execute_result"
    }
   ],
   "source": [
    "dp_predict[100:200]"
   ]
  },
  {
   "cell_type": "code",
   "execution_count": 30,
   "metadata": {
    "collapsed": false,
    "deletable": true,
    "editable": true
   },
   "outputs": [
    {
     "data": {
      "text/plain": [
       "1951     0.475\n",
       "1952     0.010\n",
       "1953    -0.065\n",
       "1954     1.829\n",
       "1955     1.754\n",
       "2024     0.169\n",
       "2025     0.200\n",
       "2026     0.200\n",
       "2027     0.031\n",
       "2028     0.031\n",
       "2249    -0.136\n",
       "2250    -0.275\n",
       "2251    -0.194\n",
       "2252    -0.194\n",
       "2254    -0.085\n",
       "2255    -0.224\n",
       "2256    -0.143\n",
       "2257    -0.143\n",
       "2259    -0.139\n",
       "2260    -0.058\n",
       "2261    -0.058\n",
       "2262     0.055\n",
       "2263     0.194\n",
       "2264     0.113\n",
       "2265     0.113\n",
       "2287    -0.035\n",
       "2288    -0.799\n",
       "2289    -0.239\n",
       "2290    -0.317\n",
       "2291    -0.317\n",
       "         ...  \n",
       "36280    1.943\n",
       "36281    1.725\n",
       "36282    1.632\n",
       "36283    2.125\n",
       "36284    0.503\n",
       "36285    0.503\n",
       "36286    1.503\n",
       "36291    0.490\n",
       "36292    0.485\n",
       "36293   -0.522\n",
       "36294    0.396\n",
       "36295    0.943\n",
       "36296    0.725\n",
       "36297    0.632\n",
       "36298    1.125\n",
       "36299   -0.497\n",
       "36300   -0.497\n",
       "36301    0.503\n",
       "36306    0.490\n",
       "36307    0.485\n",
       "36308   -0.522\n",
       "36309    0.396\n",
       "36310    0.943\n",
       "36311    0.725\n",
       "36312    0.632\n",
       "36313    1.125\n",
       "36314   -0.497\n",
       "36315   -0.497\n",
       "36316    0.503\n",
       "36321    0.490\n",
       "Name: dprice, dtype: float64"
      ]
     },
     "execution_count": 30,
     "metadata": {},
     "output_type": "execute_result"
    }
   ],
   "source": [
    "dp_test[100:200]"
   ]
  },
  {
   "cell_type": "code",
   "execution_count": 31,
   "metadata": {
    "collapsed": false,
    "deletable": true,
    "editable": true
   },
   "outputs": [
    {
     "data": {
      "text/plain": [
       "8104"
      ]
     },
     "execution_count": 31,
     "metadata": {},
     "output_type": "execute_result"
    }
   ],
   "source": [
    "I1 = dp_test > 0\n",
    "np.sum(I1)\n",
    "#scorer(estimator, s_test, dp_test)"
   ]
  },
  {
   "cell_type": "markdown",
   "metadata": {
    "deletable": true,
    "editable": true
   },
   "source": [
    "### below: of the actual test cases where price increased, which fraction were predicted by the model to be an increase?"
   ]
  },
  {
   "cell_type": "code",
   "execution_count": 32,
   "metadata": {
    "collapsed": false,
    "deletable": true,
    "editable": true
   },
   "outputs": [
    {
     "data": {
      "text/plain": [
       "0.2639437314906219"
      ]
     },
     "execution_count": 32,
     "metadata": {},
     "output_type": "execute_result"
    }
   ],
   "source": [
    "float(np.sum(dp_predict[I1] > 0))/np.sum(I1)"
   ]
  },
  {
   "cell_type": "code",
   "execution_count": 33,
   "metadata": {
    "collapsed": false,
    "deletable": true,
    "editable": true
   },
   "outputs": [
    {
     "data": {
      "text/plain": [
       "2139"
      ]
     },
     "execution_count": 33,
     "metadata": {},
     "output_type": "execute_result"
    }
   ],
   "source": [
    "I2 = (dp_test > 0) & (dp_predict > 0)\n",
    "np.sum(I2)"
   ]
  },
  {
   "cell_type": "markdown",
   "metadata": {
    "deletable": true,
    "editable": true
   },
   "source": [
    "### below: percentage of samples that were predicted by model to be increase and were actually an increase."
   ]
  },
  {
   "cell_type": "code",
   "execution_count": 34,
   "metadata": {
    "collapsed": false,
    "deletable": true,
    "editable": true
   },
   "outputs": [
    {
     "data": {
      "text/plain": [
       "0.6102710413694722"
      ]
     },
     "execution_count": 34,
     "metadata": {},
     "output_type": "execute_result"
    }
   ],
   "source": [
    "precision_ratio = float(np.sum(I2))/np.sum(dp_predict > 0)\n",
    "precision_ratio"
   ]
  },
  {
   "cell_type": "markdown",
   "metadata": {
    "deletable": true,
    "editable": true
   },
   "source": [
    "### below: percentage of total predictions correct"
   ]
  },
  {
   "cell_type": "code",
   "execution_count": 35,
   "metadata": {
    "collapsed": false,
    "deletable": true,
    "editable": true
   },
   "outputs": [
    {
     "data": {
      "text/plain": [
       "0.5635010419767787"
      ]
     },
     "execution_count": 35,
     "metadata": {},
     "output_type": "execute_result"
    }
   ],
   "source": [
    "float(np.sum((dp_predict>0) == (dp_test>0)))/dp_test.size"
   ]
  },
  {
   "cell_type": "code",
   "execution_count": 36,
   "metadata": {
    "collapsed": false,
    "deletable": true,
    "editable": true
   },
   "outputs": [
    {
     "data": {
      "image/png": "[encoded data removed]",
      "text/plain": [
       "<matplotlib.figure.Figure at 0x7f5bcab26d90>"
      ]
     },
     "metadata": {},
     "output_type": "display_data"
    }
   ],
   "source": [
    "cnf_matrix = confusion_matrix((dp_test>0).astype(np.int), (dp_predict>0).astype(np.int))\n",
    "fig = visualize.plot_confusion_matrix(cnf_matrix, classes=[0, 1], fontsize = 20, normalize = False, title='Confusion matrix, without normalization', cmap = plt.cm.Greens)\n",
    "plt.show()\n"
   ]
  },
  {
   "cell_type": "code",
   "execution_count": 39,
   "metadata": {
    "collapsed": false,
    "deletable": true,
    "editable": true
   },
   "outputs": [
    {
     "data": {
      "image/png": "[encoded data removed]",
      "text/plain": [
       "<matplotlib.figure.Figure at 0x7f5bc8409310>"
      ]
     },
     "metadata": {},
     "output_type": "display_data"
    }
   ],
   "source": [
    "cnf_matrix = confusion_matrix((dp_train>0).astype(np.int), (clf.predict(s_train)>0).astype(np.int))\n",
    "fig = visualize.plot_confusion_matrix(cnf_matrix, classes=[0, 1], fontsize = 20, tick_fontsize = 16, cmap = plt.cm.Greens, title='Confusion matrix, without normalization')\n",
    "plt.show()"
   ]
  },
  {
   "cell_type": "markdown",
   "metadata": {
    "deletable": true,
    "editable": true
   },
   "source": [
    "### For correctly predicted winners, what are typical values of dprice? Also plot distribution of dprice_test when winner is predicted but it's actually a loser on same axes."
   ]
  },
  {
   "cell_type": "code",
   "execution_count": 95,
   "metadata": {
    "collapsed": false,
    "deletable": true,
    "editable": true
   },
   "outputs": [
    {
     "data": {
      "image/png": "[encoded data removed]",
      "text/plain": [
       "<matplotlib.figure.Figure at 0x7f5bc72dc8d0>"
      ]
     },
     "metadata": {},
     "output_type": "display_data"
    }
   ],
   "source": [
    "I2 = (dp_test > 0) & (dp_predict > 0)\n",
    "dp_slice_winner = dp_test[I2]\n",
    "dp_slice_loser = dp_test[(dp_test < 0) & (dp_predict > 0)]\n",
    "#print dp_slice_loser.min(), dp_slice_loser.max(), dp_slice_loser.mean()\n",
    "ax1 = sns.distplot(dp_slice_loser.values)\n",
    "ax2 = sns.distplot(dp_slice_winner.values)\n",
    "ax2.set_title('Distribution of dprice')\n",
    "sns.set_context(\"notebook\", font_scale=2, rc={\"lines.linewidth\": 2.5})\n",
    "plt.show()"
   ]
  },
  {
   "cell_type": "code",
   "execution_count": 100,
   "metadata": {
    "collapsed": false,
    "deletable": true,
    "editable": true
   },
   "outputs": [
    {
     "data": {
      "image/png": "[encoded data removed]",
      "text/plain": [
       "<matplotlib.figure.Figure at 0x7f5bca9d1a10>"
      ]
     },
     "metadata": {},
     "output_type": "display_data"
    },
    {
     "name": "stdout",
     "output_type": "stream",
     "text": [
      "0.392461055635 1.04502861857\n"
     ]
    }
   ],
   "source": [
    "dp_predict_winner_density = dp_test[dp_predict > 0]\n",
    "ax = sns.distplot(dp_predict_winner_density)\n",
    "#ax.set_xlabel('dprice', fontsize = 20)\n",
    "ax.set_title('Distribution of dprice[d_predict > 0]')\n",
    "sns.set_context(\"notebook\", font_scale=2, rc={\"lines.linewidth\": 2.5})\n",
    "plt.show()\n",
    "print dp_predict_winner_density.mean(), dp_predict_winner_density.std()"
   ]
  },
  {
   "cell_type": "code",
   "execution_count": 102,
   "metadata": {
    "collapsed": false,
    "deletable": true,
    "editable": true
   },
   "outputs": [
    {
     "data": {
      "image/png": "[encoded data removed]",
      "text/plain": [
       "<matplotlib.figure.Figure at 0x7f5bc7487d90>"
      ]
     },
     "metadata": {},
     "output_type": "display_data"
    },
    {
     "name": "stdout",
     "output_type": "stream",
     "text": [
      "-0.050765525454 1.65736986126\n"
     ]
    }
   ],
   "source": [
    "ax1 = sns.distplot(dp_test)\n",
    "ax2 = sns.distplot(dp_predict_winner_density)\n",
    "ax1.set_title('Distribution of dprice over entire test set')\n",
    "#sns.distplot(dp_predict_winner_density)\n",
    "plt.show()\n",
    "print dp_test.mean(), dp_test.std()"
   ]
  },
  {
   "cell_type": "code",
   "execution_count": 103,
   "metadata": {
    "collapsed": false,
    "deletable": true,
    "editable": true
   },
   "outputs": [
    {
     "data": {
      "image/png": "[encoded data removed]",
      "text/plain": [
       "<matplotlib.figure.Figure at 0x7f5bca840310>"
      ]
     },
     "metadata": {},
     "output_type": "display_data"
    },
    {
     "name": "stdout",
     "output_type": "stream",
     "text": [
      "-0.1676586155 1.76576672672\n"
     ]
    }
   ],
   "source": [
    "#distribution of dprice when dp_predict < 0\n",
    "dp_predict_loser_density = dp_test[dp_predict < 0]\n",
    "sns.distplot(dp_predict_loser_density)\n",
    "plt.show()\n",
    "print dp_predict_loser_density.mean(), dp_predict_loser_density.std()"
   ]
  },
  {
   "cell_type": "code",
   "execution_count": 105,
   "metadata": {
    "collapsed": false,
    "deletable": true,
    "editable": true
   },
   "outputs": [
    {
     "name": "stdout",
     "output_type": "stream",
     "text": [
      "-0.050765525454 1.65736986126\n",
      "0.251807142051 1.05489608799\n"
     ]
    }
   ],
   "source": [
    "print dp_test.mean(), dp_test.std()\n",
    "print dp_train.mean(), dp_train.std()"
   ]
  },
  {
   "cell_type": "markdown",
   "metadata": {
    "deletable": true,
    "editable": true
   },
   "source": [
    "### Expected gains"
   ]
  },
  {
   "cell_type": "code",
   "execution_count": 106,
   "metadata": {
    "collapsed": false,
    "deletable": true,
    "editable": true
   },
   "outputs": [
    {
     "name": "stdout",
     "output_type": "stream",
     "text": [
      "0.392461055635\n"
     ]
    }
   ],
   "source": [
    "I3 = dp_predict > 0\n",
    "E = np.sum(dp_test[I3])/np.sum(I3)\n",
    "print E"
   ]
  },
  {
   "cell_type": "code",
   "execution_count": 107,
   "metadata": {
    "collapsed": false,
    "deletable": true,
    "editable": true
   },
   "outputs": [
    {
     "data": {
      "text/plain": [
       "array([  8.67601931e-02,   4.03860117e-01,   1.20003426e-01,\n",
       "         4.36566299e-02,   1.01096667e-01,   2.39937164e-02,\n",
       "         1.48120294e-03,   3.01850899e-06,   2.49280981e-04,\n",
       "         3.23610197e-06,   3.24851416e-03,   1.79761376e-04,\n",
       "         1.85272171e-03,   6.90822372e-05,   1.09882801e-04,\n",
       "         1.72714362e-03,   6.46722580e-04,   2.41710428e-05,\n",
       "         1.30167930e-04,   9.98120718e-06])"
      ]
     },
     "execution_count": 107,
     "metadata": {},
     "output_type": "execute_result"
    }
   ],
   "source": [
    "#clf.best_estimator_.feature_importances_[:20]\n",
    "clf.feature_importances_[:20]"
   ]
  },
  {
   "cell_type": "code",
   "execution_count": 108,
   "metadata": {
    "collapsed": false,
    "deletable": true,
    "editable": true
   },
   "outputs": [
    {
     "data": {
      "text/plain": [
       "[1,\n",
       " 2,\n",
       " 4,\n",
       " 0,\n",
       " 3,\n",
       " 5,\n",
       " 265,\n",
       " 36,\n",
       " 263,\n",
       " 66,\n",
       " 305,\n",
       " 75,\n",
       " 371,\n",
       " 342,\n",
       " 77,\n",
       " 74,\n",
       " 10,\n",
       " 273,\n",
       " 290,\n",
       " 65]"
      ]
     },
     "execution_count": 108,
     "metadata": {},
     "output_type": "execute_result"
    }
   ],
   "source": [
    "#important_features_indices = np.where(clf.best_estimator_.feature_importances_ > 0.01)\n",
    "#ordered_indices = sorted(range(s.shape[1]), key=clf.best_estimator_.feature_importances_.__getitem__)\n",
    "important_features_indices = np.where(clf.feature_importances_ > 0.001)\n",
    "ordered_indices = sorted(range(s_train.shape[1]), key=clf.feature_importances_.__getitem__)\n",
    "ordered_indices.reverse()\n",
    "ordered_indices[:20]"
   ]
  },
  {
   "cell_type": "code",
   "execution_count": 110,
   "metadata": {
    "collapsed": false,
    "deletable": true,
    "editable": true
   },
   "outputs": [
    {
     "name": "stdout",
     "output_type": "stream",
     "text": [
      "YIELD\n",
      "TRADEDATE\n",
      "MATURITY\n",
      "HOLDTIME\n",
      "COUPON\n",
      "RTG\n",
      "STWD\n",
      "NEW JERSEY\n",
      "CMNTYS\n",
      "ISSUE SOURCE: APPROPRIATIONS\n",
      "REF\n",
      "ISSUE SOURCE: GOVT. FD./GRANT REV.\n",
      "ST\n",
      "SWR\n",
      "ISSUE SOURCE: HLTH, HOSP, NURSHOME REV.\n",
      "ISSUE SOURCE: GENERAL FUND\n",
      "CALIFORNIA\n",
      "AUTH\n",
      "EL\n",
      "ISSUE SOURCE: AD VALOREM PROPERTY TAX\n"
     ]
    }
   ],
   "source": [
    "for w in list(s_train.columns[ordered_indices[:20]]):\n",
    "    print w.upper()"
   ]
  },
  {
   "cell_type": "code",
   "execution_count": 64,
   "metadata": {
    "collapsed": false,
    "deletable": true,
    "editable": true
   },
   "outputs": [
    {
     "data": {
      "text/plain": [
       "array([ 0.40407752,  0.12045415,  0.10076672,  0.0861519 ,  0.04279848,\n",
       "        0.02316493,  0.01666474,  0.01627966,  0.01539632,  0.01512607,\n",
       "        0.00897266,  0.00508616,  0.00469607,  0.00440517,  0.00414884,\n",
       "        0.00385342,  0.00362448,  0.00298066,  0.00293387,  0.0028853 ])"
      ]
     },
     "execution_count": 64,
     "metadata": {},
     "output_type": "execute_result"
    }
   ],
   "source": [
    "#clf.best_estimator_.feature_importances_[ordered_indices[:20]]\n",
    "clf.feature_importances_[ordered_indices[:20]]"
   ]
  },
  {
   "cell_type": "code",
   "execution_count": 111,
   "metadata": {
    "collapsed": false,
    "deletable": true,
    "editable": true
   },
   "outputs": [
    {
     "name": "stdout",
     "output_type": "stream",
     "text": [
      "0.710606813431\n"
     ]
    }
   ],
   "source": [
    "clf_dec = DecisionTreeRegressor()\n",
    "t0 = time.time()\n",
    "clf_dec.fit(s_train, dp_train)\n",
    "print time.time() - t0"
   ]
  },
  {
   "cell_type": "code",
   "execution_count": 112,
   "metadata": {
    "collapsed": true
   },
   "outputs": [],
   "source": [
    "dp_predict_dec = clf_dec.predict(s_test)"
   ]
  },
  {
   "cell_type": "code",
   "execution_count": 113,
   "metadata": {
    "collapsed": false
   },
   "outputs": [
    {
     "data": {
      "image/png": "[encoded data removed]",
      "text/plain": [
       "<matplotlib.figure.Figure at 0x7f5bca80cd10>"
      ]
     },
     "metadata": {},
     "output_type": "display_data"
    }
   ],
   "source": [
    "cnf_matrix = confusion_matrix((dp_test>0).astype(np.int), (dp_predict_dec>0).astype(np.int))\n",
    "fig = visualize.plot_confusion_matrix(cnf_matrix, classes=[0, 1], fontsize = 20, normalize = False, title='Confusion matrix, without normalization', cmap = plt.cm.Greens)\n",
    "plt.show()"
   ]
  },
  {
   "cell_type": "code",
   "execution_count": 114,
   "metadata": {
    "collapsed": false
   },
   "outputs": [
    {
     "data": {
      "image/png": "[encoded data removed]",
      "text/plain": [
       "<matplotlib.figure.Figure at 0x7f5bc682e710>"
      ]
     },
     "metadata": {},
     "output_type": "display_data"
    },
    {
     "name": "stdout",
     "output_type": "stream",
     "text": [
      "0.202126814224 1.26038631121\n"
     ]
    }
   ],
   "source": [
    "dp_predict_dec_winner_density = dp_test[dp_predict_dec > 0]\n",
    "ax = sns.distplot(dp_predict_dec_winner_density)\n",
    "#ax.set_xlabel('dprice', fontsize = 20)\n",
    "ax.set_title('Distribution of dprice[d_predict > 0]')\n",
    "sns.set_context(\"notebook\", font_scale=2, rc={\"lines.linewidth\": 2.5})\n",
    "plt.show()\n",
    "print dp_predict_dec_winner_density.mean(), dp_predict_dec_winner_density.std()"
   ]
  },
  {
   "cell_type": "code",
   "execution_count": 115,
   "metadata": {
    "collapsed": true
   },
   "outputs": [],
   "source": [
    "tree.export_graphviz(clf_dec, 'dprice_decision_tree.dot', max_depth = 5, filled = True, feature_names = list(s_test.columns))"
   ]
  },
  {
   "cell_type": "code",
   "execution_count": null,
   "metadata": {
    "collapsed": true
   },
   "outputs": [],
   "source": []
  }
 ],
 "metadata": {
  "kernelspec": {
   "display_name": "Python 2",
   "language": "python",
   "name": "python2"
  },
  "language_info": {
   "codemirror_mode": {
    "name": "ipython",
    "version": 2
   },
   "file_extension": ".py",
   "mimetype": "text/x-python",
   "name": "python",
   "nbconvert_exporter": "python",
   "pygments_lexer": "ipython2",
   "version": "2.7.12"
  }
 },
 "nbformat": 4,
 "nbformat_minor": 2
}
