{
 "cells": [
  {
   "cell_type": "code",
   "execution_count": 1,
   "metadata": {
    "collapsed": false,
    "deletable": true,
    "editable": true
   },
   "outputs": [],
   "source": [
    "import numpy as np\n",
    "import pandas as pd\n",
    "import matplotlib.pyplot as plt\n",
    "import extract\n",
    "import visualize\n",
    "from sklearn import tree\n",
    "import pydotplus\n",
    "import seaborn as sns\n",
    "import time"
   ]
  },
  {
   "cell_type": "code",
   "execution_count": 2,
   "metadata": {
    "collapsed": true,
    "deletable": true,
    "editable": true
   },
   "outputs": [],
   "source": [
    "from sklearn.preprocessing import StandardScaler\n",
    "from sklearn import preprocessing\n",
    "from sklearn.model_selection import train_test_split, GridSearchCV\n",
    "from sklearn.model_selection import StratifiedShuffleSplit\n",
    "from sklearn.metrics import confusion_matrix\n",
    "from sklearn.ensemble import RandomForestRegressor\n",
    "from sklearn.tree import DecisionTreeRegressor"
   ]
  },
  {
   "cell_type": "code",
   "execution_count": 3,
   "metadata": {
    "collapsed": false,
    "deletable": true,
    "editable": true
   },
   "outputs": [],
   "source": [
    "s0 = pd.read_csv(\"./data/sale_to_customer_rl_10_price_change_data.csv\", usecols = ['d_index_1', 'd_index_2', 'name',\n",
    "\t\t'cusip', 'state', 'coupon', 'maturity', 'yield', 'issuetype', 'issuesource', 'rtg',\n",
    "\t\t'tradedate', 'tradedate_2', 'price', 'dprice', 'holdtime'])\n",
    "#d = extract.get_data(\"./data/TMC_020617.csv\")\n",
    "#d = extract.clean_data(d)"
   ]
  },
  {
   "cell_type": "code",
   "execution_count": 4,
   "metadata": {
    "collapsed": false,
    "deletable": true,
    "editable": true
   },
   "outputs": [
    {
     "data": {
      "text/html": [
       "<div>\n",
       "<table border=\"1\" class=\"dataframe\">\n",
       "  <thead>\n",
       "    <tr style=\"text-align: right;\">\n",
       "      <th></th>\n",
       "      <th>dprice</th>\n",
       "      <th>holdtime</th>\n",
       "      <th>d_index_1</th>\n",
       "      <th>d_index_2</th>\n",
       "      <th>tradedate_2</th>\n",
       "      <th>cusip</th>\n",
       "      <th>price</th>\n",
       "      <th>yield</th>\n",
       "      <th>tradedate</th>\n",
       "      <th>name</th>\n",
       "      <th>state</th>\n",
       "      <th>coupon</th>\n",
       "      <th>maturity</th>\n",
       "      <th>issuetype</th>\n",
       "      <th>issuesource</th>\n",
       "      <th>rtg</th>\n",
       "    </tr>\n",
       "  </thead>\n",
       "  <tbody>\n",
       "    <tr>\n",
       "      <th>0</th>\n",
       "      <td>0.476</td>\n",
       "      <td>1.0</td>\n",
       "      <td>0</td>\n",
       "      <td>2676</td>\n",
       "      <td>3.0</td>\n",
       "      <td>45471AKG6</td>\n",
       "      <td>99.507</td>\n",
       "      <td>4.037</td>\n",
       "      <td>2.0</td>\n",
       "      <td>indiana st fin auth-a</td>\n",
       "      <td>Indiana</td>\n",
       "      <td>4.0</td>\n",
       "      <td>6692.0</td>\n",
       "      <td>ISSUE TYPE: REVENUE BONDS</td>\n",
       "      <td>ISSUE SOURCE: HLTH, HOSP, NURSHOME REV.</td>\n",
       "      <td>6</td>\n",
       "    </tr>\n",
       "    <tr>\n",
       "      <th>1</th>\n",
       "      <td>0.488</td>\n",
       "      <td>2.0</td>\n",
       "      <td>0</td>\n",
       "      <td>2677</td>\n",
       "      <td>4.0</td>\n",
       "      <td>45471AKG6</td>\n",
       "      <td>99.507</td>\n",
       "      <td>4.037</td>\n",
       "      <td>2.0</td>\n",
       "      <td>indiana st fin auth-a</td>\n",
       "      <td>Indiana</td>\n",
       "      <td>4.0</td>\n",
       "      <td>6692.0</td>\n",
       "      <td>ISSUE TYPE: REVENUE BONDS</td>\n",
       "      <td>ISSUE SOURCE: HLTH, HOSP, NURSHOME REV.</td>\n",
       "      <td>6</td>\n",
       "    </tr>\n",
       "    <tr>\n",
       "      <th>2</th>\n",
       "      <td>3.239</td>\n",
       "      <td>8.0</td>\n",
       "      <td>0</td>\n",
       "      <td>8287</td>\n",
       "      <td>10.0</td>\n",
       "      <td>45471AKG6</td>\n",
       "      <td>99.507</td>\n",
       "      <td>4.037</td>\n",
       "      <td>2.0</td>\n",
       "      <td>indiana st fin auth-a</td>\n",
       "      <td>Indiana</td>\n",
       "      <td>4.0</td>\n",
       "      <td>6692.0</td>\n",
       "      <td>ISSUE TYPE: REVENUE BONDS</td>\n",
       "      <td>ISSUE SOURCE: HLTH, HOSP, NURSHOME REV.</td>\n",
       "      <td>6</td>\n",
       "    </tr>\n",
       "    <tr>\n",
       "      <th>3</th>\n",
       "      <td>3.089</td>\n",
       "      <td>9.0</td>\n",
       "      <td>0</td>\n",
       "      <td>9511</td>\n",
       "      <td>11.0</td>\n",
       "      <td>45471AKG6</td>\n",
       "      <td>99.507</td>\n",
       "      <td>4.037</td>\n",
       "      <td>2.0</td>\n",
       "      <td>indiana st fin auth-a</td>\n",
       "      <td>Indiana</td>\n",
       "      <td>4.0</td>\n",
       "      <td>6692.0</td>\n",
       "      <td>ISSUE TYPE: REVENUE BONDS</td>\n",
       "      <td>ISSUE SOURCE: HLTH, HOSP, NURSHOME REV.</td>\n",
       "      <td>6</td>\n",
       "    </tr>\n",
       "    <tr>\n",
       "      <th>4</th>\n",
       "      <td>3.476</td>\n",
       "      <td>9.0</td>\n",
       "      <td>0</td>\n",
       "      <td>9512</td>\n",
       "      <td>11.0</td>\n",
       "      <td>45471AKG6</td>\n",
       "      <td>99.507</td>\n",
       "      <td>4.037</td>\n",
       "      <td>2.0</td>\n",
       "      <td>indiana st fin auth-a</td>\n",
       "      <td>Indiana</td>\n",
       "      <td>4.0</td>\n",
       "      <td>6692.0</td>\n",
       "      <td>ISSUE TYPE: REVENUE BONDS</td>\n",
       "      <td>ISSUE SOURCE: HLTH, HOSP, NURSHOME REV.</td>\n",
       "      <td>6</td>\n",
       "    </tr>\n",
       "  </tbody>\n",
       "</table>\n",
       "</div>"
      ],
      "text/plain": [
       "   dprice  holdtime  d_index_1  d_index_2  tradedate_2      cusip   price  \\\n",
       "0   0.476       1.0          0       2676          3.0  45471AKG6  99.507   \n",
       "1   0.488       2.0          0       2677          4.0  45471AKG6  99.507   \n",
       "2   3.239       8.0          0       8287         10.0  45471AKG6  99.507   \n",
       "3   3.089       9.0          0       9511         11.0  45471AKG6  99.507   \n",
       "4   3.476       9.0          0       9512         11.0  45471AKG6  99.507   \n",
       "\n",
       "   yield  tradedate                   name    state  coupon  maturity  \\\n",
       "0  4.037        2.0  indiana st fin auth-a  Indiana     4.0    6692.0   \n",
       "1  4.037        2.0  indiana st fin auth-a  Indiana     4.0    6692.0   \n",
       "2  4.037        2.0  indiana st fin auth-a  Indiana     4.0    6692.0   \n",
       "3  4.037        2.0  indiana st fin auth-a  Indiana     4.0    6692.0   \n",
       "4  4.037        2.0  indiana st fin auth-a  Indiana     4.0    6692.0   \n",
       "\n",
       "                   issuetype                              issuesource  rtg  \n",
       "0  ISSUE TYPE: REVENUE BONDS  ISSUE SOURCE: HLTH, HOSP, NURSHOME REV.    6  \n",
       "1  ISSUE TYPE: REVENUE BONDS  ISSUE SOURCE: HLTH, HOSP, NURSHOME REV.    6  \n",
       "2  ISSUE TYPE: REVENUE BONDS  ISSUE SOURCE: HLTH, HOSP, NURSHOME REV.    6  \n",
       "3  ISSUE TYPE: REVENUE BONDS  ISSUE SOURCE: HLTH, HOSP, NURSHOME REV.    6  \n",
       "4  ISSUE TYPE: REVENUE BONDS  ISSUE SOURCE: HLTH, HOSP, NURSHOME REV.    6  "
      ]
     },
     "execution_count": 4,
     "metadata": {},
     "output_type": "execute_result"
    }
   ],
   "source": [
    "s0.head()"
   ]
  },
  {
   "cell_type": "code",
   "execution_count": 5,
   "metadata": {
    "collapsed": false,
    "deletable": true,
    "editable": true
   },
   "outputs": [],
   "source": [
    "#print s0[(s0.cusip == '45471AKG6')&(s0.tradedate == 2.0)]"
   ]
  },
  {
   "cell_type": "code",
   "execution_count": 6,
   "metadata": {
    "collapsed": false,
    "deletable": true,
    "editable": true
   },
   "outputs": [],
   "source": [
    "d_index_1 = s0.pop('d_index_1')\n",
    "d_index_2 = s0.pop('d_index_2')"
   ]
  },
  {
   "cell_type": "code",
   "execution_count": 7,
   "metadata": {
    "collapsed": false,
    "deletable": true,
    "editable": true
   },
   "outputs": [],
   "source": [
    "s_name_features = extract.build_name_features(s0, num_general_words = 50, num_long_words = 100, long_word_length = 5)\n",
    "s_state_features = extract.build_state_features(s0, num_states = None)\n",
    "s_other_features = extract.build_other_text_features(s0, tradetype=False)\n",
    "s = pd.concat([s0.drop(['state', 'name', 'issuetype', 'issuesource', 'cusip', 'price'], axis = 1), s_state_features, s_other_features, s_name_features], axis = 1)\n",
    "s = s.dropna()\n",
    "s = s[s.holdtime < 7] #pick out only data with holdtime < max days"
   ]
  },
  {
   "cell_type": "code",
   "execution_count": 8,
   "metadata": {
    "collapsed": false,
    "deletable": true,
    "editable": true
   },
   "outputs": [
    {
     "data": {
      "text/html": [
       "<div>\n",
       "<table border=\"1\" class=\"dataframe\">\n",
       "  <thead>\n",
       "    <tr style=\"text-align: right;\">\n",
       "      <th></th>\n",
       "      <th>dprice</th>\n",
       "      <th>holdtime</th>\n",
       "      <th>tradedate_2</th>\n",
       "      <th>yield</th>\n",
       "      <th>tradedate</th>\n",
       "      <th>coupon</th>\n",
       "      <th>maturity</th>\n",
       "      <th>rtg</th>\n",
       "      <th>Alabama</th>\n",
       "      <th>Alaska</th>\n",
       "      <th>...</th>\n",
       "      <th>grove</th>\n",
       "      <th>mooresville</th>\n",
       "      <th>antonio</th>\n",
       "      <th>shreveport</th>\n",
       "      <th>hlth</th>\n",
       "      <th>pension</th>\n",
       "      <th>transprtn</th>\n",
       "      <th>turnpike</th>\n",
       "      <th>hartford</th>\n",
       "      <th>nthrnuniv</th>\n",
       "    </tr>\n",
       "  </thead>\n",
       "  <tbody>\n",
       "    <tr>\n",
       "      <th>0</th>\n",
       "      <td>0.476</td>\n",
       "      <td>1.0</td>\n",
       "      <td>3.0</td>\n",
       "      <td>4.037</td>\n",
       "      <td>2.0</td>\n",
       "      <td>4.0</td>\n",
       "      <td>6692.0</td>\n",
       "      <td>6</td>\n",
       "      <td>0</td>\n",
       "      <td>0</td>\n",
       "      <td>...</td>\n",
       "      <td>0</td>\n",
       "      <td>0</td>\n",
       "      <td>0</td>\n",
       "      <td>0</td>\n",
       "      <td>0</td>\n",
       "      <td>0</td>\n",
       "      <td>0</td>\n",
       "      <td>0</td>\n",
       "      <td>0</td>\n",
       "      <td>0</td>\n",
       "    </tr>\n",
       "    <tr>\n",
       "      <th>1</th>\n",
       "      <td>0.488</td>\n",
       "      <td>2.0</td>\n",
       "      <td>4.0</td>\n",
       "      <td>4.037</td>\n",
       "      <td>2.0</td>\n",
       "      <td>4.0</td>\n",
       "      <td>6692.0</td>\n",
       "      <td>6</td>\n",
       "      <td>0</td>\n",
       "      <td>0</td>\n",
       "      <td>...</td>\n",
       "      <td>0</td>\n",
       "      <td>0</td>\n",
       "      <td>0</td>\n",
       "      <td>0</td>\n",
       "      <td>0</td>\n",
       "      <td>0</td>\n",
       "      <td>0</td>\n",
       "      <td>0</td>\n",
       "      <td>0</td>\n",
       "      <td>0</td>\n",
       "    </tr>\n",
       "    <tr>\n",
       "      <th>11</th>\n",
       "      <td>0.573</td>\n",
       "      <td>1.0</td>\n",
       "      <td>3.0</td>\n",
       "      <td>4.045</td>\n",
       "      <td>2.0</td>\n",
       "      <td>4.0</td>\n",
       "      <td>6692.0</td>\n",
       "      <td>6</td>\n",
       "      <td>0</td>\n",
       "      <td>0</td>\n",
       "      <td>...</td>\n",
       "      <td>0</td>\n",
       "      <td>0</td>\n",
       "      <td>0</td>\n",
       "      <td>0</td>\n",
       "      <td>0</td>\n",
       "      <td>0</td>\n",
       "      <td>0</td>\n",
       "      <td>0</td>\n",
       "      <td>0</td>\n",
       "      <td>0</td>\n",
       "    </tr>\n",
       "    <tr>\n",
       "      <th>12</th>\n",
       "      <td>0.585</td>\n",
       "      <td>2.0</td>\n",
       "      <td>4.0</td>\n",
       "      <td>4.045</td>\n",
       "      <td>2.0</td>\n",
       "      <td>4.0</td>\n",
       "      <td>6692.0</td>\n",
       "      <td>6</td>\n",
       "      <td>0</td>\n",
       "      <td>0</td>\n",
       "      <td>...</td>\n",
       "      <td>0</td>\n",
       "      <td>0</td>\n",
       "      <td>0</td>\n",
       "      <td>0</td>\n",
       "      <td>0</td>\n",
       "      <td>0</td>\n",
       "      <td>0</td>\n",
       "      <td>0</td>\n",
       "      <td>0</td>\n",
       "      <td>0</td>\n",
       "    </tr>\n",
       "    <tr>\n",
       "      <th>22</th>\n",
       "      <td>0.012</td>\n",
       "      <td>1.0</td>\n",
       "      <td>4.0</td>\n",
       "      <td>4.000</td>\n",
       "      <td>3.0</td>\n",
       "      <td>4.0</td>\n",
       "      <td>6691.0</td>\n",
       "      <td>6</td>\n",
       "      <td>0</td>\n",
       "      <td>0</td>\n",
       "      <td>...</td>\n",
       "      <td>0</td>\n",
       "      <td>0</td>\n",
       "      <td>0</td>\n",
       "      <td>0</td>\n",
       "      <td>0</td>\n",
       "      <td>0</td>\n",
       "      <td>0</td>\n",
       "      <td>0</td>\n",
       "      <td>0</td>\n",
       "      <td>0</td>\n",
       "    </tr>\n",
       "  </tbody>\n",
       "</table>\n",
       "<p>5 rows × 400 columns</p>\n",
       "</div>"
      ],
      "text/plain": [
       "    dprice  holdtime  tradedate_2  yield  tradedate  coupon  maturity  rtg  \\\n",
       "0    0.476       1.0          3.0  4.037        2.0     4.0    6692.0    6   \n",
       "1    0.488       2.0          4.0  4.037        2.0     4.0    6692.0    6   \n",
       "11   0.573       1.0          3.0  4.045        2.0     4.0    6692.0    6   \n",
       "12   0.585       2.0          4.0  4.045        2.0     4.0    6692.0    6   \n",
       "22   0.012       1.0          4.0  4.000        3.0     4.0    6691.0    6   \n",
       "\n",
       "    Alabama  Alaska    ...      grove  mooresville  antonio  shreveport  hlth  \\\n",
       "0         0       0    ...          0            0        0           0     0   \n",
       "1         0       0    ...          0            0        0           0     0   \n",
       "11        0       0    ...          0            0        0           0     0   \n",
       "12        0       0    ...          0            0        0           0     0   \n",
       "22        0       0    ...          0            0        0           0     0   \n",
       "\n",
       "    pension  transprtn  turnpike  hartford  nthrnuniv  \n",
       "0         0          0         0         0          0  \n",
       "1         0          0         0         0          0  \n",
       "11        0          0         0         0          0  \n",
       "12        0          0         0         0          0  \n",
       "22        0          0         0         0          0  \n",
       "\n",
       "[5 rows x 400 columns]"
      ]
     },
     "execution_count": 8,
     "metadata": {},
     "output_type": "execute_result"
    }
   ],
   "source": [
    "s.head()"
   ]
  },
  {
   "cell_type": "markdown",
   "metadata": {
    "deletable": true,
    "editable": true
   },
   "source": [
    "### Try a Random Forest Regressor"
   ]
  },
  {
   "cell_type": "code",
   "execution_count": 9,
   "metadata": {
    "collapsed": false,
    "deletable": true,
    "editable": true
   },
   "outputs": [],
   "source": [
    "dprice = s.pop('dprice')"
   ]
  },
  {
   "cell_type": "code",
   "execution_count": 10,
   "metadata": {
    "collapsed": false,
    "deletable": true,
    "editable": true
   },
   "outputs": [],
   "source": [
    "#s_train, s_test, dp_train, dp_test = train_test_split(s, dprice, test_size=0.20, random_state=180)\n",
    "s_train = s[(s.tradedate < 20)&(s.tradedate_2 < 21)]\n",
    "dp_train = dprice[(s.tradedate < 20)&(s.tradedate_2 < 21)]\n",
    "s_test = s[s.tradedate >= 21]\n",
    "dp_test = dprice[s.tradedate >= 21]"
   ]
  },
  {
   "cell_type": "code",
   "execution_count": 11,
   "metadata": {
    "collapsed": false,
    "deletable": true,
    "editable": true
   },
   "outputs": [
    {
     "data": {
      "text/plain": [
       "66        24.0\n",
       "69        24.0\n",
       "72        30.0\n",
       "74        31.0\n",
       "157       25.0\n",
       "158       25.0\n",
       "159       25.0\n",
       "160       25.0\n",
       "161       25.0\n",
       "162       25.0\n",
       "214       24.0\n",
       "215       24.0\n",
       "222       29.0\n",
       "223       30.0\n",
       "224       30.0\n",
       "291       26.0\n",
       "293       32.0\n",
       "337       26.0\n",
       "341       29.0\n",
       "342       31.0\n",
       "343       31.0\n",
       "344       31.0\n",
       "345       31.0\n",
       "650       29.0\n",
       "651       29.0\n",
       "653       31.0\n",
       "654       31.0\n",
       "1489      24.0\n",
       "1490      26.0\n",
       "1491      26.0\n",
       "          ... \n",
       "212164    29.0\n",
       "212166    31.0\n",
       "212167    29.0\n",
       "212168    31.0\n",
       "212169    31.0\n",
       "212171    29.0\n",
       "212172    29.0\n",
       "212173    30.0\n",
       "212174    31.0\n",
       "212175    31.0\n",
       "212176    31.0\n",
       "212177    31.0\n",
       "212178    29.0\n",
       "212179    29.0\n",
       "212180    29.0\n",
       "212181    29.0\n",
       "212182    29.0\n",
       "212183    30.0\n",
       "212184    30.0\n",
       "212185    26.0\n",
       "212187    32.0\n",
       "212188    32.0\n",
       "212189    32.0\n",
       "212190    29.0\n",
       "212191    30.0\n",
       "212192    31.0\n",
       "212193    31.0\n",
       "212194    31.0\n",
       "212195    31.0\n",
       "212196    31.0\n",
       "Name: tradedate_2, dtype: float64"
      ]
     },
     "execution_count": 11,
     "metadata": {},
     "output_type": "execute_result"
    }
   ],
   "source": [
    "s_train.pop('tradedate_2')\n",
    "s_test.pop('tradedate_2')"
   ]
  },
  {
   "cell_type": "markdown",
   "metadata": {
    "deletable": true,
    "editable": true
   },
   "source": [
    "### Want to optimize the max_depth and n_estimators parameters of the regressor with respect to the percentage of winning predictions that are actually winners. To do this, we construct a custom scorer function"
   ]
  },
  {
   "cell_type": "code",
   "execution_count": 12,
   "metadata": {
    "collapsed": true,
    "deletable": true,
    "editable": true
   },
   "outputs": [],
   "source": [
    "def scorer(clf, X_test, y_test):\n",
    "    #we want to maximize f1 score value = 2*(precision*recall)/(precision + recall)\n",
    "    y_predict = clf.predict(X_test)\n",
    "    recall = float(np.sum(y_predict[y_test > 0] > 0))/np.sum(y_test > 0) #percent of true dprice>0 cases model can predict\n",
    "    precision = float(np.sum(y_test[y_predict > 0] > 0))/np.sum(y_predict > 0) #percent of increases predicted are actually correct\n",
    "    return 2*precision*recall/(precision + recall)"
   ]
  },
  {
   "cell_type": "code",
   "execution_count": 12,
   "metadata": {
    "collapsed": false,
    "deletable": true,
    "editable": true
   },
   "outputs": [],
   "source": [
    "#parameters = {'max_depth':[10, 15, 20, 25], 'n_estimators':[50, 100], 'criterion':['mse']}\n",
    "#rfr = RandomForestRegressor()\n",
    "#clf = GridSearchCV(rfr, param_grid = parameters, scoring = scorer)\n",
    "clf = RandomForestRegressor(max_depth = None, n_estimators = 200, max_features = None, random_state = 27)"
   ]
  },
  {
   "cell_type": "code",
   "execution_count": 13,
   "metadata": {
    "collapsed": false,
    "deletable": true,
    "editable": true
   },
   "outputs": [
    {
     "name": "stdout",
     "output_type": "stream",
     "text": [
      "133.505023003\n"
     ]
    }
   ],
   "source": [
    "t0 = time.time()\n",
    "clf.fit(s_train, dp_train)\n",
    "print time.time() - t0"
   ]
  },
  {
   "cell_type": "code",
   "execution_count": 14,
   "metadata": {
    "collapsed": false,
    "deletable": true,
    "editable": true
   },
   "outputs": [],
   "source": [
    "#clf.cv_results_\n",
    "#estimator = clf.best_estimator_\n",
    "#clf.best_params_"
   ]
  },
  {
   "cell_type": "code",
   "execution_count": 15,
   "metadata": {
    "collapsed": false,
    "deletable": true,
    "editable": true
   },
   "outputs": [],
   "source": [
    "#dp_predict = estimator.predict(s_test)\n",
    "dp_predict = clf.predict(s_test)"
   ]
  },
  {
   "cell_type": "code",
   "execution_count": null,
   "metadata": {
    "collapsed": false,
    "deletable": true,
    "editable": true
   },
   "outputs": [],
   "source": []
  },
  {
   "cell_type": "code",
   "execution_count": null,
   "metadata": {
    "collapsed": false,
    "deletable": true,
    "editable": true
   },
   "outputs": [],
   "source": []
  },
  {
   "cell_type": "code",
   "execution_count": 16,
   "metadata": {
    "collapsed": false,
    "deletable": true,
    "editable": true
   },
   "outputs": [
    {
     "data": {
      "text/plain": [
       "8104"
      ]
     },
     "execution_count": 16,
     "metadata": {},
     "output_type": "execute_result"
    }
   ],
   "source": [
    "I1 = dp_test > 0\n",
    "np.sum(I1)\n",
    "#scorer(estimator, s_test, dp_test)"
   ]
  },
  {
   "cell_type": "markdown",
   "metadata": {
    "deletable": true,
    "editable": true
   },
   "source": [
    "### below: of the actual test cases where price increased, which fraction were predicted by the model to be an increase?"
   ]
  },
  {
   "cell_type": "code",
   "execution_count": 32,
   "metadata": {
    "collapsed": false,
    "deletable": true,
    "editable": true
   },
   "outputs": [
    {
     "data": {
      "text/plain": [
       "0.25061697926949655"
      ]
     },
     "execution_count": 32,
     "metadata": {},
     "output_type": "execute_result"
    }
   ],
   "source": [
    "float(np.sum(dp_predict[I1] > 0))/np.sum(I1)"
   ]
  },
  {
   "cell_type": "code",
   "execution_count": 33,
   "metadata": {
    "collapsed": false,
    "deletable": true,
    "editable": true
   },
   "outputs": [
    {
     "data": {
      "text/plain": [
       "2031"
      ]
     },
     "execution_count": 33,
     "metadata": {},
     "output_type": "execute_result"
    }
   ],
   "source": [
    "I2 = (dp_test > 0) & (dp_predict > 0)\n",
    "np.sum(I2)"
   ]
  },
  {
   "cell_type": "markdown",
   "metadata": {
    "deletable": true,
    "editable": true
   },
   "source": [
    "### below: percentage of samples that were predicted by model to be increase and were actually an increase."
   ]
  },
  {
   "cell_type": "code",
   "execution_count": 34,
   "metadata": {
    "collapsed": false,
    "deletable": true,
    "editable": true
   },
   "outputs": [
    {
     "data": {
      "text/plain": [
       "0.6111947035811014"
      ]
     },
     "execution_count": 34,
     "metadata": {},
     "output_type": "execute_result"
    }
   ],
   "source": [
    "precision_ratio = float(np.sum(I2))/np.sum(dp_predict > 0)\n",
    "precision_ratio"
   ]
  },
  {
   "cell_type": "markdown",
   "metadata": {
    "deletable": true,
    "editable": true
   },
   "source": [
    "### below: percentage of total predictions correct"
   ]
  },
  {
   "cell_type": "code",
   "execution_count": 20,
   "metadata": {
    "collapsed": false,
    "deletable": true,
    "editable": true
   },
   "outputs": [
    {
     "data": {
      "text/plain": [
       "0.5614766299493897"
      ]
     },
     "execution_count": 20,
     "metadata": {},
     "output_type": "execute_result"
    }
   ],
   "source": [
    "float(np.sum((dp_predict>0) == (dp_test>0)))/dp_test.size"
   ]
  },
  {
   "cell_type": "code",
   "execution_count": 21,
   "metadata": {
    "collapsed": false,
    "deletable": true,
    "editable": true
   },
   "outputs": [
    {
     "data": {
      "image/png": "[encoded data removed]",
      "text/plain": [
       "<matplotlib.figure.Figure at 0x7f12961e8690>"
      ]
     },
     "metadata": {},
     "output_type": "display_data"
    }
   ],
   "source": [
    "cnf_matrix = confusion_matrix((dp_test>0).astype(np.int), (dp_predict>0).astype(np.int))\n",
    "fig = visualize.plot_confusion_matrix(cnf_matrix, classes=[0, 1], fontsize = 20, normalize = False, title='Confusion matrix, without normalization', cmap = plt.cm.Greens)\n",
    "plt.show()\n"
   ]
  },
  {
   "cell_type": "code",
   "execution_count": 22,
   "metadata": {
    "collapsed": false,
    "deletable": true,
    "editable": true
   },
   "outputs": [
    {
     "data": {
      "image/png": "[encoded data removed]",
      "text/plain": [
       "<matplotlib.figure.Figure at 0x7f1294acfad0>"
      ]
     },
     "metadata": {},
     "output_type": "display_data"
    }
   ],
   "source": [
    "cnf_matrix = confusion_matrix((dp_train>0).astype(np.int), (clf.predict(s_train)>0).astype(np.int))\n",
    "fig = visualize.plot_confusion_matrix(cnf_matrix, classes=[0, 1], fontsize = 20, tick_fontsize = 16, cmap = plt.cm.Greens, title='Confusion matrix, without normalization')\n",
    "plt.show()"
   ]
  },
  {
   "cell_type": "markdown",
   "metadata": {
    "deletable": true,
    "editable": true
   },
   "source": [
    "### For correctly predicted winners, what are typical values of dprice? Also plot distribution of dprice_test when winner is predicted but it's actually a loser on same axes."
   ]
  },
  {
   "cell_type": "code",
   "execution_count": 127,
   "metadata": {
    "collapsed": false,
    "deletable": true,
    "editable": true
   },
   "outputs": [],
   "source": [
    "#I2 = (dp_test > 0) & (dp_predict > 0)\n",
    "#dp_slice_winner = dp_test[I2]\n",
    "#dp_slice_loser = dp_test[(dp_test < 0) & (dp_predict > 0)]\n",
    "#print dp_slice_loser.min(), dp_slice_loser.max(), dp_slice_loser.mean()\n",
    "#ax1 = sns.distplot(dp_slice_loser.values)\n",
    "#ax2 = sns.distplot(dp_slice_winner.values)\n",
    "#ax2.set_title('Distribution of dprice')\n",
    "#sns.set_context(\"notebook\", font_scale=2, rc={\"lines.linewidth\": 2.5})\n",
    "#plt.show()"
   ]
  },
  {
   "cell_type": "code",
   "execution_count": 31,
   "metadata": {
    "collapsed": false,
    "deletable": true,
    "editable": true
   },
   "outputs": [
    {
     "data": {
      "image/png": "[encoded data removed]",
      "text/plain": [
       "<matplotlib.figure.Figure at 0x7f1294794890>"
      ]
     },
     "metadata": {},
     "output_type": "display_data"
    },
    {
     "name": "stdout",
     "output_type": "stream",
     "text": [
      "0.39635690641 1.03681654591\n",
      "-0.050765525454 1.65736986126\n"
     ]
    }
   ],
   "source": [
    "dp_predict_winner_density = dp_test[dp_predict > 0]\n",
    "ax = sns.distplot(dp_predict_winner_density, label='prediction')\n",
    "ax2 = sns.distplot(dp_test, label='test')\n",
    "ax.set(xlim = (-5,5))\n",
    "ax2.set(xlim = (-5,5))\n",
    "plt.legend(loc='upper left')\n",
    "ax.set_xlabel('price change', fontsize = 22)\n",
    "#ax.set_title('Distribution of dprice[d_predict > 0]')\n",
    "sns.set_context(\"notebook\", font_scale=2, rc={\"lines.linewidth\": 2.5})\n",
    "plt.show()\n",
    "print dp_predict_winner_density.mean(), dp_predict_winner_density.std()\n",
    "print dp_test.mean(), dp_test.std()"
   ]
  },
  {
   "cell_type": "code",
   "execution_count": 41,
   "metadata": {
    "collapsed": false,
    "deletable": true,
    "editable": true
   },
   "outputs": [
    {
     "name": "stdout",
     "output_type": "stream",
     "text": [
      "-0.050765525454 1.65736986126\n",
      "0.251807142051 1.05489608799\n"
     ]
    }
   ],
   "source": [
    "print dp_test.mean(), dp_test.std()\n",
    "print dp_train.mean(), dp_train.std()"
   ]
  },
  {
   "cell_type": "code",
   "execution_count": 24,
   "metadata": {
    "collapsed": false,
    "deletable": true,
    "editable": true
   },
   "outputs": [
    {
     "data": {
      "text/plain": [
       "0.25145600858369055"
      ]
     },
     "execution_count": 24,
     "metadata": {},
     "output_type": "execute_result"
    }
   ],
   "source": [
    "s_test_index = s_test.index\n",
    "#winners = s0.loc[s_test[(dp_predict > 0) & (dp_test > 0)].index.values, :]\n",
    "winners = s0.loc[s_test[dp_predict > 0].index.values, :]\n",
    "winners.loc[winners.state == 'California', :].dprice.mean()\n",
    "#winners.head()"
   ]
  },
  {
   "cell_type": "code",
   "execution_count": null,
   "metadata": {
    "collapsed": true,
    "deletable": true,
    "editable": true
   },
   "outputs": [],
   "source": []
  },
  {
   "cell_type": "code",
   "execution_count": 25,
   "metadata": {
    "collapsed": false,
    "deletable": true,
    "editable": true
   },
   "outputs": [
    {
     "data": {
      "text/plain": [
       "array([  8.76567804e-02,   4.04685922e-01,   1.19828357e-01,\n",
       "         4.21158373e-02,   1.00554219e-01,   2.46737854e-02,\n",
       "         1.39091564e-03,   5.56177389e-06,   2.73434361e-04,\n",
       "         2.90833103e-06,   3.08182110e-03,   1.72966827e-04,\n",
       "         1.95167356e-03,   5.79217261e-05,   9.93532320e-05,\n",
       "         1.69349350e-03,   6.04366298e-04,   4.33806180e-05,\n",
       "         1.43454703e-04,   9.00031739e-06])"
      ]
     },
     "execution_count": 25,
     "metadata": {},
     "output_type": "execute_result"
    }
   ],
   "source": [
    "#clf.best_estimator_.feature_importances_[:20]\n",
    "clf.feature_importances_[:20]"
   ]
  },
  {
   "cell_type": "code",
   "execution_count": 26,
   "metadata": {
    "collapsed": false,
    "deletable": true,
    "editable": true
   },
   "outputs": [
    {
     "data": {
      "text/plain": [
       "[1,\n",
       " 2,\n",
       " 4,\n",
       " 0,\n",
       " 3,\n",
       " 5,\n",
       " 36,\n",
       " 263,\n",
       " 265,\n",
       " 66,\n",
       " 305,\n",
       " 75,\n",
       " 342,\n",
       " 371,\n",
       " 77,\n",
       " 74,\n",
       " 290,\n",
       " 65,\n",
       " 374,\n",
       " 10]"
      ]
     },
     "execution_count": 26,
     "metadata": {},
     "output_type": "execute_result"
    }
   ],
   "source": [
    "#important_features_indices = np.where(clf.best_estimator_.feature_importances_ > 0.01)\n",
    "#ordered_indices = sorted(range(s.shape[1]), key=clf.best_estimator_.feature_importances_.__getitem__)\n",
    "important_features_indices = np.where(clf.feature_importances_ > 0.001)\n",
    "ordered_indices = sorted(range(s_train.shape[1]), key=clf.feature_importances_.__getitem__)\n",
    "ordered_indices.reverse()\n",
    "ordered_indices[:20]"
   ]
  },
  {
   "cell_type": "code",
   "execution_count": 30,
   "metadata": {
    "collapsed": false,
    "deletable": true,
    "editable": true
   },
   "outputs": [
    {
     "name": "stdout",
     "output_type": "stream",
     "text": [
      "YIELD\n",
      "TRADEDATE\n",
      "MATURITY\n",
      "HOLDTIME\n",
      "COUPON\n",
      "RTG\n",
      "NEW JERSEY\n",
      "CMNTYS\n",
      "STWD\n",
      "ISSUE SOURCE: APPROPRIATIONS\n",
      "REF\n",
      "ISSUE SOURCE: GOVT. FD./GRANT REV.\n",
      "SWR\n",
      "ST\n",
      "ISSUE SOURCE: HLTH, HOSP, NURSHOME REV.\n",
      "ISSUE SOURCE: GENERAL FUND\n",
      "EL\n",
      "ISSUE SOURCE: AD VALOREM PROPERTY TAX\n",
      "PURP\n",
      "CALIFORNIA\n"
     ]
    }
   ],
   "source": [
    "for w in list(s_train.columns[ordered_indices[:20]]):\n",
    "    print w.upper()"
   ]
  },
  {
   "cell_type": "code",
   "execution_count": 181,
   "metadata": {
    "collapsed": false,
    "deletable": true,
    "editable": true
   },
   "outputs": [
    {
     "data": {
      "text/plain": [
       "array([ 0.40468592,  0.11982836,  0.10055422,  0.08765678,  0.04211584,\n",
       "        0.02467379,  0.01737354,  0.01680968,  0.01568277,  0.01436234,\n",
       "        0.00829194,  0.00507605,  0.004854  ,  0.00463271,  0.00425308,\n",
       "        0.00360667,  0.00337317,  0.00311807,  0.00309633,  0.00308182])"
      ]
     },
     "execution_count": 181,
     "metadata": {},
     "output_type": "execute_result"
    }
   ],
   "source": [
    "#clf.best_estimator_.feature_importances_[ordered_indices[:20]]\n",
    "clf.feature_importances_[ordered_indices[:20]]"
   ]
  },
  {
   "cell_type": "code",
   "execution_count": 35,
   "metadata": {
    "collapsed": false,
    "deletable": true,
    "editable": true
   },
   "outputs": [
    {
     "name": "stdout",
     "output_type": "stream",
     "text": [
      "1.15910696983\n"
     ]
    }
   ],
   "source": [
    "clf_dec = DecisionTreeRegressor(max_features = None, random_state = 29)\n",
    "t0 = time.time()\n",
    "clf_dec.fit(s_train, dp_train)\n",
    "print time.time() - t0"
   ]
  },
  {
   "cell_type": "code",
   "execution_count": 36,
   "metadata": {
    "collapsed": true,
    "deletable": true,
    "editable": true
   },
   "outputs": [],
   "source": [
    "dp_predict_dec = clf_dec.predict(s_test)"
   ]
  },
  {
   "cell_type": "code",
   "execution_count": 37,
   "metadata": {
    "collapsed": false,
    "deletable": true,
    "editable": true
   },
   "outputs": [
    {
     "data": {
      "image/png": "[encoded data removed]",
      "text/plain": [
       "<matplotlib.figure.Figure at 0x7f1296193790>"
      ]
     },
     "metadata": {},
     "output_type": "display_data"
    }
   ],
   "source": [
    "cnf_matrix = confusion_matrix((dp_test>0).astype(np.int), (dp_predict_dec>0).astype(np.int))\n",
    "fig = visualize.plot_confusion_matrix(cnf_matrix, classes=[0, 1], fontsize = 20, normalize = False, title='Confusion matrix, without normalization', cmap = plt.cm.Greens)\n",
    "plt.show()"
   ]
  },
  {
   "cell_type": "code",
   "execution_count": 38,
   "metadata": {
    "collapsed": false,
    "deletable": true,
    "editable": true
   },
   "outputs": [
    {
     "data": {
      "image/png": "[encoded data removed]",
      "text/plain": [
       "<matplotlib.figure.Figure at 0x7f1294350750>"
      ]
     },
     "metadata": {},
     "output_type": "display_data"
    },
    {
     "name": "stdout",
     "output_type": "stream",
     "text": [
      "0.196814727273 1.24373233706\n"
     ]
    }
   ],
   "source": [
    "dp_predict_dec_winner_density = dp_test[dp_predict_dec > 0]\n",
    "ax = sns.distplot(dp_predict_dec_winner_density, label='prediction')\n",
    "ax.set_xlabel('price change', fontsize = 20)\n",
    "ax2 = sns.distplot(dp_test, label='test')\n",
    "ax.set(xlim = (-5,5))\n",
    "ax2.set(xlim = (-5,5))\n",
    "plt.legend(loc='upper left')\n",
    "#ax.set_title('Distribution of dprice[d_predict > 0]')\n",
    "sns.set_context(\"notebook\", font_scale=2, rc={\"lines.linewidth\": 2.5})\n",
    "plt.show()\n",
    "print dp_predict_dec_winner_density.mean(), dp_predict_dec_winner_density.std()"
   ]
  },
  {
   "cell_type": "code",
   "execution_count": 39,
   "metadata": {
    "collapsed": true,
    "deletable": true,
    "editable": true
   },
   "outputs": [],
   "source": [
    "tree.export_graphviz(clf_dec, 'dprice_decision_tree_2.dot', max_depth = 4, filled = True, feature_names = list(s_test.columns))"
   ]
  },
  {
   "cell_type": "code",
   "execution_count": null,
   "metadata": {
    "collapsed": false
   },
   "outputs": [],
   "source": []
  },
  {
   "cell_type": "markdown",
   "metadata": {
    "collapsed": true,
    "deletable": true,
    "editable": true
   },
   "source": [
    "### To convert to .png, in the terminal type \"dot -Tpng dprice_decision_tree_0.dot -o dprice_decision_tree_0.png\""
   ]
  },
  {
   "cell_type": "markdown",
   "metadata": {
    "deletable": true,
    "editable": true
   },
   "source": [
    "### insert random feature into training set and see how it ranks feature importances"
   ]
  },
  {
   "cell_type": "code",
   "execution_count": 192,
   "metadata": {
    "collapsed": false,
    "deletable": true,
    "editable": true
   },
   "outputs": [],
   "source": [
    "s_train_aug = s_train.copy()\n",
    "s_train_aug['random'] = np.random.rand(s_train_aug.shape[0])"
   ]
  },
  {
   "cell_type": "code",
   "execution_count": 194,
   "metadata": {
    "collapsed": false,
    "deletable": true,
    "editable": true
   },
   "outputs": [],
   "source": []
  },
  {
   "cell_type": "code",
   "execution_count": 209,
   "metadata": {
    "collapsed": true,
    "deletable": true,
    "editable": true
   },
   "outputs": [],
   "source": [
    "clf_ran = RandomForestRegressor(max_depth = None, n_estimators = 200, max_features = None, random_state = 27)"
   ]
  },
  {
   "cell_type": "code",
   "execution_count": 210,
   "metadata": {
    "collapsed": false,
    "deletable": true,
    "editable": true
   },
   "outputs": [
    {
     "data": {
      "text/plain": [
       "RandomForestRegressor(bootstrap=True, criterion='mse', max_depth=None,\n",
       "           max_features=None, max_leaf_nodes=None,\n",
       "           min_impurity_split=1e-07, min_samples_leaf=1,\n",
       "           min_samples_split=2, min_weight_fraction_leaf=0.0,\n",
       "           n_estimators=200, n_jobs=1, oob_score=False, random_state=27,\n",
       "           verbose=0, warm_start=False)"
      ]
     },
     "execution_count": 210,
     "metadata": {},
     "output_type": "execute_result"
    }
   ],
   "source": [
    "clf_ran.fit(s_train_aug.values, dp_train.values)"
   ]
  },
  {
   "cell_type": "code",
   "execution_count": 213,
   "metadata": {
    "collapsed": false,
    "deletable": true,
    "editable": true
   },
   "outputs": [],
   "source": [
    "#s_test_aug = s_test.copy()\n",
    "#s_test_aug['random'] = np.random.rand(s_test_aug.shape[0])\n",
    "#s_test_aug.shape[1]\n",
    "#s_train_aug.shape[1]\n",
    "dp_predict_ran = clf_ran.predict(s_test_aug.values)\n",
    "#s_test_aug.head()"
   ]
  },
  {
   "cell_type": "code",
   "execution_count": 214,
   "metadata": {
    "collapsed": false,
    "deletable": true,
    "editable": true
   },
   "outputs": [
    {
     "data": {
      "image/png": "[encoded data removed]",
      "text/plain": [
       "<matplotlib.figure.Figure at 0x7f57f8e5ec90>"
      ]
     },
     "metadata": {},
     "output_type": "display_data"
    }
   ],
   "source": [
    "cnf_matrix = confusion_matrix((dp_test>0).astype(np.int), (dp_predict_ran>0).astype(np.int))\n",
    "fig = visualize.plot_confusion_matrix(cnf_matrix, classes=[0, 1], fontsize = 20, normalize = False, title='Confusion matrix, without normalization', cmap = plt.cm.Greens)\n",
    "plt.show()"
   ]
  },
  {
   "cell_type": "code",
   "execution_count": 215,
   "metadata": {
    "collapsed": false,
    "deletable": true,
    "editable": true
   },
   "outputs": [
    {
     "data": {
      "image/png": "[encoded data removed]",
      "text/plain": [
       "<matplotlib.figure.Figure at 0x7f57f5a36790>"
      ]
     },
     "metadata": {},
     "output_type": "display_data"
    },
    {
     "name": "stdout",
     "output_type": "stream",
     "text": [
      "0.353292585784 1.03285418386\n",
      "-0.050765525454 1.65736986126\n"
     ]
    }
   ],
   "source": [
    "dp_predict_ran_winner_density = dp_test[dp_predict_ran > 0]\n",
    "ax = sns.distplot(dp_predict_ran_winner_density, label='prediction')\n",
    "ax2 = sns.distplot(dp_test, label='test')\n",
    "ax.set(xlim = (-5,5))\n",
    "ax2.set(xlim = (-5,5))\n",
    "plt.legend(loc='upper left')\n",
    "ax.set_xlabel('price change', fontsize = 22)\n",
    "#ax.set_title('Distribution of dprice[d_predict > 0]')\n",
    "sns.set_context(\"notebook\", font_scale=2, rc={\"lines.linewidth\": 2.5})\n",
    "plt.show()\n",
    "print dp_predict_ran_winner_density.mean(), dp_predict_ran_winner_density.std()\n",
    "print dp_test.mean(), dp_test.std()"
   ]
  },
  {
   "cell_type": "code",
   "execution_count": 216,
   "metadata": {
    "collapsed": false,
    "deletable": true,
    "editable": true
   },
   "outputs": [
    {
     "data": {
      "text/plain": [
       "array([  6.55977864e-02,   3.06307675e-01,   9.00548327e-02,\n",
       "         3.10057222e-02,   7.56366446e-02,   1.80782033e-02,\n",
       "         1.08552124e-03,   3.22232193e-06,   2.01686844e-04,\n",
       "         2.71167766e-06,   2.25751868e-03,   1.11136295e-04,\n",
       "         1.39971542e-03,   5.40905390e-05,   7.24292442e-05,\n",
       "         1.25784337e-03,   4.17269566e-04,   2.40778089e-05,\n",
       "         1.01531956e-04,   6.20000809e-06])"
      ]
     },
     "execution_count": 216,
     "metadata": {},
     "output_type": "execute_result"
    }
   ],
   "source": [
    "clf_ran.feature_importances_[:20]"
   ]
  },
  {
   "cell_type": "code",
   "execution_count": 218,
   "metadata": {
    "collapsed": false,
    "deletable": true,
    "editable": true
   },
   "outputs": [
    {
     "data": {
      "text/plain": [
       "[1,\n",
       " 398,\n",
       " 2,\n",
       " 4,\n",
       " 0,\n",
       " 3,\n",
       " 5,\n",
       " 36,\n",
       " 265,\n",
       " 263,\n",
       " 66,\n",
       " 305,\n",
       " 75,\n",
       " 342,\n",
       " 371,\n",
       " 77,\n",
       " 74,\n",
       " 290,\n",
       " 10,\n",
       " 65,\n",
       " 374,\n",
       " 310,\n",
       " 273,\n",
       " 61,\n",
       " 20,\n",
       " 94,\n",
       " 42,\n",
       " 60,\n",
       " 73,\n",
       " 44,\n",
       " 38,\n",
       " 69,\n",
       " 262,\n",
       " 314,\n",
       " 269,\n",
       " 259,\n",
       " 325,\n",
       " 50,\n",
       " 12,\n",
       " 76,\n",
       " 57,\n",
       " 331,\n",
       " 15,\n",
       " 260,\n",
       " 41,\n",
       " 6,\n",
       " 88,\n",
       " 54,\n",
       " 330,\n",
       " 79,\n",
       " 27,\n",
       " 363,\n",
       " 332,\n",
       " 283,\n",
       " 107,\n",
       " 59,\n",
       " 327,\n",
       " 392,\n",
       " 358,\n",
       " 276,\n",
       " 318,\n",
       " 380,\n",
       " 299,\n",
       " 349,\n",
       " 106,\n",
       " 47,\n",
       " 319,\n",
       " 272,\n",
       " 360,\n",
       " 306,\n",
       " 32,\n",
       " 71,\n",
       " 291,\n",
       " 394,\n",
       " 28,\n",
       " 347,\n",
       " 393,\n",
       " 92,\n",
       " 391,\n",
       " 293,\n",
       " 356,\n",
       " 281,\n",
       " 23,\n",
       " 81,\n",
       " 16,\n",
       " 34,\n",
       " 346,\n",
       " 317,\n",
       " 282,\n",
       " 396,\n",
       " 386,\n",
       " 329,\n",
       " 365,\n",
       " 91,\n",
       " 321,\n",
       " 377,\n",
       " 25,\n",
       " 309,\n",
       " 277,\n",
       " 98]"
      ]
     },
     "execution_count": 218,
     "metadata": {},
     "output_type": "execute_result"
    }
   ],
   "source": [
    "#important_features_indices = np.where(clf_ran.feature_importances_ > 0.001)\n",
    "ordered_indices_aug = sorted(range(s_train_aug.shape[1]), key=clf_ran.feature_importances_.__getitem__)\n",
    "ordered_indices_aug.reverse()\n",
    "ordered_indices_aug[:100]"
   ]
  },
  {
   "cell_type": "code",
   "execution_count": 219,
   "metadata": {
    "collapsed": false,
    "deletable": true,
    "editable": true
   },
   "outputs": [
    {
     "name": "stdout",
     "output_type": "stream",
     "text": [
      "YIELD\n",
      "RANDOM\n",
      "TRADEDATE\n",
      "MATURITY\n",
      "HOLDTIME\n",
      "COUPON\n",
      "RTG\n",
      "NEW JERSEY\n",
      "STWD\n",
      "CMNTYS\n",
      "ISSUE SOURCE: APPROPRIATIONS\n",
      "REF\n",
      "ISSUE SOURCE: GOVT. FD./GRANT REV.\n",
      "SWR\n",
      "ST\n",
      "ISSUE SOURCE: HLTH, HOSP, NURSHOME REV.\n",
      "ISSUE SOURCE: GENERAL FUND\n",
      "EL\n",
      "CALIFORNIA\n",
      "ISSUE SOURCE: AD VALOREM PROPERTY TAX\n"
     ]
    }
   ],
   "source": [
    "for w in list(s_train_aug.columns[ordered_indices_aug[:20]]):\n",
    "    print w.upper()"
   ]
  },
  {
   "cell_type": "code",
   "execution_count": 220,
   "metadata": {
    "collapsed": false,
    "deletable": true,
    "editable": true
   },
   "outputs": [
    {
     "data": {
      "text/plain": [
       "array([ 0.30630768,  0.25180724,  0.09005483,  0.07563664,  0.06559779,\n",
       "        0.03100572,  0.0180782 ,  0.01272522,  0.01218883,  0.01168208,\n",
       "        0.01048156,  0.00606621,  0.00372602,  0.00360408,  0.00341854,\n",
       "        0.00305551,  0.00265036,  0.00249493,  0.00225752,  0.00223888])"
      ]
     },
     "execution_count": 220,
     "metadata": {},
     "output_type": "execute_result"
    }
   ],
   "source": [
    "clf_ran.feature_importances_[ordered_indices_aug[:20]]"
   ]
  },
  {
   "cell_type": "code",
   "execution_count": null,
   "metadata": {
    "collapsed": true,
    "deletable": true,
    "editable": true
   },
   "outputs": [],
   "source": []
  }
 ],
 "metadata": {
  "kernelspec": {
   "display_name": "Python 2",
   "language": "python",
   "name": "python2"
  },
  "language_info": {
   "codemirror_mode": {
    "name": "ipython",
    "version": 2
   },
   "file_extension": ".py",
   "mimetype": "text/x-python",
   "name": "python",
   "nbconvert_exporter": "python",
   "pygments_lexer": "ipython2",
   "version": "2.7.10"
  }
 },
 "nbformat": 4,
 "nbformat_minor": 2
}
