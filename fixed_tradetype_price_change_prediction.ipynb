{
 "cells": [
  {
   "cell_type": "code",
   "execution_count": 79,
   "metadata": {
    "collapsed": false,
    "deletable": true,
    "editable": true
   },
   "outputs": [],
   "source": [
    "import numpy as np\n",
    "import pandas as pd\n",
    "import matplotlib.pyplot as plt\n",
    "import extract\n",
    "import visualize\n",
    "from sklearn import tree\n",
    "import pydotplus\n",
    "import seaborn as sns\n",
    "import time"
   ]
  },
  {
   "cell_type": "code",
   "execution_count": 80,
   "metadata": {
    "collapsed": true,
    "deletable": true,
    "editable": true
   },
   "outputs": [],
   "source": [
    "from sklearn.preprocessing import StandardScaler\n",
    "from sklearn import preprocessing\n",
    "from sklearn.model_selection import train_test_split, GridSearchCV\n",
    "from sklearn.model_selection import StratifiedShuffleSplit\n",
    "from sklearn.metrics import confusion_matrix\n",
    "from sklearn.ensemble import RandomForestRegressor\n",
    "from sklearn.tree import DecisionTreeRegressor"
   ]
  },
  {
   "cell_type": "code",
   "execution_count": 81,
   "metadata": {
    "collapsed": false,
    "deletable": true,
    "editable": true
   },
   "outputs": [],
   "source": [
    "s0 = pd.read_csv(\"./data/sale_to_customer_rl_15_price_change_data.csv\", usecols = ['d_index_1', 'd_index_2', 'name',\n",
    "\t\t'cusip', 'state', 'coupon', 'maturity', 'yield', 'issuetype', 'issuesource', 'rtg',\n",
    "\t\t'tradedate', 'price', 'dprice', 'holdtime'])\n",
    "#d = extract.get_data(\"./data/TMC_020617.csv\")\n",
    "#d = extract.clean_data(d)"
   ]
  },
  {
   "cell_type": "code",
   "execution_count": 82,
   "metadata": {
    "collapsed": false,
    "deletable": true,
    "editable": true
   },
   "outputs": [
    {
     "data": {
      "text/html": [
       "<div>\n",
       "<table border=\"1\" class=\"dataframe\">\n",
       "  <thead>\n",
       "    <tr style=\"text-align: right;\">\n",
       "      <th></th>\n",
       "      <th>dprice</th>\n",
       "      <th>holdtime</th>\n",
       "      <th>d_index_1</th>\n",
       "      <th>d_index_2</th>\n",
       "      <th>cusip</th>\n",
       "      <th>price</th>\n",
       "      <th>yield</th>\n",
       "      <th>tradedate</th>\n",
       "      <th>name</th>\n",
       "      <th>state</th>\n",
       "      <th>coupon</th>\n",
       "      <th>maturity</th>\n",
       "      <th>issuetype</th>\n",
       "      <th>issuesource</th>\n",
       "      <th>rtg</th>\n",
       "    </tr>\n",
       "  </thead>\n",
       "  <tbody>\n",
       "    <tr>\n",
       "      <th>0</th>\n",
       "      <td>0.476</td>\n",
       "      <td>1.0</td>\n",
       "      <td>0</td>\n",
       "      <td>2676</td>\n",
       "      <td>45471AKG6</td>\n",
       "      <td>99.507</td>\n",
       "      <td>4.037</td>\n",
       "      <td>2.0</td>\n",
       "      <td>indiana st fin auth-a</td>\n",
       "      <td>Indiana</td>\n",
       "      <td>4.0</td>\n",
       "      <td>6692.0</td>\n",
       "      <td>ISSUE TYPE: REVENUE BONDS</td>\n",
       "      <td>ISSUE SOURCE: HLTH, HOSP, NURSHOME REV.</td>\n",
       "      <td>6</td>\n",
       "    </tr>\n",
       "    <tr>\n",
       "      <th>1</th>\n",
       "      <td>0.488</td>\n",
       "      <td>2.0</td>\n",
       "      <td>0</td>\n",
       "      <td>2677</td>\n",
       "      <td>45471AKG6</td>\n",
       "      <td>99.507</td>\n",
       "      <td>4.037</td>\n",
       "      <td>2.0</td>\n",
       "      <td>indiana st fin auth-a</td>\n",
       "      <td>Indiana</td>\n",
       "      <td>4.0</td>\n",
       "      <td>6692.0</td>\n",
       "      <td>ISSUE TYPE: REVENUE BONDS</td>\n",
       "      <td>ISSUE SOURCE: HLTH, HOSP, NURSHOME REV.</td>\n",
       "      <td>6</td>\n",
       "    </tr>\n",
       "    <tr>\n",
       "      <th>2</th>\n",
       "      <td>3.239</td>\n",
       "      <td>8.0</td>\n",
       "      <td>0</td>\n",
       "      <td>8287</td>\n",
       "      <td>45471AKG6</td>\n",
       "      <td>99.507</td>\n",
       "      <td>4.037</td>\n",
       "      <td>2.0</td>\n",
       "      <td>indiana st fin auth-a</td>\n",
       "      <td>Indiana</td>\n",
       "      <td>4.0</td>\n",
       "      <td>6692.0</td>\n",
       "      <td>ISSUE TYPE: REVENUE BONDS</td>\n",
       "      <td>ISSUE SOURCE: HLTH, HOSP, NURSHOME REV.</td>\n",
       "      <td>6</td>\n",
       "    </tr>\n",
       "    <tr>\n",
       "      <th>3</th>\n",
       "      <td>3.089</td>\n",
       "      <td>9.0</td>\n",
       "      <td>0</td>\n",
       "      <td>9511</td>\n",
       "      <td>45471AKG6</td>\n",
       "      <td>99.507</td>\n",
       "      <td>4.037</td>\n",
       "      <td>2.0</td>\n",
       "      <td>indiana st fin auth-a</td>\n",
       "      <td>Indiana</td>\n",
       "      <td>4.0</td>\n",
       "      <td>6692.0</td>\n",
       "      <td>ISSUE TYPE: REVENUE BONDS</td>\n",
       "      <td>ISSUE SOURCE: HLTH, HOSP, NURSHOME REV.</td>\n",
       "      <td>6</td>\n",
       "    </tr>\n",
       "    <tr>\n",
       "      <th>4</th>\n",
       "      <td>3.476</td>\n",
       "      <td>9.0</td>\n",
       "      <td>0</td>\n",
       "      <td>9512</td>\n",
       "      <td>45471AKG6</td>\n",
       "      <td>99.507</td>\n",
       "      <td>4.037</td>\n",
       "      <td>2.0</td>\n",
       "      <td>indiana st fin auth-a</td>\n",
       "      <td>Indiana</td>\n",
       "      <td>4.0</td>\n",
       "      <td>6692.0</td>\n",
       "      <td>ISSUE TYPE: REVENUE BONDS</td>\n",
       "      <td>ISSUE SOURCE: HLTH, HOSP, NURSHOME REV.</td>\n",
       "      <td>6</td>\n",
       "    </tr>\n",
       "  </tbody>\n",
       "</table>\n",
       "</div>"
      ],
      "text/plain": [
       "   dprice  holdtime  d_index_1  d_index_2      cusip   price  yield  \\\n",
       "0   0.476       1.0          0       2676  45471AKG6  99.507  4.037   \n",
       "1   0.488       2.0          0       2677  45471AKG6  99.507  4.037   \n",
       "2   3.239       8.0          0       8287  45471AKG6  99.507  4.037   \n",
       "3   3.089       9.0          0       9511  45471AKG6  99.507  4.037   \n",
       "4   3.476       9.0          0       9512  45471AKG6  99.507  4.037   \n",
       "\n",
       "   tradedate                   name    state  coupon  maturity  \\\n",
       "0        2.0  indiana st fin auth-a  Indiana     4.0    6692.0   \n",
       "1        2.0  indiana st fin auth-a  Indiana     4.0    6692.0   \n",
       "2        2.0  indiana st fin auth-a  Indiana     4.0    6692.0   \n",
       "3        2.0  indiana st fin auth-a  Indiana     4.0    6692.0   \n",
       "4        2.0  indiana st fin auth-a  Indiana     4.0    6692.0   \n",
       "\n",
       "                   issuetype                              issuesource  rtg  \n",
       "0  ISSUE TYPE: REVENUE BONDS  ISSUE SOURCE: HLTH, HOSP, NURSHOME REV.    6  \n",
       "1  ISSUE TYPE: REVENUE BONDS  ISSUE SOURCE: HLTH, HOSP, NURSHOME REV.    6  \n",
       "2  ISSUE TYPE: REVENUE BONDS  ISSUE SOURCE: HLTH, HOSP, NURSHOME REV.    6  \n",
       "3  ISSUE TYPE: REVENUE BONDS  ISSUE SOURCE: HLTH, HOSP, NURSHOME REV.    6  \n",
       "4  ISSUE TYPE: REVENUE BONDS  ISSUE SOURCE: HLTH, HOSP, NURSHOME REV.    6  "
      ]
     },
     "execution_count": 82,
     "metadata": {},
     "output_type": "execute_result"
    }
   ],
   "source": [
    "s0.head()"
   ]
  },
  {
   "cell_type": "code",
   "execution_count": 83,
   "metadata": {
    "collapsed": false,
    "deletable": true,
    "editable": true
   },
   "outputs": [],
   "source": [
    "#print s0[(s0.cusip == '45471AKG6')&(s0.tradedate == 2.0)]"
   ]
  },
  {
   "cell_type": "code",
   "execution_count": 84,
   "metadata": {
    "collapsed": false,
    "deletable": true,
    "editable": true
   },
   "outputs": [],
   "source": [
    "d_index_1 = s0.pop('d_index_1')\n",
    "d_index_2 = s0.pop('d_index_2')"
   ]
  },
  {
   "cell_type": "code",
   "execution_count": 85,
   "metadata": {
    "collapsed": false,
    "deletable": true,
    "editable": true
   },
   "outputs": [],
   "source": [
    "s_name_features = extract.build_name_features(s0, num_general_words = 50, num_long_words = 250, long_word_length = 5)\n",
    "s_state_features = extract.build_state_features(s0, num_states = None)\n",
    "s_other_features = extract.build_other_text_features(s0, tradetype=False)\n",
    "s = pd.concat([s0.drop(['state', 'name', 'issuetype', 'issuesource', 'cusip', 'price'], axis = 1), s_state_features, s_other_features, s_name_features], axis = 1)\n",
    "s = s.dropna()\n",
    "s = s[s.holdtime < 7] #pick out only data with holdtime < max days"
   ]
  },
  {
   "cell_type": "code",
   "execution_count": 86,
   "metadata": {
    "collapsed": false,
    "deletable": true,
    "editable": true
   },
   "outputs": [
    {
     "data": {
      "text/html": [
       "<div>\n",
       "<table border=\"1\" class=\"dataframe\">\n",
       "  <thead>\n",
       "    <tr style=\"text-align: right;\">\n",
       "      <th></th>\n",
       "      <th>dprice</th>\n",
       "      <th>holdtime</th>\n",
       "      <th>yield</th>\n",
       "      <th>tradedate</th>\n",
       "      <th>coupon</th>\n",
       "      <th>maturity</th>\n",
       "      <th>rtg</th>\n",
       "      <th>Alabama</th>\n",
       "      <th>Alaska</th>\n",
       "      <th>Arizona</th>\n",
       "      <th>...</th>\n",
       "      <th>290</th>\n",
       "      <th>291</th>\n",
       "      <th>292</th>\n",
       "      <th>293</th>\n",
       "      <th>294</th>\n",
       "      <th>295</th>\n",
       "      <th>296</th>\n",
       "      <th>297</th>\n",
       "      <th>298</th>\n",
       "      <th>299</th>\n",
       "    </tr>\n",
       "  </thead>\n",
       "  <tbody>\n",
       "    <tr>\n",
       "      <th>0</th>\n",
       "      <td>0.476</td>\n",
       "      <td>1.0</td>\n",
       "      <td>4.037</td>\n",
       "      <td>2.0</td>\n",
       "      <td>4.0</td>\n",
       "      <td>6692.0</td>\n",
       "      <td>6</td>\n",
       "      <td>0</td>\n",
       "      <td>0</td>\n",
       "      <td>0</td>\n",
       "      <td>...</td>\n",
       "      <td>0</td>\n",
       "      <td>1</td>\n",
       "      <td>0</td>\n",
       "      <td>0</td>\n",
       "      <td>0</td>\n",
       "      <td>0</td>\n",
       "      <td>0</td>\n",
       "      <td>0</td>\n",
       "      <td>0</td>\n",
       "      <td>0</td>\n",
       "    </tr>\n",
       "    <tr>\n",
       "      <th>1</th>\n",
       "      <td>0.488</td>\n",
       "      <td>2.0</td>\n",
       "      <td>4.037</td>\n",
       "      <td>2.0</td>\n",
       "      <td>4.0</td>\n",
       "      <td>6692.0</td>\n",
       "      <td>6</td>\n",
       "      <td>0</td>\n",
       "      <td>0</td>\n",
       "      <td>0</td>\n",
       "      <td>...</td>\n",
       "      <td>0</td>\n",
       "      <td>1</td>\n",
       "      <td>0</td>\n",
       "      <td>0</td>\n",
       "      <td>0</td>\n",
       "      <td>0</td>\n",
       "      <td>0</td>\n",
       "      <td>0</td>\n",
       "      <td>0</td>\n",
       "      <td>0</td>\n",
       "    </tr>\n",
       "    <tr>\n",
       "      <th>11</th>\n",
       "      <td>0.573</td>\n",
       "      <td>1.0</td>\n",
       "      <td>4.045</td>\n",
       "      <td>2.0</td>\n",
       "      <td>4.0</td>\n",
       "      <td>6692.0</td>\n",
       "      <td>6</td>\n",
       "      <td>0</td>\n",
       "      <td>0</td>\n",
       "      <td>0</td>\n",
       "      <td>...</td>\n",
       "      <td>0</td>\n",
       "      <td>1</td>\n",
       "      <td>0</td>\n",
       "      <td>0</td>\n",
       "      <td>0</td>\n",
       "      <td>0</td>\n",
       "      <td>0</td>\n",
       "      <td>0</td>\n",
       "      <td>0</td>\n",
       "      <td>0</td>\n",
       "    </tr>\n",
       "    <tr>\n",
       "      <th>12</th>\n",
       "      <td>0.585</td>\n",
       "      <td>2.0</td>\n",
       "      <td>4.045</td>\n",
       "      <td>2.0</td>\n",
       "      <td>4.0</td>\n",
       "      <td>6692.0</td>\n",
       "      <td>6</td>\n",
       "      <td>0</td>\n",
       "      <td>0</td>\n",
       "      <td>0</td>\n",
       "      <td>...</td>\n",
       "      <td>0</td>\n",
       "      <td>1</td>\n",
       "      <td>0</td>\n",
       "      <td>0</td>\n",
       "      <td>0</td>\n",
       "      <td>0</td>\n",
       "      <td>0</td>\n",
       "      <td>0</td>\n",
       "      <td>0</td>\n",
       "      <td>0</td>\n",
       "    </tr>\n",
       "    <tr>\n",
       "      <th>22</th>\n",
       "      <td>0.012</td>\n",
       "      <td>1.0</td>\n",
       "      <td>4.000</td>\n",
       "      <td>3.0</td>\n",
       "      <td>4.0</td>\n",
       "      <td>6691.0</td>\n",
       "      <td>6</td>\n",
       "      <td>0</td>\n",
       "      <td>0</td>\n",
       "      <td>0</td>\n",
       "      <td>...</td>\n",
       "      <td>0</td>\n",
       "      <td>1</td>\n",
       "      <td>0</td>\n",
       "      <td>0</td>\n",
       "      <td>0</td>\n",
       "      <td>0</td>\n",
       "      <td>0</td>\n",
       "      <td>0</td>\n",
       "      <td>0</td>\n",
       "      <td>0</td>\n",
       "    </tr>\n",
       "  </tbody>\n",
       "</table>\n",
       "<p>5 rows × 409 columns</p>\n",
       "</div>"
      ],
      "text/plain": [
       "    dprice  holdtime  yield  tradedate  coupon  maturity  rtg  Alabama  \\\n",
       "0    0.476       1.0  4.037        2.0     4.0    6692.0    6        0   \n",
       "1    0.488       2.0  4.037        2.0     4.0    6692.0    6        0   \n",
       "11   0.573       1.0  4.045        2.0     4.0    6692.0    6        0   \n",
       "12   0.585       2.0  4.045        2.0     4.0    6692.0    6        0   \n",
       "22   0.012       1.0  4.000        3.0     4.0    6691.0    6        0   \n",
       "\n",
       "    Alaska  Arizona ...   290  291  292  293  294  295  296  297  298  299  \n",
       "0        0        0 ...     0    1    0    0    0    0    0    0    0    0  \n",
       "1        0        0 ...     0    1    0    0    0    0    0    0    0    0  \n",
       "11       0        0 ...     0    1    0    0    0    0    0    0    0    0  \n",
       "12       0        0 ...     0    1    0    0    0    0    0    0    0    0  \n",
       "22       0        0 ...     0    1    0    0    0    0    0    0    0    0  \n",
       "\n",
       "[5 rows x 409 columns]"
      ]
     },
     "execution_count": 86,
     "metadata": {},
     "output_type": "execute_result"
    }
   ],
   "source": [
    "s.head()"
   ]
  },
  {
   "cell_type": "markdown",
   "metadata": {
    "deletable": true,
    "editable": true
   },
   "source": [
    "### Try a Random Forest Regressor"
   ]
  },
  {
   "cell_type": "code",
   "execution_count": 87,
   "metadata": {
    "collapsed": false,
    "deletable": true,
    "editable": true
   },
   "outputs": [],
   "source": [
    "dprice = s.pop('dprice')"
   ]
  },
  {
   "cell_type": "code",
   "execution_count": 88,
   "metadata": {
    "collapsed": false,
    "deletable": true,
    "editable": true
   },
   "outputs": [],
   "source": [
    "#s_train, s_test, dp_train, dp_test = train_test_split(s, dprice, test_size=0.20, random_state=180)\n",
    "s_train = s[s.tradedate < 25].values\n",
    "dp_train = dprice[s.tradedate < 25].values\n",
    "s_test = s[s.tradedate >= 25].values\n",
    "dp_test = dprice[s.tradedate >= 25].values"
   ]
  },
  {
   "cell_type": "code",
   "execution_count": 89,
   "metadata": {
    "collapsed": false
   },
   "outputs": [],
   "source": [
    "#s_test[dp_test < -10]\n",
    "#(dp_test < -10).size\n",
    "#d_index.size\n",
    "#dp_test[dp_test < -10]"
   ]
  },
  {
   "cell_type": "markdown",
   "metadata": {
    "deletable": true,
    "editable": true
   },
   "source": [
    "### Want to optimize the max_depth and n_estimators parameters of the regressor with respect to the percentage of winning predictions that are actually winners. To do this, we construct a custom scorer function"
   ]
  },
  {
   "cell_type": "code",
   "execution_count": 287,
   "metadata": {
    "collapsed": true,
    "deletable": true,
    "editable": true
   },
   "outputs": [],
   "source": [
    "def scorer(clf, X_test, y_test):\n",
    "    #we want to maximize f1 score value = 2*(precision*recall)/(precision + recall)\n",
    "    y_predict = clf.predict(X_test)\n",
    "    recall = float(np.sum(y_predict[y_test > 0] > 0))/np.sum(y_test > 0) #percent of true dprice>0 cases model can predict\n",
    "    precision = float(np.sum(y_test[y_predict > 0] > 0))/np.sum(y_predict > 0) #percent of increases predicted are actually correct\n",
    "    return 2*precision*recall/(precision + recall)"
   ]
  },
  {
   "cell_type": "code",
   "execution_count": 90,
   "metadata": {
    "collapsed": false,
    "deletable": true,
    "editable": true
   },
   "outputs": [],
   "source": [
    "#parameters = {'max_depth':[10, 15, 20, 25], 'n_estimators':[50, 100], 'criterion':['mse']}\n",
    "#rfr = RandomForestRegressor()\n",
    "#clf = GridSearchCV(rfr, param_grid = parameters, scoring = scorer)\n",
    "clf = RandomForestRegressor(max_depth = None, n_estimators = 100, max_features = None)"
   ]
  },
  {
   "cell_type": "code",
   "execution_count": 91,
   "metadata": {
    "collapsed": false,
    "deletable": true,
    "editable": true
   },
   "outputs": [
    {
     "name": "stdout",
     "output_type": "stream",
     "text": [
      "161.021565914\n"
     ]
    }
   ],
   "source": [
    "t0 = time.time()\n",
    "clf.fit(s_train, dp_train)\n",
    "print time.time() - t0"
   ]
  },
  {
   "cell_type": "code",
   "execution_count": 92,
   "metadata": {
    "collapsed": false,
    "deletable": true,
    "editable": true
   },
   "outputs": [],
   "source": [
    "#clf.cv_results_\n",
    "#estimator = clf.best_estimator_\n",
    "#clf.best_params_"
   ]
  },
  {
   "cell_type": "code",
   "execution_count": 93,
   "metadata": {
    "collapsed": false,
    "deletable": true,
    "editable": true
   },
   "outputs": [],
   "source": [
    "#dp_predict = estimator.predict(s_test)\n",
    "dp_predict = clf.predict(s_test)"
   ]
  },
  {
   "cell_type": "code",
   "execution_count": 94,
   "metadata": {
    "collapsed": false,
    "deletable": true,
    "editable": true
   },
   "outputs": [
    {
     "data": {
      "text/plain": [
       "array([-0.23817321, -0.23817321, -0.23817321, -0.23817321, -0.23817321,\n",
       "       -0.23817321, -0.23817321,  0.47331444,  0.47331444,  0.37428   ,\n",
       "        0.37428   ,  0.37428   ,  0.37428   , -0.05398395, -0.05398395,\n",
       "       -0.05398395, -0.05398395, -0.23817321, -0.23817321, -0.23817321,\n",
       "       -0.23817321, -0.23817321, -0.23817321, -0.23817321,  0.47331444,\n",
       "        0.47331444,  0.37428   ,  0.37428   ,  0.37428   ,  0.37428   ,\n",
       "       -0.05398395, -0.05398395, -0.05398395, -0.05398395, -0.23817321,\n",
       "       -0.23817321, -0.23817321, -0.23817321, -0.23817321, -0.23817321,\n",
       "       -0.23817321,  0.47331444,  0.47331444,  0.37428   ,  0.37428   ,\n",
       "        0.37428   ,  0.37428   , -0.05398395, -0.05398395, -0.05398395,\n",
       "       -0.05398395, -0.23817321, -0.23817321, -0.23817321, -0.23817321,\n",
       "       -0.23817321, -0.23817321, -0.23817321,  0.47331444,  0.47331444,\n",
       "        0.37428   ,  0.37428   ,  0.37428   ,  0.37428   , -0.05398395,\n",
       "       -0.05398395, -0.05398395, -0.05398395, -0.23817321, -0.23817321,\n",
       "       -0.23817321, -0.23817321, -0.23817321, -0.23817321, -0.23817321,\n",
       "        0.47331444,  0.47331444,  0.37428   ,  0.37428   ,  0.37428   ,\n",
       "        0.37428   , -0.05398395, -0.05398395, -0.05398395, -0.05398395,\n",
       "       -0.23817321, -0.23817321, -0.23817321, -0.23817321, -0.23817321,\n",
       "       -0.23817321, -0.23817321,  0.47331444,  0.47331444,  0.37428   ,\n",
       "        0.37428   ,  0.37428   ,  0.37428   , -0.05398395, -0.05398395])"
      ]
     },
     "execution_count": 94,
     "metadata": {},
     "output_type": "execute_result"
    }
   ],
   "source": [
    "dp_predict[100:200]"
   ]
  },
  {
   "cell_type": "code",
   "execution_count": 95,
   "metadata": {
    "collapsed": false,
    "deletable": true,
    "editable": true
   },
   "outputs": [
    {
     "data": {
      "text/plain": [
       "array([ 0.843,  0.54 ,  0.555, -1.375,  0.   ,  0.   , -0.375, -1.875,\n",
       "       -1.375,  0.   ,  0.   ,  0.   , -2.919, -0.375, -0.375, -0.375,\n",
       "       -1.675,  0.843,  0.54 ,  0.555, -1.375,  0.   ,  0.   , -0.375,\n",
       "       -1.875, -1.375,  0.   ,  0.   ,  0.   , -2.919, -0.375, -0.375,\n",
       "       -0.375, -1.675,  0.843,  0.54 ,  0.555, -1.375,  0.   ,  0.   ,\n",
       "       -0.375, -1.875, -1.375,  0.   ,  0.   ,  0.   , -2.919, -0.375,\n",
       "       -0.375, -0.375, -1.675,  0.843,  0.54 ,  0.555, -1.375,  0.   ,\n",
       "        0.   , -0.375, -1.875, -1.375,  0.   ,  0.   ,  0.   , -2.919,\n",
       "       -0.375, -0.375, -0.375, -1.675,  0.843,  0.54 ,  0.555, -1.375,\n",
       "        0.   ,  0.   , -0.375, -1.875, -1.375,  0.   ,  0.   ,  0.   ,\n",
       "       -2.919, -0.375, -0.375, -0.375, -1.675,  0.843,  0.54 ,  0.555,\n",
       "       -1.375,  0.   ,  0.   , -0.375, -1.875, -1.375,  0.   ,  0.   ,\n",
       "        0.   , -2.919, -0.375, -0.375])"
      ]
     },
     "execution_count": 95,
     "metadata": {},
     "output_type": "execute_result"
    }
   ],
   "source": [
    "dp_test[100:200]"
   ]
  },
  {
   "cell_type": "code",
   "execution_count": 96,
   "metadata": {
    "collapsed": false,
    "deletable": true,
    "editable": true
   },
   "outputs": [
    {
     "data": {
      "text/plain": [
       "4849"
      ]
     },
     "execution_count": 96,
     "metadata": {},
     "output_type": "execute_result"
    }
   ],
   "source": [
    "I1 = dp_test > 0\n",
    "np.sum(I1)\n",
    "#scorer(estimator, s_test, dp_test)"
   ]
  },
  {
   "cell_type": "markdown",
   "metadata": {
    "deletable": true,
    "editable": true
   },
   "source": [
    "### below: of the actual test cases where price increased, which fraction were predicted by the model to be an increase?"
   ]
  },
  {
   "cell_type": "code",
   "execution_count": 97,
   "metadata": {
    "collapsed": false,
    "deletable": true,
    "editable": true
   },
   "outputs": [
    {
     "data": {
      "text/plain": [
       "0.6197154052381935"
      ]
     },
     "execution_count": 97,
     "metadata": {},
     "output_type": "execute_result"
    }
   ],
   "source": [
    "float(np.sum(dp_predict[I1] > 0))/np.sum(I1)"
   ]
  },
  {
   "cell_type": "code",
   "execution_count": 98,
   "metadata": {
    "collapsed": false,
    "deletable": true,
    "editable": true
   },
   "outputs": [
    {
     "data": {
      "text/plain": [
       "3005"
      ]
     },
     "execution_count": 98,
     "metadata": {},
     "output_type": "execute_result"
    }
   ],
   "source": [
    "I2 = (dp_test > 0) & (dp_predict > 0)\n",
    "np.sum(I2)"
   ]
  },
  {
   "cell_type": "markdown",
   "metadata": {
    "deletable": true,
    "editable": true
   },
   "source": [
    "### below: percentage of samples that were predicted by model to be increase and were actually an increase."
   ]
  },
  {
   "cell_type": "code",
   "execution_count": 99,
   "metadata": {
    "collapsed": false,
    "deletable": true,
    "editable": true
   },
   "outputs": [
    {
     "data": {
      "text/plain": [
       "0.651561144839549"
      ]
     },
     "execution_count": 99,
     "metadata": {},
     "output_type": "execute_result"
    }
   ],
   "source": [
    "precision_ratio = float(np.sum(I2))/np.sum(dp_predict > 0)\n",
    "precision_ratio"
   ]
  },
  {
   "cell_type": "markdown",
   "metadata": {
    "deletable": true,
    "editable": true
   },
   "source": [
    "### below: percentage of total predictions correct"
   ]
  },
  {
   "cell_type": "code",
   "execution_count": 100,
   "metadata": {
    "collapsed": false,
    "deletable": true,
    "editable": true
   },
   "outputs": [
    {
     "data": {
      "text/plain": [
       "0.6310274778146049"
      ]
     },
     "execution_count": 100,
     "metadata": {},
     "output_type": "execute_result"
    }
   ],
   "source": [
    "float(np.sum((dp_predict>0) == (dp_test>0)))/dp_test.size"
   ]
  },
  {
   "cell_type": "code",
   "execution_count": 101,
   "metadata": {
    "collapsed": false,
    "deletable": true,
    "editable": true
   },
   "outputs": [
    {
     "data": {
      "image/png": "[encoded data removed]",
      "text/plain": [
       "<matplotlib.figure.Figure at 0x7f7077075590>"
      ]
     },
     "metadata": {},
     "output_type": "display_data"
    }
   ],
   "source": [
    "cnf_matrix = confusion_matrix((dp_test>0).astype(np.int), (dp_predict>0).astype(np.int))\n",
    "plt.figure()\n",
    "visualize.plot_confusion_matrix(cnf_matrix, classes=[0, 1], title='Confusion matrix, without normalization')\n",
    "plt.show()"
   ]
  },
  {
   "cell_type": "code",
   "execution_count": 102,
   "metadata": {
    "collapsed": false
   },
   "outputs": [
    {
     "data": {
      "image/png": "[encoded data removed]",
      "text/plain": [
       "<matplotlib.figure.Figure at 0x7f707a6a1450>"
      ]
     },
     "metadata": {},
     "output_type": "display_data"
    }
   ],
   "source": [
    "cnf_matrix = confusion_matrix((dp_train>0).astype(np.int), (clf.predict(s_train)>0).astype(np.int))\n",
    "plt.figure()\n",
    "visualize.plot_confusion_matrix(cnf_matrix, classes=[0, 1], title='Confusion matrix, without normalization')\n",
    "plt.show()"
   ]
  },
  {
   "cell_type": "markdown",
   "metadata": {
    "deletable": true,
    "editable": true
   },
   "source": [
    "### For correctly predicted winners, what are typical values of dprice? Also plot distribution of dprice_test when winner is predicted but it's actually a loser on same axes."
   ]
  },
  {
   "cell_type": "code",
   "execution_count": 103,
   "metadata": {
    "collapsed": false,
    "deletable": true,
    "editable": true
   },
   "outputs": [
    {
     "data": {
      "image/png": "[encoded data removed]",
      "text/plain": [
       "<matplotlib.figure.Figure at 0x7f707bd2a690>"
      ]
     },
     "metadata": {},
     "output_type": "display_data"
    }
   ],
   "source": [
    "I2 = (dp_test > 0) & (dp_predict > 0)\n",
    "dp_slice_winner = dp_test[I2]\n",
    "dp_slice_loser = dp_test[(dp_test < 0) & (dp_predict > 0)]\n",
    "#print dp_slice_loser.min(), dp_slice_loser.max(), dp_slice_loser.mean()\n",
    "sns.distplot(dp_slice_loser)\n",
    "sns.distplot(dp_slice_winner)\n",
    "plt.show()"
   ]
  },
  {
   "cell_type": "code",
   "execution_count": 104,
   "metadata": {
    "collapsed": false,
    "deletable": true,
    "editable": true
   },
   "outputs": [
    {
     "data": {
      "image/png": "[encoded data removed]",
      "text/plain": [
       "<matplotlib.figure.Figure at 0x7f707a69f1d0>"
      ]
     },
     "metadata": {},
     "output_type": "display_data"
    },
    {
     "name": "stdout",
     "output_type": "stream",
     "text": [
      "0.112516695577 2.652776254\n"
     ]
    }
   ],
   "source": [
    "dp_predict_winner_density = dp_test[dp_predict > 0]\n",
    "sns.distplot(dp_predict_winner_density)\n",
    "plt.show()\n",
    "print dp_predict_winner_density.mean(), dp_predict_winner_density.std()"
   ]
  },
  {
   "cell_type": "code",
   "execution_count": 105,
   "metadata": {
    "collapsed": false
   },
   "outputs": [
    {
     "data": {
      "image/png": "[encoded data removed]",
      "text/plain": [
       "<matplotlib.figure.Figure at 0x7f707bcf94d0>"
      ]
     },
     "metadata": {},
     "output_type": "display_data"
    },
    {
     "name": "stdout",
     "output_type": "stream",
     "text": [
      "-0.0358788623971 1.994015107\n"
     ]
    }
   ],
   "source": [
    "sns.distplot(dp_test)\n",
    "sns.distplot(dp_predict_winner_density)\n",
    "plt.show()\n",
    "print dp_test.mean(), dp_test.std()"
   ]
  },
  {
   "cell_type": "code",
   "execution_count": 107,
   "metadata": {
    "collapsed": false,
    "deletable": true,
    "editable": true
   },
   "outputs": [
    {
     "data": {
      "image/png": "[encoded data removed]",
      "text/plain": [
       "<matplotlib.figure.Figure at 0x7f707ad3b690>"
      ]
     },
     "metadata": {},
     "output_type": "display_data"
    },
    {
     "name": "stdout",
     "output_type": "stream",
     "text": [
      "-0.180236658933 0.977753012516\n"
     ]
    }
   ],
   "source": [
    "#distribution of dprice when dp_predict < 0\n",
    "dp_predict_loser_density = dp_test[dp_predict < 0]\n",
    "sns.distplot(dp_predict_loser_density)\n",
    "plt.show()\n",
    "print dp_predict_loser_density.mean(), dp_predict_loser_density.std()"
   ]
  },
  {
   "cell_type": "code",
   "execution_count": 110,
   "metadata": {
    "collapsed": false,
    "deletable": true,
    "editable": true
   },
   "outputs": [
    {
     "name": "stdout",
     "output_type": "stream",
     "text": [
      "-0.0358788623971 1.994015107\n",
      "0.130199383506 1.11328779623\n"
     ]
    }
   ],
   "source": [
    "print dp_test.mean(), dp_test.std()\n",
    "print dp_train.mean(), dp_train.std()"
   ]
  },
  {
   "cell_type": "markdown",
   "metadata": {
    "deletable": true,
    "editable": true
   },
   "source": [
    "### Expected gains"
   ]
  },
  {
   "cell_type": "code",
   "execution_count": 111,
   "metadata": {
    "collapsed": false,
    "deletable": true,
    "editable": true
   },
   "outputs": [
    {
     "name": "stdout",
     "output_type": "stream",
     "text": [
      "0.112516695577\n"
     ]
    }
   ],
   "source": [
    "I3 = dp_predict > 0\n",
    "E = np.sum(dp_test[I3])/np.sum(I3)\n",
    "print E"
   ]
  },
  {
   "cell_type": "code",
   "execution_count": 112,
   "metadata": {
    "collapsed": false,
    "deletable": true,
    "editable": true
   },
   "outputs": [
    {
     "data": {
      "text/plain": [
       "array([  9.02189076e-02,   3.28728732e-01,   1.64749453e-01,\n",
       "         3.91357111e-02,   9.64559512e-02,   2.53610017e-02,\n",
       "         5.54793444e-04,   8.61337326e-06,   4.16986973e-04,\n",
       "         3.58964807e-06,   4.21299547e-03,   1.57592997e-04,\n",
       "         1.81413999e-03,   1.07364068e-04,   1.10803121e-04,\n",
       "         2.59170074e-03,   4.00669458e-04,   2.40161219e-05,\n",
       "         5.43424460e-05,   5.49470782e-06])"
      ]
     },
     "execution_count": 112,
     "metadata": {},
     "output_type": "execute_result"
    }
   ],
   "source": [
    "#clf.best_estimator_.feature_importances_[:20]\n",
    "clf.feature_importances_[:20]"
   ]
  },
  {
   "cell_type": "code",
   "execution_count": 114,
   "metadata": {
    "collapsed": false,
    "deletable": true,
    "editable": true
   },
   "outputs": [
    {
     "data": {
      "text/plain": [
       "[1,\n",
       " 2,\n",
       " 4,\n",
       " 0,\n",
       " 3,\n",
       " 5,\n",
       " 397,\n",
       " 110,\n",
       " 236,\n",
       " 66,\n",
       " 36,\n",
       " 395,\n",
       " 399,\n",
       " 374,\n",
       " 10,\n",
       " 377,\n",
       " 378,\n",
       " 379,\n",
       " 65,\n",
       " 74]"
      ]
     },
     "execution_count": 114,
     "metadata": {},
     "output_type": "execute_result"
    }
   ],
   "source": [
    "#important_features_indices = np.where(clf.best_estimator_.feature_importances_ > 0.01)\n",
    "#ordered_indices = sorted(range(s.shape[1]), key=clf.best_estimator_.feature_importances_.__getitem__)\n",
    "important_features_indices = np.where(clf.feature_importances_ > 0.001)\n",
    "ordered_indices = sorted(range(s.shape[1]), key=clf.feature_importances_.__getitem__)\n",
    "ordered_indices.reverse()\n",
    "ordered_indices[:20]"
   ]
  },
  {
   "cell_type": "code",
   "execution_count": 115,
   "metadata": {
    "collapsed": false,
    "deletable": true,
    "editable": true
   },
   "outputs": [
    {
     "data": {
      "text/plain": [
       "['yield',\n",
       " 'tradedate',\n",
       " 'maturity',\n",
       " 'holdtime',\n",
       " 'coupon',\n",
       " 'rtg',\n",
       " 289,\n",
       " 2,\n",
       " 128,\n",
       " 'ISSUE SOURCE: APPROPRIATIONS',\n",
       " 'New Jersey',\n",
       " 287,\n",
       " 291,\n",
       " 266,\n",
       " 'California',\n",
       " 269,\n",
       " 270,\n",
       " 271,\n",
       " 'ISSUE SOURCE: AD VALOREM PROPERTY TAX',\n",
       " 'ISSUE SOURCE: GENERAL FUND',\n",
       " 296,\n",
       " 'ISSUE SOURCE: GOVT. FD./GRANT REV.',\n",
       " 'ISSUE SOURCE: HLTH, HOSP, NURSHOME REV.',\n",
       " 277,\n",
       " 'ISSUE TYPE: REVENUE BONDS',\n",
       " 'Florida',\n",
       " 251,\n",
       " 42,\n",
       " 'ISSUE TYPE: GENERAL OBLIGATION UNLTD',\n",
       " 29]"
      ]
     },
     "execution_count": 115,
     "metadata": {},
     "output_type": "execute_result"
    }
   ],
   "source": [
    "list(s.columns[ordered_indices[:30]])"
   ]
  },
  {
   "cell_type": "code",
   "execution_count": 116,
   "metadata": {
    "collapsed": false,
    "deletable": true,
    "editable": true
   },
   "outputs": [
    {
     "data": {
      "text/plain": [
       "array([ 0.32872873,  0.16474945,  0.09645595,  0.09021891,  0.03913571,\n",
       "        0.025361  ,  0.02041451,  0.01914593,  0.01654903,  0.01111606,\n",
       "        0.01074621,  0.00686973,  0.00551762,  0.00462256,  0.004213  ,\n",
       "        0.00399589,  0.00371888,  0.00337633,  0.00336001,  0.00335913])"
      ]
     },
     "execution_count": 116,
     "metadata": {},
     "output_type": "execute_result"
    }
   ],
   "source": [
    "#clf.best_estimator_.feature_importances_[ordered_indices[:20]]\n",
    "clf.feature_importances_[ordered_indices[:20]]"
   ]
  },
  {
   "cell_type": "code",
   "execution_count": null,
   "metadata": {
    "collapsed": true,
    "deletable": true,
    "editable": true
   },
   "outputs": [],
   "source": []
  }
 ],
 "metadata": {
  "kernelspec": {
   "display_name": "Python 2",
   "language": "python",
   "name": "python2"
  },
  "language_info": {
   "codemirror_mode": {
    "name": "ipython",
    "version": 2
   },
   "file_extension": ".py",
   "mimetype": "text/x-python",
   "name": "python",
   "nbconvert_exporter": "python",
   "pygments_lexer": "ipython2",
   "version": "2.7.10"
  }
 },
 "nbformat": 4,
 "nbformat_minor": 2
}
