{
 "cells": [
  {
   "cell_type": "code",
   "execution_count": 1,
   "metadata": {
    "collapsed": true,
    "deletable": true,
    "editable": true
   },
   "outputs": [],
   "source": [
    "from collections import Counter\n",
    "import numpy as np\n",
    "import pandas as pd\n",
    "import matplotlib.pyplot as plt\n",
    "import extract\n",
    "import visualize\n",
    "from sklearn import tree\n",
    "import pydotplus\n",
    "import seaborn as sns\n",
    "import time\n",
    "from sklearn.preprocessing import StandardScaler\n",
    "from sklearn import preprocessing\n",
    "from sklearn.model_selection import train_test_split, GridSearchCV\n",
    "from sklearn.metrics import confusion_matrix\n",
    "from sklearn.ensemble import RandomForestRegressor\n",
    "from sklearn.tree import DecisionTreeRegressor"
   ]
  },
  {
   "cell_type": "code",
   "execution_count": 2,
   "metadata": {
    "collapsed": false,
    "deletable": true,
    "editable": true
   },
   "outputs": [],
   "source": [
    "s_jan = pd.read_csv(\"./data/sale_to_customer_rl_10_mm_20000_price_change_data.csv\", usecols = ['d_index',\n",
    "\t\t'cusip', 'state', 'coupon', 'maturity', 'yield', 'issuetype', 'issuesource', 'rtg',\n",
    "\t\t'tradedate', 'price', 'dprice', 'holdtime'])"
   ]
  },
  {
   "cell_type": "code",
   "execution_count": 3,
   "metadata": {
    "collapsed": true,
    "deletable": true,
    "editable": true
   },
   "outputs": [],
   "source": [
    "s_feb = pd.read_csv(\"./data/sale_to_customer_rl_10_mm_20000_price_change_data_february.csv\", usecols = ['d_index',\n",
    "\t\t'cusip', 'state', 'coupon', 'maturity', 'yield', 'issuetype', 'issuesource', 'rtg',\n",
    "\t\t'tradedate', 'price', 'dprice', 'holdtime'])"
   ]
  },
  {
   "cell_type": "code",
   "execution_count": 4,
   "metadata": {
    "collapsed": false,
    "deletable": true,
    "editable": true
   },
   "outputs": [],
   "source": [
    "d_index_jan = s_jan.pop('d_index')\n",
    "d_index_feb = s_feb.pop('d_index')"
   ]
  },
  {
   "cell_type": "code",
   "execution_count": 5,
   "metadata": {
    "collapsed": false,
    "deletable": true,
    "editable": true
   },
   "outputs": [
    {
     "data": {
      "text/html": [
       "<div>\n",
       "<table border=\"1\" class=\"dataframe\">\n",
       "  <thead>\n",
       "    <tr style=\"text-align: right;\">\n",
       "      <th></th>\n",
       "      <th>cusip</th>\n",
       "      <th>price</th>\n",
       "      <th>yield</th>\n",
       "      <th>tradedate</th>\n",
       "      <th>state</th>\n",
       "      <th>coupon</th>\n",
       "      <th>maturity</th>\n",
       "      <th>issuetype</th>\n",
       "      <th>issuesource</th>\n",
       "      <th>rtg</th>\n",
       "      <th>dprice</th>\n",
       "      <th>holdtime</th>\n",
       "    </tr>\n",
       "  </thead>\n",
       "  <tbody>\n",
       "    <tr>\n",
       "      <th>0</th>\n",
       "      <td>45471AKG6</td>\n",
       "      <td>99.41</td>\n",
       "      <td>4.045</td>\n",
       "      <td>2.0</td>\n",
       "      <td>Indiana</td>\n",
       "      <td>4.0</td>\n",
       "      <td>6692.0</td>\n",
       "      <td>ISSUE TYPE: REVENUE BONDS</td>\n",
       "      <td>ISSUE SOURCE: HLTH, HOSP, NURSHOME REV.</td>\n",
       "      <td>6</td>\n",
       "      <td>0.573</td>\n",
       "      <td>1.0</td>\n",
       "    </tr>\n",
       "    <tr>\n",
       "      <th>1</th>\n",
       "      <td>45471AKG6</td>\n",
       "      <td>99.41</td>\n",
       "      <td>4.045</td>\n",
       "      <td>2.0</td>\n",
       "      <td>Indiana</td>\n",
       "      <td>4.0</td>\n",
       "      <td>6692.0</td>\n",
       "      <td>ISSUE TYPE: REVENUE BONDS</td>\n",
       "      <td>ISSUE SOURCE: HLTH, HOSP, NURSHOME REV.</td>\n",
       "      <td>6</td>\n",
       "      <td>0.585</td>\n",
       "      <td>2.0</td>\n",
       "    </tr>\n",
       "    <tr>\n",
       "      <th>2</th>\n",
       "      <td>45471AKG6</td>\n",
       "      <td>99.41</td>\n",
       "      <td>4.045</td>\n",
       "      <td>2.0</td>\n",
       "      <td>Indiana</td>\n",
       "      <td>4.0</td>\n",
       "      <td>6692.0</td>\n",
       "      <td>ISSUE TYPE: REVENUE BONDS</td>\n",
       "      <td>ISSUE SOURCE: HLTH, HOSP, NURSHOME REV.</td>\n",
       "      <td>6</td>\n",
       "      <td>3.336</td>\n",
       "      <td>8.0</td>\n",
       "    </tr>\n",
       "    <tr>\n",
       "      <th>3</th>\n",
       "      <td>45471AKG6</td>\n",
       "      <td>99.41</td>\n",
       "      <td>4.045</td>\n",
       "      <td>2.0</td>\n",
       "      <td>Indiana</td>\n",
       "      <td>4.0</td>\n",
       "      <td>6692.0</td>\n",
       "      <td>ISSUE TYPE: REVENUE BONDS</td>\n",
       "      <td>ISSUE SOURCE: HLTH, HOSP, NURSHOME REV.</td>\n",
       "      <td>6</td>\n",
       "      <td>3.186</td>\n",
       "      <td>9.0</td>\n",
       "    </tr>\n",
       "    <tr>\n",
       "      <th>4</th>\n",
       "      <td>45471AKG6</td>\n",
       "      <td>99.41</td>\n",
       "      <td>4.045</td>\n",
       "      <td>2.0</td>\n",
       "      <td>Indiana</td>\n",
       "      <td>4.0</td>\n",
       "      <td>6692.0</td>\n",
       "      <td>ISSUE TYPE: REVENUE BONDS</td>\n",
       "      <td>ISSUE SOURCE: HLTH, HOSP, NURSHOME REV.</td>\n",
       "      <td>6</td>\n",
       "      <td>3.573</td>\n",
       "      <td>9.0</td>\n",
       "    </tr>\n",
       "  </tbody>\n",
       "</table>\n",
       "</div>"
      ],
      "text/plain": [
       "       cusip  price  yield  tradedate    state  coupon  maturity  \\\n",
       "0  45471AKG6  99.41  4.045        2.0  Indiana     4.0    6692.0   \n",
       "1  45471AKG6  99.41  4.045        2.0  Indiana     4.0    6692.0   \n",
       "2  45471AKG6  99.41  4.045        2.0  Indiana     4.0    6692.0   \n",
       "3  45471AKG6  99.41  4.045        2.0  Indiana     4.0    6692.0   \n",
       "4  45471AKG6  99.41  4.045        2.0  Indiana     4.0    6692.0   \n",
       "\n",
       "                   issuetype                              issuesource  rtg  \\\n",
       "0  ISSUE TYPE: REVENUE BONDS  ISSUE SOURCE: HLTH, HOSP, NURSHOME REV.    6   \n",
       "1  ISSUE TYPE: REVENUE BONDS  ISSUE SOURCE: HLTH, HOSP, NURSHOME REV.    6   \n",
       "2  ISSUE TYPE: REVENUE BONDS  ISSUE SOURCE: HLTH, HOSP, NURSHOME REV.    6   \n",
       "3  ISSUE TYPE: REVENUE BONDS  ISSUE SOURCE: HLTH, HOSP, NURSHOME REV.    6   \n",
       "4  ISSUE TYPE: REVENUE BONDS  ISSUE SOURCE: HLTH, HOSP, NURSHOME REV.    6   \n",
       "\n",
       "   dprice  holdtime  \n",
       "0   0.573       1.0  \n",
       "1   0.585       2.0  \n",
       "2   3.336       8.0  \n",
       "3   3.186       9.0  \n",
       "4   3.573       9.0  "
      ]
     },
     "execution_count": 5,
     "metadata": {},
     "output_type": "execute_result"
    }
   ],
   "source": [
    "s_jan.head()"
   ]
  },
  {
   "cell_type": "code",
   "execution_count": 6,
   "metadata": {
    "collapsed": false,
    "deletable": true,
    "editable": true
   },
   "outputs": [
    {
     "data": {
      "text/html": [
       "<div>\n",
       "<table border=\"1\" class=\"dataframe\">\n",
       "  <thead>\n",
       "    <tr style=\"text-align: right;\">\n",
       "      <th></th>\n",
       "      <th>cusip</th>\n",
       "      <th>tradedate</th>\n",
       "      <th>maturity</th>\n",
       "      <th>price</th>\n",
       "      <th>yield</th>\n",
       "      <th>coupon</th>\n",
       "      <th>state</th>\n",
       "      <th>issuetype</th>\n",
       "      <th>issuesource</th>\n",
       "      <th>rtg</th>\n",
       "      <th>dprice</th>\n",
       "      <th>holdtime</th>\n",
       "    </tr>\n",
       "  </thead>\n",
       "  <tbody>\n",
       "    <tr>\n",
       "      <th>0</th>\n",
       "      <td>13080SMW1</td>\n",
       "      <td>45.531944</td>\n",
       "      <td>3467.468056</td>\n",
       "      <td>100.0</td>\n",
       "      <td>3.999</td>\n",
       "      <td>4.0</td>\n",
       "      <td>California</td>\n",
       "      <td>ISSUE TYPE: REVENUE BONDS</td>\n",
       "      <td>ISSUE SOURCE: HLTH, HOSP, NURSHOME REV.</td>\n",
       "      <td>5</td>\n",
       "      <td>0.0</td>\n",
       "      <td>0.007639</td>\n",
       "    </tr>\n",
       "    <tr>\n",
       "      <th>1</th>\n",
       "      <td>13080SMW1</td>\n",
       "      <td>45.531944</td>\n",
       "      <td>3467.468056</td>\n",
       "      <td>100.0</td>\n",
       "      <td>3.999</td>\n",
       "      <td>4.0</td>\n",
       "      <td>California</td>\n",
       "      <td>ISSUE TYPE: REVENUE BONDS</td>\n",
       "      <td>ISSUE SOURCE: HLTH, HOSP, NURSHOME REV.</td>\n",
       "      <td>5</td>\n",
       "      <td>0.0</td>\n",
       "      <td>0.013889</td>\n",
       "    </tr>\n",
       "    <tr>\n",
       "      <th>2</th>\n",
       "      <td>13080SMW1</td>\n",
       "      <td>45.531944</td>\n",
       "      <td>3467.468056</td>\n",
       "      <td>100.0</td>\n",
       "      <td>3.999</td>\n",
       "      <td>4.0</td>\n",
       "      <td>California</td>\n",
       "      <td>ISSUE TYPE: REVENUE BONDS</td>\n",
       "      <td>ISSUE SOURCE: HLTH, HOSP, NURSHOME REV.</td>\n",
       "      <td>5</td>\n",
       "      <td>0.0</td>\n",
       "      <td>0.081250</td>\n",
       "    </tr>\n",
       "    <tr>\n",
       "      <th>3</th>\n",
       "      <td>13080SMW1</td>\n",
       "      <td>45.531944</td>\n",
       "      <td>3467.468056</td>\n",
       "      <td>100.0</td>\n",
       "      <td>3.999</td>\n",
       "      <td>4.0</td>\n",
       "      <td>California</td>\n",
       "      <td>ISSUE TYPE: REVENUE BONDS</td>\n",
       "      <td>ISSUE SOURCE: HLTH, HOSP, NURSHOME REV.</td>\n",
       "      <td>5</td>\n",
       "      <td>0.0</td>\n",
       "      <td>0.081944</td>\n",
       "    </tr>\n",
       "    <tr>\n",
       "      <th>4</th>\n",
       "      <td>13080SMW1</td>\n",
       "      <td>45.531944</td>\n",
       "      <td>3467.468056</td>\n",
       "      <td>100.0</td>\n",
       "      <td>3.999</td>\n",
       "      <td>4.0</td>\n",
       "      <td>California</td>\n",
       "      <td>ISSUE TYPE: REVENUE BONDS</td>\n",
       "      <td>ISSUE SOURCE: HLTH, HOSP, NURSHOME REV.</td>\n",
       "      <td>5</td>\n",
       "      <td>0.0</td>\n",
       "      <td>0.130556</td>\n",
       "    </tr>\n",
       "  </tbody>\n",
       "</table>\n",
       "</div>"
      ],
      "text/plain": [
       "       cusip  tradedate     maturity  price  yield  coupon       state  \\\n",
       "0  13080SMW1  45.531944  3467.468056  100.0  3.999     4.0  California   \n",
       "1  13080SMW1  45.531944  3467.468056  100.0  3.999     4.0  California   \n",
       "2  13080SMW1  45.531944  3467.468056  100.0  3.999     4.0  California   \n",
       "3  13080SMW1  45.531944  3467.468056  100.0  3.999     4.0  California   \n",
       "4  13080SMW1  45.531944  3467.468056  100.0  3.999     4.0  California   \n",
       "\n",
       "                   issuetype                              issuesource  rtg  \\\n",
       "0  ISSUE TYPE: REVENUE BONDS  ISSUE SOURCE: HLTH, HOSP, NURSHOME REV.    5   \n",
       "1  ISSUE TYPE: REVENUE BONDS  ISSUE SOURCE: HLTH, HOSP, NURSHOME REV.    5   \n",
       "2  ISSUE TYPE: REVENUE BONDS  ISSUE SOURCE: HLTH, HOSP, NURSHOME REV.    5   \n",
       "3  ISSUE TYPE: REVENUE BONDS  ISSUE SOURCE: HLTH, HOSP, NURSHOME REV.    5   \n",
       "4  ISSUE TYPE: REVENUE BONDS  ISSUE SOURCE: HLTH, HOSP, NURSHOME REV.    5   \n",
       "\n",
       "   dprice  holdtime  \n",
       "0     0.0  0.007639  \n",
       "1     0.0  0.013889  \n",
       "2     0.0  0.081250  \n",
       "3     0.0  0.081944  \n",
       "4     0.0  0.130556  "
      ]
     },
     "execution_count": 6,
     "metadata": {},
     "output_type": "execute_result"
    }
   ],
   "source": [
    "s_feb.head()"
   ]
  },
  {
   "cell_type": "code",
   "execution_count": 7,
   "metadata": {
    "collapsed": false,
    "deletable": true,
    "editable": true
   },
   "outputs": [],
   "source": [
    "s_jan_state_features = extract.build_state_features(s_jan, num_states = None)\n",
    "s_jan_other_features = extract.build_other_text_features(s_jan, tradetype=False)\n",
    "s_jan_t = pd.concat([s_jan.drop(['state', 'issuetype', 'issuesource', 'cusip', 'price'], axis = 1), s_jan_state_features, s_jan_other_features], axis = 1)\n",
    "s_jan_t = s_jan_t.dropna()\n",
    "s_jan_t = s_jan_t[s_jan_t.holdtime < 7] #pick out only data with holdtime < 7 days"
   ]
  },
  {
   "cell_type": "code",
   "execution_count": 8,
   "metadata": {
    "collapsed": false,
    "deletable": true,
    "editable": true
   },
   "outputs": [
    {
     "data": {
      "text/html": [
       "<div>\n",
       "<table border=\"1\" class=\"dataframe\">\n",
       "  <thead>\n",
       "    <tr style=\"text-align: right;\">\n",
       "      <th></th>\n",
       "      <th>yield</th>\n",
       "      <th>tradedate</th>\n",
       "      <th>coupon</th>\n",
       "      <th>maturity</th>\n",
       "      <th>rtg</th>\n",
       "      <th>dprice</th>\n",
       "      <th>holdtime</th>\n",
       "      <th>Alabama</th>\n",
       "      <th>Alaska</th>\n",
       "      <th>Arizona</th>\n",
       "      <th>...</th>\n",
       "      <th>ISSUE SOURCE: SALES TAX REVENUE</th>\n",
       "      <th>ISSUE SOURCE: SEWER REVENUE</th>\n",
       "      <th>ISSUE SOURCE: SPECIAL ASSESSMENT</th>\n",
       "      <th>ISSUE SOURCE: SPECIAL TAX</th>\n",
       "      <th>ISSUE SOURCE: STUDENT LOAN REVENUE</th>\n",
       "      <th>ISSUE SOURCE: TAX INCRMT./ALLCTN.REV.</th>\n",
       "      <th>ISSUE SOURCE: TOBACCO &amp; LIQUOR TAXES</th>\n",
       "      <th>ISSUE SOURCE: TOBACCO SETTLEMENT FUNDED</th>\n",
       "      <th>ISSUE SOURCE: TRANSIT REVENUE</th>\n",
       "      <th>ISSUE SOURCE: WATER REVENUE</th>\n",
       "    </tr>\n",
       "  </thead>\n",
       "  <tbody>\n",
       "    <tr>\n",
       "      <th>0</th>\n",
       "      <td>4.045</td>\n",
       "      <td>2.0</td>\n",
       "      <td>4.0</td>\n",
       "      <td>6692.0</td>\n",
       "      <td>6</td>\n",
       "      <td>0.573</td>\n",
       "      <td>1.0</td>\n",
       "      <td>0</td>\n",
       "      <td>0</td>\n",
       "      <td>0</td>\n",
       "      <td>...</td>\n",
       "      <td>0</td>\n",
       "      <td>0</td>\n",
       "      <td>0</td>\n",
       "      <td>0</td>\n",
       "      <td>0</td>\n",
       "      <td>0</td>\n",
       "      <td>0</td>\n",
       "      <td>0</td>\n",
       "      <td>0</td>\n",
       "      <td>0</td>\n",
       "    </tr>\n",
       "    <tr>\n",
       "      <th>1</th>\n",
       "      <td>4.045</td>\n",
       "      <td>2.0</td>\n",
       "      <td>4.0</td>\n",
       "      <td>6692.0</td>\n",
       "      <td>6</td>\n",
       "      <td>0.585</td>\n",
       "      <td>2.0</td>\n",
       "      <td>0</td>\n",
       "      <td>0</td>\n",
       "      <td>0</td>\n",
       "      <td>...</td>\n",
       "      <td>0</td>\n",
       "      <td>0</td>\n",
       "      <td>0</td>\n",
       "      <td>0</td>\n",
       "      <td>0</td>\n",
       "      <td>0</td>\n",
       "      <td>0</td>\n",
       "      <td>0</td>\n",
       "      <td>0</td>\n",
       "      <td>0</td>\n",
       "    </tr>\n",
       "    <tr>\n",
       "      <th>6</th>\n",
       "      <td>4.000</td>\n",
       "      <td>3.0</td>\n",
       "      <td>4.0</td>\n",
       "      <td>6691.0</td>\n",
       "      <td>6</td>\n",
       "      <td>0.012</td>\n",
       "      <td>1.0</td>\n",
       "      <td>0</td>\n",
       "      <td>0</td>\n",
       "      <td>0</td>\n",
       "      <td>...</td>\n",
       "      <td>0</td>\n",
       "      <td>0</td>\n",
       "      <td>0</td>\n",
       "      <td>0</td>\n",
       "      <td>0</td>\n",
       "      <td>0</td>\n",
       "      <td>0</td>\n",
       "      <td>0</td>\n",
       "      <td>0</td>\n",
       "      <td>0</td>\n",
       "    </tr>\n",
       "    <tr>\n",
       "      <th>11</th>\n",
       "      <td>4.000</td>\n",
       "      <td>4.0</td>\n",
       "      <td>4.0</td>\n",
       "      <td>6690.0</td>\n",
       "      <td>6</td>\n",
       "      <td>2.751</td>\n",
       "      <td>6.0</td>\n",
       "      <td>0</td>\n",
       "      <td>0</td>\n",
       "      <td>0</td>\n",
       "      <td>...</td>\n",
       "      <td>0</td>\n",
       "      <td>0</td>\n",
       "      <td>0</td>\n",
       "      <td>0</td>\n",
       "      <td>0</td>\n",
       "      <td>0</td>\n",
       "      <td>0</td>\n",
       "      <td>0</td>\n",
       "      <td>0</td>\n",
       "      <td>0</td>\n",
       "    </tr>\n",
       "    <tr>\n",
       "      <th>15</th>\n",
       "      <td>3.508</td>\n",
       "      <td>10.0</td>\n",
       "      <td>4.0</td>\n",
       "      <td>6684.0</td>\n",
       "      <td>6</td>\n",
       "      <td>-0.150</td>\n",
       "      <td>1.0</td>\n",
       "      <td>0</td>\n",
       "      <td>0</td>\n",
       "      <td>0</td>\n",
       "      <td>...</td>\n",
       "      <td>0</td>\n",
       "      <td>0</td>\n",
       "      <td>0</td>\n",
       "      <td>0</td>\n",
       "      <td>0</td>\n",
       "      <td>0</td>\n",
       "      <td>0</td>\n",
       "      <td>0</td>\n",
       "      <td>0</td>\n",
       "      <td>0</td>\n",
       "    </tr>\n",
       "  </tbody>\n",
       "</table>\n",
       "<p>5 rows × 106 columns</p>\n",
       "</div>"
      ],
      "text/plain": [
       "    yield  tradedate  coupon  maturity  rtg  dprice  holdtime  Alabama  \\\n",
       "0   4.045        2.0     4.0    6692.0    6   0.573       1.0        0   \n",
       "1   4.045        2.0     4.0    6692.0    6   0.585       2.0        0   \n",
       "6   4.000        3.0     4.0    6691.0    6   0.012       1.0        0   \n",
       "11  4.000        4.0     4.0    6690.0    6   2.751       6.0        0   \n",
       "15  3.508       10.0     4.0    6684.0    6  -0.150       1.0        0   \n",
       "\n",
       "    Alaska  Arizona             ...               \\\n",
       "0        0        0             ...                \n",
       "1        0        0             ...                \n",
       "6        0        0             ...                \n",
       "11       0        0             ...                \n",
       "15       0        0             ...                \n",
       "\n",
       "    ISSUE SOURCE: SALES TAX REVENUE  ISSUE SOURCE: SEWER REVENUE  \\\n",
       "0                                 0                            0   \n",
       "1                                 0                            0   \n",
       "6                                 0                            0   \n",
       "11                                0                            0   \n",
       "15                                0                            0   \n",
       "\n",
       "    ISSUE SOURCE: SPECIAL ASSESSMENT  ISSUE SOURCE: SPECIAL TAX  \\\n",
       "0                                  0                          0   \n",
       "1                                  0                          0   \n",
       "6                                  0                          0   \n",
       "11                                 0                          0   \n",
       "15                                 0                          0   \n",
       "\n",
       "    ISSUE SOURCE: STUDENT LOAN REVENUE  ISSUE SOURCE: TAX INCRMT./ALLCTN.REV.  \\\n",
       "0                                    0                                      0   \n",
       "1                                    0                                      0   \n",
       "6                                    0                                      0   \n",
       "11                                   0                                      0   \n",
       "15                                   0                                      0   \n",
       "\n",
       "    ISSUE SOURCE: TOBACCO & LIQUOR TAXES  \\\n",
       "0                                      0   \n",
       "1                                      0   \n",
       "6                                      0   \n",
       "11                                     0   \n",
       "15                                     0   \n",
       "\n",
       "    ISSUE SOURCE: TOBACCO SETTLEMENT FUNDED  ISSUE SOURCE: TRANSIT REVENUE  \\\n",
       "0                                         0                              0   \n",
       "1                                         0                              0   \n",
       "6                                         0                              0   \n",
       "11                                        0                              0   \n",
       "15                                        0                              0   \n",
       "\n",
       "    ISSUE SOURCE: WATER REVENUE  \n",
       "0                             0  \n",
       "1                             0  \n",
       "6                             0  \n",
       "11                            0  \n",
       "15                            0  \n",
       "\n",
       "[5 rows x 106 columns]"
      ]
     },
     "execution_count": 8,
     "metadata": {},
     "output_type": "execute_result"
    }
   ],
   "source": [
    "s_jan_t.head()"
   ]
  },
  {
   "cell_type": "code",
   "execution_count": 9,
   "metadata": {
    "collapsed": false,
    "deletable": true,
    "editable": true
   },
   "outputs": [],
   "source": [
    "s_feb_state_features = extract.build_state_features(s_feb, num_states = None)\n",
    "s_feb_other_features = extract.build_other_text_features(s_feb, tradetype=False)\n",
    "s_feb_t = pd.concat([s_feb.drop(['state', 'issuetype', 'issuesource', 'cusip', 'price'], axis = 1), s_feb_state_features, s_feb_other_features], axis = 1)\n",
    "s_feb_t = s_feb_t.dropna()\n",
    "s_feb_t = s_feb_t[s_feb_t.holdtime < 7] #pick out only data with holdtime < 7 days"
   ]
  },
  {
   "cell_type": "code",
   "execution_count": 10,
   "metadata": {
    "collapsed": false,
    "deletable": true,
    "editable": true
   },
   "outputs": [
    {
     "data": {
      "text/html": [
       "<div>\n",
       "<table border=\"1\" class=\"dataframe\">\n",
       "  <thead>\n",
       "    <tr style=\"text-align: right;\">\n",
       "      <th></th>\n",
       "      <th>tradedate</th>\n",
       "      <th>maturity</th>\n",
       "      <th>yield</th>\n",
       "      <th>coupon</th>\n",
       "      <th>rtg</th>\n",
       "      <th>dprice</th>\n",
       "      <th>holdtime</th>\n",
       "      <th>California</th>\n",
       "      <th>Illinois</th>\n",
       "      <th>Louisiana</th>\n",
       "      <th>New Jersey</th>\n",
       "      <th>ISSUE TYPE: GENERAL OBLIGATION UNLTD</th>\n",
       "      <th>ISSUE TYPE: REVENUE BONDS</th>\n",
       "      <th>ISSUE SOURCE: AD VALOREM PROPERTY TAX</th>\n",
       "      <th>ISSUE SOURCE: APPROPRIATIONS</th>\n",
       "      <th>ISSUE SOURCE: HLTH, HOSP, NURSHOME REV.</th>\n",
       "      <th>ISSUE SOURCE: WATER REVENUE</th>\n",
       "    </tr>\n",
       "  </thead>\n",
       "  <tbody>\n",
       "    <tr>\n",
       "      <th>0</th>\n",
       "      <td>45.531944</td>\n",
       "      <td>3467.468056</td>\n",
       "      <td>3.999</td>\n",
       "      <td>4.0</td>\n",
       "      <td>5</td>\n",
       "      <td>0.0</td>\n",
       "      <td>0.007639</td>\n",
       "      <td>1</td>\n",
       "      <td>0</td>\n",
       "      <td>0</td>\n",
       "      <td>0</td>\n",
       "      <td>0</td>\n",
       "      <td>1</td>\n",
       "      <td>0</td>\n",
       "      <td>0</td>\n",
       "      <td>1</td>\n",
       "      <td>0</td>\n",
       "    </tr>\n",
       "    <tr>\n",
       "      <th>1</th>\n",
       "      <td>45.531944</td>\n",
       "      <td>3467.468056</td>\n",
       "      <td>3.999</td>\n",
       "      <td>4.0</td>\n",
       "      <td>5</td>\n",
       "      <td>0.0</td>\n",
       "      <td>0.013889</td>\n",
       "      <td>1</td>\n",
       "      <td>0</td>\n",
       "      <td>0</td>\n",
       "      <td>0</td>\n",
       "      <td>0</td>\n",
       "      <td>1</td>\n",
       "      <td>0</td>\n",
       "      <td>0</td>\n",
       "      <td>1</td>\n",
       "      <td>0</td>\n",
       "    </tr>\n",
       "    <tr>\n",
       "      <th>2</th>\n",
       "      <td>45.531944</td>\n",
       "      <td>3467.468056</td>\n",
       "      <td>3.999</td>\n",
       "      <td>4.0</td>\n",
       "      <td>5</td>\n",
       "      <td>0.0</td>\n",
       "      <td>0.081250</td>\n",
       "      <td>1</td>\n",
       "      <td>0</td>\n",
       "      <td>0</td>\n",
       "      <td>0</td>\n",
       "      <td>0</td>\n",
       "      <td>1</td>\n",
       "      <td>0</td>\n",
       "      <td>0</td>\n",
       "      <td>1</td>\n",
       "      <td>0</td>\n",
       "    </tr>\n",
       "    <tr>\n",
       "      <th>3</th>\n",
       "      <td>45.531944</td>\n",
       "      <td>3467.468056</td>\n",
       "      <td>3.999</td>\n",
       "      <td>4.0</td>\n",
       "      <td>5</td>\n",
       "      <td>0.0</td>\n",
       "      <td>0.081944</td>\n",
       "      <td>1</td>\n",
       "      <td>0</td>\n",
       "      <td>0</td>\n",
       "      <td>0</td>\n",
       "      <td>0</td>\n",
       "      <td>1</td>\n",
       "      <td>0</td>\n",
       "      <td>0</td>\n",
       "      <td>1</td>\n",
       "      <td>0</td>\n",
       "    </tr>\n",
       "    <tr>\n",
       "      <th>4</th>\n",
       "      <td>45.531944</td>\n",
       "      <td>3467.468056</td>\n",
       "      <td>3.999</td>\n",
       "      <td>4.0</td>\n",
       "      <td>5</td>\n",
       "      <td>0.0</td>\n",
       "      <td>0.130556</td>\n",
       "      <td>1</td>\n",
       "      <td>0</td>\n",
       "      <td>0</td>\n",
       "      <td>0</td>\n",
       "      <td>0</td>\n",
       "      <td>1</td>\n",
       "      <td>0</td>\n",
       "      <td>0</td>\n",
       "      <td>1</td>\n",
       "      <td>0</td>\n",
       "    </tr>\n",
       "  </tbody>\n",
       "</table>\n",
       "</div>"
      ],
      "text/plain": [
       "   tradedate     maturity  yield  coupon  rtg  dprice  holdtime  California  \\\n",
       "0  45.531944  3467.468056  3.999     4.0    5     0.0  0.007639           1   \n",
       "1  45.531944  3467.468056  3.999     4.0    5     0.0  0.013889           1   \n",
       "2  45.531944  3467.468056  3.999     4.0    5     0.0  0.081250           1   \n",
       "3  45.531944  3467.468056  3.999     4.0    5     0.0  0.081944           1   \n",
       "4  45.531944  3467.468056  3.999     4.0    5     0.0  0.130556           1   \n",
       "\n",
       "   Illinois  Louisiana  New Jersey  ISSUE TYPE: GENERAL OBLIGATION UNLTD  \\\n",
       "0         0          0           0                                     0   \n",
       "1         0          0           0                                     0   \n",
       "2         0          0           0                                     0   \n",
       "3         0          0           0                                     0   \n",
       "4         0          0           0                                     0   \n",
       "\n",
       "   ISSUE TYPE: REVENUE BONDS  ISSUE SOURCE: AD VALOREM PROPERTY TAX  \\\n",
       "0                          1                                      0   \n",
       "1                          1                                      0   \n",
       "2                          1                                      0   \n",
       "3                          1                                      0   \n",
       "4                          1                                      0   \n",
       "\n",
       "   ISSUE SOURCE: APPROPRIATIONS  ISSUE SOURCE: HLTH, HOSP, NURSHOME REV.  \\\n",
       "0                             0                                        1   \n",
       "1                             0                                        1   \n",
       "2                             0                                        1   \n",
       "3                             0                                        1   \n",
       "4                             0                                        1   \n",
       "\n",
       "   ISSUE SOURCE: WATER REVENUE  \n",
       "0                            0  \n",
       "1                            0  \n",
       "2                            0  \n",
       "3                            0  \n",
       "4                            0  "
      ]
     },
     "execution_count": 10,
     "metadata": {},
     "output_type": "execute_result"
    }
   ],
   "source": [
    "s_feb_t.head()"
   ]
  },
  {
   "cell_type": "markdown",
   "metadata": {
    "deletable": true,
    "editable": true
   },
   "source": [
    "### add columns of zeros to either set for one-hot features that are not present in one or other"
   ]
  },
  {
   "cell_type": "code",
   "execution_count": 11,
   "metadata": {
    "collapsed": false,
    "deletable": true,
    "editable": true
   },
   "outputs": [],
   "source": [
    "jan_features = set(s_jan_t.columns)\n",
    "feb_features = set(s_feb_t.columns)\n",
    "for feature in jan_features - feb_features:\n",
    "    s_feb_t[feature] = 0\n",
    "\n",
    "for feature in feb_features - jan_features:\n",
    "    s_jan_t[feature] = 0"
   ]
  },
  {
   "cell_type": "code",
   "execution_count": 12,
   "metadata": {
    "collapsed": false,
    "deletable": true,
    "editable": true
   },
   "outputs": [],
   "source": [
    "dprice_jan = s_jan_t.pop('dprice')\n",
    "dprice_feb = s_feb_t.pop('dprice')"
   ]
  },
  {
   "cell_type": "code",
   "execution_count": 13,
   "metadata": {
    "collapsed": false,
    "deletable": true,
    "editable": true
   },
   "outputs": [],
   "source": [
    "clf = RandomForestRegressor(max_depth = 20, n_estimators = 100)"
   ]
  },
  {
   "cell_type": "code",
   "execution_count": 14,
   "metadata": {
    "collapsed": false,
    "deletable": true,
    "editable": true
   },
   "outputs": [
    {
     "data": {
      "text/plain": [
       "RandomForestRegressor(bootstrap=True, criterion='mse', max_depth=20,\n",
       "           max_features='auto', max_leaf_nodes=None,\n",
       "           min_impurity_split=1e-07, min_samples_leaf=1,\n",
       "           min_samples_split=2, min_weight_fraction_leaf=0.0,\n",
       "           n_estimators=100, n_jobs=1, oob_score=False, random_state=None,\n",
       "           verbose=0, warm_start=False)"
      ]
     },
     "execution_count": 14,
     "metadata": {},
     "output_type": "execute_result"
    }
   ],
   "source": [
    "clf.fit(s_jan_t, dprice_jan)"
   ]
  },
  {
   "cell_type": "code",
   "execution_count": 16,
   "metadata": {
    "collapsed": false,
    "deletable": true,
    "editable": true
   },
   "outputs": [
    {
     "data": {
      "image/png": "[encoded data removed]",
      "text/plain": [
       "<matplotlib.figure.Figure at 0x7fa68b8b1850>"
      ]
     },
     "metadata": {},
     "output_type": "display_data"
    }
   ],
   "source": [
    "dp_predict = clf.predict(s_feb_t)\n",
    "#dp_predict_old = clf.predict(s_jan_1)\n",
    "cnf_matrix = confusion_matrix((dprice_feb>0).astype(np.int), (dp_predict>0).astype(np.int))\n",
    "plt.figure()\n",
    "visualize.plot_confusion_matrix(cnf_matrix, classes=[0, 1], title='Confusion matrix, without normalization')\n",
    "plt.show()"
   ]
  },
  {
   "cell_type": "code",
   "execution_count": 102,
   "metadata": {
    "collapsed": false,
    "deletable": true,
    "editable": true
   },
   "outputs": [
    {
     "data": {
      "text/plain": [
       "177     0.281\n",
       "192     0.375\n",
       "223     0.176\n",
       "229     0.075\n",
       "951     0.266\n",
       "956     0.334\n",
       "962     0.724\n",
       "966     0.722\n",
       "967     0.030\n",
       "1062    0.079\n",
       "1066    0.077\n",
       "Name: dprice, dtype: float64"
      ]
     },
     "execution_count": 102,
     "metadata": {},
     "output_type": "execute_result"
    }
   ],
   "source": [
    "dprice_new[dprice_new > 0]"
   ]
  },
  {
   "cell_type": "code",
   "execution_count": 20,
   "metadata": {
    "collapsed": false,
    "deletable": true,
    "editable": true
   },
   "outputs": [
    {
     "data": {
      "text/plain": [
       "96.525000000000006"
      ]
     },
     "execution_count": 20,
     "metadata": {},
     "output_type": "execute_result"
    }
   ],
   "source": []
  },
  {
   "cell_type": "code",
   "execution_count": 21,
   "metadata": {
    "collapsed": false,
    "deletable": true,
    "editable": true
   },
   "outputs": [
    {
     "data": {
      "text/plain": [
       "100.7"
      ]
     },
     "execution_count": 21,
     "metadata": {},
     "output_type": "execute_result"
    }
   ],
   "source": []
  },
  {
   "cell_type": "code",
   "execution_count": 106,
   "metadata": {
    "collapsed": false,
    "deletable": true,
    "editable": true
   },
   "outputs": [
    {
     "data": {
      "text/plain": [
       "1.4072970650219945"
      ]
     },
     "execution_count": 106,
     "metadata": {},
     "output_type": "execute_result"
    }
   ],
   "source": [
    "np.sqrt(np.sum((dp_predict - dprice_new.values)**2)/dprice_new.shape[0])"
   ]
  },
  {
   "cell_type": "code",
   "execution_count": 107,
   "metadata": {
    "collapsed": false,
    "deletable": true,
    "editable": true
   },
   "outputs": [
    {
     "data": {
      "text/plain": [
       "array([-0.29416135, -0.29416135, -0.29416135, -0.29416135, -0.29416135,\n",
       "       -0.29858335, -0.29858335, -0.29858335, -0.34630401, -0.26251347])"
      ]
     },
     "execution_count": 107,
     "metadata": {},
     "output_type": "execute_result"
    }
   ],
   "source": [
    "dp_predict[:10]"
   ]
  },
  {
   "cell_type": "code",
   "execution_count": 108,
   "metadata": {
    "collapsed": false,
    "deletable": true,
    "editable": true
   },
   "outputs": [
    {
     "data": {
      "text/plain": [
       "0   -2.060\n",
       "1   -2.060\n",
       "2   -3.475\n",
       "3   -2.060\n",
       "4   -2.060\n",
       "5   -2.000\n",
       "6   -2.000\n",
       "7   -2.000\n",
       "8   -1.750\n",
       "9   -2.060\n",
       "Name: dprice, dtype: float64"
      ]
     },
     "execution_count": 108,
     "metadata": {},
     "output_type": "execute_result"
    }
   ],
   "source": [
    "dprice_new[:10]"
   ]
  },
  {
   "cell_type": "code",
   "execution_count": 117,
   "metadata": {
    "collapsed": false,
    "deletable": true,
    "editable": true
   },
   "outputs": [
    {
     "data": {
      "text/plain": [
       "Index([u'coupon', u'cusip', u'maturity', u'name', u'price', u'rtg',\n",
       "       u'tradedate', u'yield', u'Alabama', u'Alaska',\n",
       "       ...\n",
       "       u'SPECIAL TAX', u'STUDENT LOAN REVENUE', u'TAX INCRMT./ALLCTN.REV.',\n",
       "       u'TELECOM REVENUE', u'TOBACCO & LIQUOR TAXES',\n",
       "       u'TOBACCO SETTLEMENT FUNDED', u'TRANSIT REVENUE', u'WATER REVENUE',\n",
       "       u'tradetype', u'holdtime'],\n",
       "      dtype='object', length=114)"
      ]
     },
     "execution_count": 117,
     "metadata": {},
     "output_type": "execute_result"
    }
   ],
   "source": [
    "s_jan.columns"
   ]
  },
  {
   "cell_type": "code",
   "execution_count": 118,
   "metadata": {
    "collapsed": false,
    "deletable": true,
    "editable": true
   },
   "outputs": [
    {
     "data": {
      "text/plain": [
       "0   -0.762\n",
       "1    0.376\n",
       "2    0.473\n",
       "3    1.614\n",
       "4    1.272\n",
       "5   -0.211\n",
       "6    0.126\n",
       "7   -0.306\n",
       "8   -2.240\n",
       "9   -0.665\n",
       "Name: dprice, dtype: float64"
      ]
     },
     "execution_count": 118,
     "metadata": {},
     "output_type": "execute_result"
    }
   ],
   "source": [
    "dprice_jan[:10]"
   ]
  },
  {
   "cell_type": "code",
   "execution_count": 119,
   "metadata": {
    "collapsed": false,
    "deletable": true,
    "editable": true
   },
   "outputs": [
    {
     "data": {
      "text/plain": [
       "Int64Index([    0,     1,     2,     3,     4,     5,     6,     7,     8,\n",
       "                9,\n",
       "            ...\n",
       "            77175, 77176, 77177, 77178, 77179, 77180, 77181, 77182, 77183,\n",
       "            77184],\n",
       "           dtype='int64', length=77185)"
      ]
     },
     "execution_count": 119,
     "metadata": {},
     "output_type": "execute_result"
    }
   ],
   "source": [
    "dprice_jan.index"
   ]
  },
  {
   "cell_type": "code",
   "execution_count": 120,
   "metadata": {
    "collapsed": false,
    "deletable": true,
    "editable": true
   },
   "outputs": [
    {
     "data": {
      "text/plain": [
       "Int64Index([    0,     1,     2,     3,     4,     5,     6,     7,     8,\n",
       "                9,\n",
       "            ...\n",
       "            77175, 77176, 77177, 77178, 77179, 77180, 77181, 77182, 77183,\n",
       "            77184],\n",
       "           dtype='int64', length=77185)"
      ]
     },
     "execution_count": 120,
     "metadata": {},
     "output_type": "execute_result"
    }
   ],
   "source": [
    "s_jan.index"
   ]
  },
  {
   "cell_type": "code",
   "execution_count": 152,
   "metadata": {
    "collapsed": false,
    "deletable": true,
    "editable": true
   },
   "outputs": [],
   "source": [
    "r = -float('infinity')\n",
    "for s in s_jan.cusip.unique():\n",
    "    I = s_jan.cusip == s\n",
    "    n = dprice_jan[I].mean()*np.sum(dprice_jan[I] > 0)\n",
    "    if n > r:\n",
    "        r = n\n",
    "        s_best = s\n",
    "        "
   ]
  },
  {
   "cell_type": "code",
   "execution_count": 153,
   "metadata": {
    "collapsed": false,
    "deletable": true,
    "editable": true
   },
   "outputs": [
    {
     "data": {
      "text/plain": [
       "'57563RNV7'"
      ]
     },
     "execution_count": 153,
     "metadata": {},
     "output_type": "execute_result"
    }
   ],
   "source": [
    "s_best"
   ]
  },
  {
   "cell_type": "code",
   "execution_count": 154,
   "metadata": {
    "collapsed": false,
    "deletable": true,
    "editable": true
   },
   "outputs": [
    {
     "data": {
      "text/plain": [
       "49.280923664122113"
      ]
     },
     "execution_count": 154,
     "metadata": {},
     "output_type": "execute_result"
    }
   ],
   "source": [
    "r"
   ]
  },
  {
   "cell_type": "code",
   "execution_count": 155,
   "metadata": {
    "collapsed": false,
    "deletable": true,
    "editable": true
   },
   "outputs": [],
   "source": [
    "P = dprice_jan[s_jan.cusip == s_best]"
   ]
  },
  {
   "cell_type": "code",
   "execution_count": 156,
   "metadata": {
    "collapsed": false,
    "deletable": true,
    "editable": true
   },
   "outputs": [
    {
     "data": {
      "text/plain": [
       "51"
      ]
     },
     "execution_count": 156,
     "metadata": {},
     "output_type": "execute_result"
    }
   ],
   "source": [
    "np.sum(P < 0)"
   ]
  },
  {
   "cell_type": "code",
   "execution_count": 157,
   "metadata": {
    "collapsed": false,
    "deletable": true,
    "editable": true
   },
   "outputs": [
    {
     "data": {
      "text/plain": [
       "79"
      ]
     },
     "execution_count": 157,
     "metadata": {},
     "output_type": "execute_result"
    }
   ],
   "source": [
    "np.sum(P > 0)"
   ]
  },
  {
   "cell_type": "code",
   "execution_count": 158,
   "metadata": {
    "collapsed": false,
    "deletable": true,
    "editable": true
   },
   "outputs": [
    {
     "data": {
      "text/plain": [
       "0.62380916030534317"
      ]
     },
     "execution_count": 158,
     "metadata": {},
     "output_type": "execute_result"
    }
   ],
   "source": [
    "P.mean()"
   ]
  },
  {
   "cell_type": "code",
   "execution_count": 159,
   "metadata": {
    "collapsed": false,
    "deletable": true,
    "editable": true
   },
   "outputs": [
    {
     "data": {
      "text/plain": [
       "49.280923664122113"
      ]
     },
     "execution_count": 159,
     "metadata": {},
     "output_type": "execute_result"
    }
   ],
   "source": [
    "P.mean()*np.sum(P>0)"
   ]
  },
  {
   "cell_type": "code",
   "execution_count": null,
   "metadata": {
    "collapsed": true,
    "deletable": true,
    "editable": true
   },
   "outputs": [],
   "source": []
  }
 ],
 "metadata": {
  "kernelspec": {
   "display_name": "Python 2",
   "language": "python",
   "name": "python2"
  },
  "language_info": {
   "codemirror_mode": {
    "name": "ipython",
    "version": 2
   },
   "file_extension": ".py",
   "mimetype": "text/x-python",
   "name": "python",
   "nbconvert_exporter": "python",
   "pygments_lexer": "ipython2",
   "version": "2.7.10"
  }
 },
 "nbformat": 4,
 "nbformat_minor": 2
}
