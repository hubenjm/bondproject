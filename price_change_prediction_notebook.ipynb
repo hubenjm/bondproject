{
 "cells": [
  {
   "cell_type": "code",
   "execution_count": 219,
   "metadata": {
    "collapsed": false,
    "deletable": true,
    "editable": true
   },
   "outputs": [],
   "source": [
    "import numpy as np\n",
    "import pandas as pd\n",
    "import matplotlib.pyplot as plt\n",
    "import extract\n",
    "import visualize\n",
    "from sklearn import tree\n",
    "import pydotplus\n",
    "import seaborn as sns"
   ]
  },
  {
   "cell_type": "code",
   "execution_count": 220,
   "metadata": {
    "collapsed": true,
    "deletable": true,
    "editable": true
   },
   "outputs": [],
   "source": [
    "from sklearn.preprocessing import StandardScaler\n",
    "from sklearn import preprocessing\n",
    "from sklearn.model_selection import train_test_split, GridSearchCV\n",
    "from sklearn.metrics import confusion_matrix\n",
    "from sklearn.ensemble import RandomForestRegressor"
   ]
  },
  {
   "cell_type": "code",
   "execution_count": 221,
   "metadata": {
    "collapsed": false,
    "deletable": true,
    "editable": true
   },
   "outputs": [],
   "source": [
    "d = extract.get_data()\n",
    "d = extract.clean_data(d)"
   ]
  },
  {
   "cell_type": "code",
   "execution_count": 222,
   "metadata": {
    "collapsed": false,
    "deletable": true,
    "editable": true
   },
   "outputs": [
    {
     "data": {
      "text/html": [
       "<div>\n",
       "<table border=\"1\" class=\"dataframe\">\n",
       "  <thead>\n",
       "    <tr style=\"text-align: right;\">\n",
       "      <th></th>\n",
       "      <th>tradeid</th>\n",
       "      <th>cusip</th>\n",
       "      <th>amount</th>\n",
       "      <th>price</th>\n",
       "      <th>yield</th>\n",
       "      <th>tradedate</th>\n",
       "      <th>tradetype</th>\n",
       "      <th>name</th>\n",
       "      <th>state</th>\n",
       "      <th>coupon</th>\n",
       "      <th>maturity</th>\n",
       "      <th>issuesize</th>\n",
       "      <th>issuetype</th>\n",
       "      <th>issuesource</th>\n",
       "      <th>bidcount</th>\n",
       "      <th>rtg</th>\n",
       "    </tr>\n",
       "  </thead>\n",
       "  <tbody>\n",
       "    <tr>\n",
       "      <th>0</th>\n",
       "      <td>317.0</td>\n",
       "      <td>45471AKG6</td>\n",
       "      <td>5000.0</td>\n",
       "      <td>99.507</td>\n",
       "      <td>4.037</td>\n",
       "      <td>0.0</td>\n",
       "      <td>Sale_to_Customer</td>\n",
       "      <td>indiana st fin auth-a</td>\n",
       "      <td>Indiana</td>\n",
       "      <td>4.00</td>\n",
       "      <td>6635.0</td>\n",
       "      <td>88930000.0</td>\n",
       "      <td>REVENUE BONDS</td>\n",
       "      <td>HLTH, HOSP, NURSHOME REV.</td>\n",
       "      <td>NaN</td>\n",
       "      <td>6</td>\n",
       "    </tr>\n",
       "    <tr>\n",
       "      <th>1</th>\n",
       "      <td>318.0</td>\n",
       "      <td>45471AKG6</td>\n",
       "      <td>30000.0</td>\n",
       "      <td>99.410</td>\n",
       "      <td>4.045</td>\n",
       "      <td>0.0</td>\n",
       "      <td>Sale_to_Customer</td>\n",
       "      <td>indiana st fin auth-a</td>\n",
       "      <td>Indiana</td>\n",
       "      <td>4.00</td>\n",
       "      <td>6635.0</td>\n",
       "      <td>88930000.0</td>\n",
       "      <td>REVENUE BONDS</td>\n",
       "      <td>HLTH, HOSP, NURSHOME REV.</td>\n",
       "      <td>NaN</td>\n",
       "      <td>6</td>\n",
       "    </tr>\n",
       "    <tr>\n",
       "      <th>2</th>\n",
       "      <td>319.0</td>\n",
       "      <td>45471AKG6</td>\n",
       "      <td>30000.0</td>\n",
       "      <td>99.290</td>\n",
       "      <td>4.054</td>\n",
       "      <td>0.0</td>\n",
       "      <td>Purchase_from_Customer</td>\n",
       "      <td>indiana st fin auth-a</td>\n",
       "      <td>Indiana</td>\n",
       "      <td>4.00</td>\n",
       "      <td>6635.0</td>\n",
       "      <td>88930000.0</td>\n",
       "      <td>REVENUE BONDS</td>\n",
       "      <td>HLTH, HOSP, NURSHOME REV.</td>\n",
       "      <td>NaN</td>\n",
       "      <td>6</td>\n",
       "    </tr>\n",
       "    <tr>\n",
       "      <th>3</th>\n",
       "      <td>333.0</td>\n",
       "      <td>45471AMY5</td>\n",
       "      <td>15000.0</td>\n",
       "      <td>103.145</td>\n",
       "      <td>3.717</td>\n",
       "      <td>0.0</td>\n",
       "      <td>Sale_to_Customer</td>\n",
       "      <td>in fin auth-major</td>\n",
       "      <td>Indiana</td>\n",
       "      <td>4.25</td>\n",
       "      <td>6423.0</td>\n",
       "      <td>9520000.0</td>\n",
       "      <td>REVENUE BONDS</td>\n",
       "      <td>HLTH, HOSP, NURSHOME REV.</td>\n",
       "      <td>NaN</td>\n",
       "      <td>9</td>\n",
       "    </tr>\n",
       "    <tr>\n",
       "      <th>4</th>\n",
       "      <td>378.0</td>\n",
       "      <td>4550572N8</td>\n",
       "      <td>150000.0</td>\n",
       "      <td>114.082</td>\n",
       "      <td>2.060</td>\n",
       "      <td>0.0</td>\n",
       "      <td>Sale_to_Customer</td>\n",
       "      <td>in fin auth-ref-a</td>\n",
       "      <td>Indiana</td>\n",
       "      <td>5.00</td>\n",
       "      <td>2894.0</td>\n",
       "      <td>22530000.0</td>\n",
       "      <td>REVENUE BONDS</td>\n",
       "      <td>WATER REVENUE</td>\n",
       "      <td>NaN</td>\n",
       "      <td>1</td>\n",
       "    </tr>\n",
       "  </tbody>\n",
       "</table>\n",
       "</div>"
      ],
      "text/plain": [
       "   tradeid      cusip    amount    price  yield  tradedate  \\\n",
       "0    317.0  45471AKG6    5000.0   99.507  4.037        0.0   \n",
       "1    318.0  45471AKG6   30000.0   99.410  4.045        0.0   \n",
       "2    319.0  45471AKG6   30000.0   99.290  4.054        0.0   \n",
       "3    333.0  45471AMY5   15000.0  103.145  3.717        0.0   \n",
       "4    378.0  4550572N8  150000.0  114.082  2.060        0.0   \n",
       "\n",
       "                tradetype                   name    state  coupon  maturity  \\\n",
       "0        Sale_to_Customer  indiana st fin auth-a  Indiana    4.00    6635.0   \n",
       "1        Sale_to_Customer  indiana st fin auth-a  Indiana    4.00    6635.0   \n",
       "2  Purchase_from_Customer  indiana st fin auth-a  Indiana    4.00    6635.0   \n",
       "3        Sale_to_Customer      in fin auth-major  Indiana    4.25    6423.0   \n",
       "4        Sale_to_Customer      in fin auth-ref-a  Indiana    5.00    2894.0   \n",
       "\n",
       "    issuesize      issuetype                issuesource  bidcount  rtg  \n",
       "0  88930000.0  REVENUE BONDS  HLTH, HOSP, NURSHOME REV.       NaN    6  \n",
       "1  88930000.0  REVENUE BONDS  HLTH, HOSP, NURSHOME REV.       NaN    6  \n",
       "2  88930000.0  REVENUE BONDS  HLTH, HOSP, NURSHOME REV.       NaN    6  \n",
       "3   9520000.0  REVENUE BONDS  HLTH, HOSP, NURSHOME REV.       NaN    9  \n",
       "4  22530000.0  REVENUE BONDS              WATER REVENUE       NaN    1  "
      ]
     },
     "execution_count": 222,
     "metadata": {},
     "output_type": "execute_result"
    }
   ],
   "source": [
    "d.head()"
   ]
  },
  {
   "cell_type": "code",
   "execution_count": 223,
   "metadata": {
    "collapsed": false,
    "deletable": true,
    "editable": true
   },
   "outputs": [],
   "source": [
    "s0 = pd.read_csv(\"price_change_data.csv\", usecols = ['d_index', 'tradetype',\n",
    "\t\t'state', 'coupon', 'maturity', 'issuetype', 'issuesource', 'rtg',\n",
    "\t\t'tradedate', 'dprice', 'holdtime'])"
   ]
  },
  {
   "cell_type": "code",
   "execution_count": 224,
   "metadata": {
    "collapsed": false,
    "deletable": true,
    "editable": true
   },
   "outputs": [
    {
     "data": {
      "text/html": [
       "<div>\n",
       "<table border=\"1\" class=\"dataframe\">\n",
       "  <thead>\n",
       "    <tr style=\"text-align: right;\">\n",
       "      <th></th>\n",
       "      <th>tradedate</th>\n",
       "      <th>tradetype</th>\n",
       "      <th>state</th>\n",
       "      <th>coupon</th>\n",
       "      <th>maturity</th>\n",
       "      <th>issuetype</th>\n",
       "      <th>issuesource</th>\n",
       "      <th>rtg</th>\n",
       "      <th>dprice</th>\n",
       "      <th>holdtime</th>\n",
       "      <th>d_index</th>\n",
       "    </tr>\n",
       "  </thead>\n",
       "  <tbody>\n",
       "    <tr>\n",
       "      <th>0</th>\n",
       "      <td>0.0</td>\n",
       "      <td>Sale_to_Customer</td>\n",
       "      <td>Indiana</td>\n",
       "      <td>4.0</td>\n",
       "      <td>6635.0</td>\n",
       "      <td>REVENUE BONDS</td>\n",
       "      <td>HLTH, HOSP, NURSHOME REV.</td>\n",
       "      <td>6</td>\n",
       "      <td>-0.762</td>\n",
       "      <td>1.0</td>\n",
       "      <td>0</td>\n",
       "    </tr>\n",
       "    <tr>\n",
       "      <th>1</th>\n",
       "      <td>0.0</td>\n",
       "      <td>Sale_to_Customer</td>\n",
       "      <td>Indiana</td>\n",
       "      <td>4.0</td>\n",
       "      <td>6635.0</td>\n",
       "      <td>REVENUE BONDS</td>\n",
       "      <td>HLTH, HOSP, NURSHOME REV.</td>\n",
       "      <td>6</td>\n",
       "      <td>0.376</td>\n",
       "      <td>1.0</td>\n",
       "      <td>0</td>\n",
       "    </tr>\n",
       "    <tr>\n",
       "      <th>2</th>\n",
       "      <td>0.0</td>\n",
       "      <td>Sale_to_Customer</td>\n",
       "      <td>Indiana</td>\n",
       "      <td>4.0</td>\n",
       "      <td>6635.0</td>\n",
       "      <td>REVENUE BONDS</td>\n",
       "      <td>HLTH, HOSP, NURSHOME REV.</td>\n",
       "      <td>6</td>\n",
       "      <td>0.473</td>\n",
       "      <td>6.0</td>\n",
       "      <td>0</td>\n",
       "    </tr>\n",
       "    <tr>\n",
       "      <th>3</th>\n",
       "      <td>0.0</td>\n",
       "      <td>Sale_to_Customer</td>\n",
       "      <td>Indiana</td>\n",
       "      <td>4.0</td>\n",
       "      <td>6635.0</td>\n",
       "      <td>REVENUE BONDS</td>\n",
       "      <td>HLTH, HOSP, NURSHOME REV.</td>\n",
       "      <td>6</td>\n",
       "      <td>1.614</td>\n",
       "      <td>8.0</td>\n",
       "      <td>0</td>\n",
       "    </tr>\n",
       "    <tr>\n",
       "      <th>4</th>\n",
       "      <td>0.0</td>\n",
       "      <td>Sale_to_Customer</td>\n",
       "      <td>Indiana</td>\n",
       "      <td>4.0</td>\n",
       "      <td>6635.0</td>\n",
       "      <td>REVENUE BONDS</td>\n",
       "      <td>HLTH, HOSP, NURSHOME REV.</td>\n",
       "      <td>6</td>\n",
       "      <td>1.272</td>\n",
       "      <td>10.0</td>\n",
       "      <td>0</td>\n",
       "    </tr>\n",
       "    <tr>\n",
       "      <th>5</th>\n",
       "      <td>0.0</td>\n",
       "      <td>Sale_to_Customer</td>\n",
       "      <td>Indiana</td>\n",
       "      <td>4.0</td>\n",
       "      <td>6635.0</td>\n",
       "      <td>REVENUE BONDS</td>\n",
       "      <td>HLTH, HOSP, NURSHOME REV.</td>\n",
       "      <td>6</td>\n",
       "      <td>-0.211</td>\n",
       "      <td>21.0</td>\n",
       "      <td>0</td>\n",
       "    </tr>\n",
       "    <tr>\n",
       "      <th>6</th>\n",
       "      <td>0.0</td>\n",
       "      <td>Sale_to_Customer</td>\n",
       "      <td>Indiana</td>\n",
       "      <td>4.0</td>\n",
       "      <td>6635.0</td>\n",
       "      <td>REVENUE BONDS</td>\n",
       "      <td>HLTH, HOSP, NURSHOME REV.</td>\n",
       "      <td>6</td>\n",
       "      <td>0.126</td>\n",
       "      <td>21.0</td>\n",
       "      <td>0</td>\n",
       "    </tr>\n",
       "    <tr>\n",
       "      <th>7</th>\n",
       "      <td>0.0</td>\n",
       "      <td>Sale_to_Customer</td>\n",
       "      <td>Indiana</td>\n",
       "      <td>4.0</td>\n",
       "      <td>6635.0</td>\n",
       "      <td>REVENUE BONDS</td>\n",
       "      <td>HLTH, HOSP, NURSHOME REV.</td>\n",
       "      <td>6</td>\n",
       "      <td>-0.306</td>\n",
       "      <td>27.0</td>\n",
       "      <td>0</td>\n",
       "    </tr>\n",
       "    <tr>\n",
       "      <th>8</th>\n",
       "      <td>0.0</td>\n",
       "      <td>Sale_to_Customer</td>\n",
       "      <td>Indiana</td>\n",
       "      <td>4.0</td>\n",
       "      <td>6635.0</td>\n",
       "      <td>REVENUE BONDS</td>\n",
       "      <td>HLTH, HOSP, NURSHOME REV.</td>\n",
       "      <td>6</td>\n",
       "      <td>-2.240</td>\n",
       "      <td>29.0</td>\n",
       "      <td>0</td>\n",
       "    </tr>\n",
       "    <tr>\n",
       "      <th>9</th>\n",
       "      <td>0.0</td>\n",
       "      <td>Sale_to_Customer</td>\n",
       "      <td>Indiana</td>\n",
       "      <td>4.0</td>\n",
       "      <td>6635.0</td>\n",
       "      <td>REVENUE BONDS</td>\n",
       "      <td>HLTH, HOSP, NURSHOME REV.</td>\n",
       "      <td>6</td>\n",
       "      <td>-0.665</td>\n",
       "      <td>1.0</td>\n",
       "      <td>1</td>\n",
       "    </tr>\n",
       "  </tbody>\n",
       "</table>\n",
       "</div>"
      ],
      "text/plain": [
       "   tradedate         tradetype    state  coupon  maturity      issuetype  \\\n",
       "0        0.0  Sale_to_Customer  Indiana     4.0    6635.0  REVENUE BONDS   \n",
       "1        0.0  Sale_to_Customer  Indiana     4.0    6635.0  REVENUE BONDS   \n",
       "2        0.0  Sale_to_Customer  Indiana     4.0    6635.0  REVENUE BONDS   \n",
       "3        0.0  Sale_to_Customer  Indiana     4.0    6635.0  REVENUE BONDS   \n",
       "4        0.0  Sale_to_Customer  Indiana     4.0    6635.0  REVENUE BONDS   \n",
       "5        0.0  Sale_to_Customer  Indiana     4.0    6635.0  REVENUE BONDS   \n",
       "6        0.0  Sale_to_Customer  Indiana     4.0    6635.0  REVENUE BONDS   \n",
       "7        0.0  Sale_to_Customer  Indiana     4.0    6635.0  REVENUE BONDS   \n",
       "8        0.0  Sale_to_Customer  Indiana     4.0    6635.0  REVENUE BONDS   \n",
       "9        0.0  Sale_to_Customer  Indiana     4.0    6635.0  REVENUE BONDS   \n",
       "\n",
       "                 issuesource  rtg  dprice  holdtime  d_index  \n",
       "0  HLTH, HOSP, NURSHOME REV.    6  -0.762       1.0        0  \n",
       "1  HLTH, HOSP, NURSHOME REV.    6   0.376       1.0        0  \n",
       "2  HLTH, HOSP, NURSHOME REV.    6   0.473       6.0        0  \n",
       "3  HLTH, HOSP, NURSHOME REV.    6   1.614       8.0        0  \n",
       "4  HLTH, HOSP, NURSHOME REV.    6   1.272      10.0        0  \n",
       "5  HLTH, HOSP, NURSHOME REV.    6  -0.211      21.0        0  \n",
       "6  HLTH, HOSP, NURSHOME REV.    6   0.126      21.0        0  \n",
       "7  HLTH, HOSP, NURSHOME REV.    6  -0.306      27.0        0  \n",
       "8  HLTH, HOSP, NURSHOME REV.    6  -2.240      29.0        0  \n",
       "9  HLTH, HOSP, NURSHOME REV.    6  -0.665       1.0        1  "
      ]
     },
     "execution_count": 224,
     "metadata": {},
     "output_type": "execute_result"
    }
   ],
   "source": [
    "s0[:10]"
   ]
  },
  {
   "cell_type": "code",
   "execution_count": 225,
   "metadata": {
    "collapsed": false,
    "deletable": true,
    "editable": true
   },
   "outputs": [],
   "source": [
    "d_index = s0.pop('d_index')\n",
    "s_state_features = extract.build_state_features(s0, num_states = 20)\n",
    "s_other_features = extract.build_other_text_features(s0)\n",
    "s = pd.concat([s0.drop(['state', 'issuetype', 'issuesource', 'tradetype'], axis = 1), s_state_features, s_other_features], axis = 1)\n",
    "s = s.dropna()\n",
    "s = s[s.holdtime < 7] #pick out only data with holdtime < 7 days"
   ]
  },
  {
   "cell_type": "code",
   "execution_count": 226,
   "metadata": {
    "collapsed": false,
    "deletable": true,
    "editable": true
   },
   "outputs": [
    {
     "data": {
      "text/html": [
       "<div>\n",
       "<table border=\"1\" class=\"dataframe\">\n",
       "  <thead>\n",
       "    <tr style=\"text-align: right;\">\n",
       "      <th></th>\n",
       "      <th>tradedate</th>\n",
       "      <th>coupon</th>\n",
       "      <th>maturity</th>\n",
       "      <th>rtg</th>\n",
       "      <th>dprice</th>\n",
       "      <th>holdtime</th>\n",
       "      <th>Arizona</th>\n",
       "      <th>California</th>\n",
       "      <th>Connecticut</th>\n",
       "      <th>Dist. of Columbia</th>\n",
       "      <th>...</th>\n",
       "      <th>SPECIAL ASSESSMENT</th>\n",
       "      <th>SPECIAL TAX</th>\n",
       "      <th>STUDENT LOAN REVENUE</th>\n",
       "      <th>TAX INCRMT./ALLCTN.REV.</th>\n",
       "      <th>TELECOM REVENUE</th>\n",
       "      <th>TOBACCO &amp; LIQUOR TAXES</th>\n",
       "      <th>TOBACCO SETTLEMENT FUNDED</th>\n",
       "      <th>TRANSIT REVENUE</th>\n",
       "      <th>WATER REVENUE</th>\n",
       "      <th>tradetype</th>\n",
       "    </tr>\n",
       "  </thead>\n",
       "  <tbody>\n",
       "    <tr>\n",
       "      <th>0</th>\n",
       "      <td>0.0</td>\n",
       "      <td>4.0</td>\n",
       "      <td>6635.0</td>\n",
       "      <td>6</td>\n",
       "      <td>-0.762</td>\n",
       "      <td>1.0</td>\n",
       "      <td>0</td>\n",
       "      <td>0</td>\n",
       "      <td>0</td>\n",
       "      <td>0</td>\n",
       "      <td>...</td>\n",
       "      <td>0</td>\n",
       "      <td>0</td>\n",
       "      <td>0</td>\n",
       "      <td>0</td>\n",
       "      <td>0</td>\n",
       "      <td>0</td>\n",
       "      <td>0</td>\n",
       "      <td>0</td>\n",
       "      <td>0</td>\n",
       "      <td>1</td>\n",
       "    </tr>\n",
       "    <tr>\n",
       "      <th>1</th>\n",
       "      <td>0.0</td>\n",
       "      <td>4.0</td>\n",
       "      <td>6635.0</td>\n",
       "      <td>6</td>\n",
       "      <td>0.376</td>\n",
       "      <td>1.0</td>\n",
       "      <td>0</td>\n",
       "      <td>0</td>\n",
       "      <td>0</td>\n",
       "      <td>0</td>\n",
       "      <td>...</td>\n",
       "      <td>0</td>\n",
       "      <td>0</td>\n",
       "      <td>0</td>\n",
       "      <td>0</td>\n",
       "      <td>0</td>\n",
       "      <td>0</td>\n",
       "      <td>0</td>\n",
       "      <td>0</td>\n",
       "      <td>0</td>\n",
       "      <td>1</td>\n",
       "    </tr>\n",
       "    <tr>\n",
       "      <th>2</th>\n",
       "      <td>0.0</td>\n",
       "      <td>4.0</td>\n",
       "      <td>6635.0</td>\n",
       "      <td>6</td>\n",
       "      <td>0.473</td>\n",
       "      <td>6.0</td>\n",
       "      <td>0</td>\n",
       "      <td>0</td>\n",
       "      <td>0</td>\n",
       "      <td>0</td>\n",
       "      <td>...</td>\n",
       "      <td>0</td>\n",
       "      <td>0</td>\n",
       "      <td>0</td>\n",
       "      <td>0</td>\n",
       "      <td>0</td>\n",
       "      <td>0</td>\n",
       "      <td>0</td>\n",
       "      <td>0</td>\n",
       "      <td>0</td>\n",
       "      <td>1</td>\n",
       "    </tr>\n",
       "    <tr>\n",
       "      <th>9</th>\n",
       "      <td>0.0</td>\n",
       "      <td>4.0</td>\n",
       "      <td>6635.0</td>\n",
       "      <td>6</td>\n",
       "      <td>-0.665</td>\n",
       "      <td>1.0</td>\n",
       "      <td>0</td>\n",
       "      <td>0</td>\n",
       "      <td>0</td>\n",
       "      <td>0</td>\n",
       "      <td>...</td>\n",
       "      <td>0</td>\n",
       "      <td>0</td>\n",
       "      <td>0</td>\n",
       "      <td>0</td>\n",
       "      <td>0</td>\n",
       "      <td>0</td>\n",
       "      <td>0</td>\n",
       "      <td>0</td>\n",
       "      <td>0</td>\n",
       "      <td>1</td>\n",
       "    </tr>\n",
       "    <tr>\n",
       "      <th>10</th>\n",
       "      <td>0.0</td>\n",
       "      <td>4.0</td>\n",
       "      <td>6635.0</td>\n",
       "      <td>6</td>\n",
       "      <td>0.473</td>\n",
       "      <td>1.0</td>\n",
       "      <td>0</td>\n",
       "      <td>0</td>\n",
       "      <td>0</td>\n",
       "      <td>0</td>\n",
       "      <td>...</td>\n",
       "      <td>0</td>\n",
       "      <td>0</td>\n",
       "      <td>0</td>\n",
       "      <td>0</td>\n",
       "      <td>0</td>\n",
       "      <td>0</td>\n",
       "      <td>0</td>\n",
       "      <td>0</td>\n",
       "      <td>0</td>\n",
       "      <td>1</td>\n",
       "    </tr>\n",
       "  </tbody>\n",
       "</table>\n",
       "<p>5 rows × 77 columns</p>\n",
       "</div>"
      ],
      "text/plain": [
       "    tradedate  coupon  maturity  rtg  dprice  holdtime  Arizona  California  \\\n",
       "0         0.0     4.0    6635.0    6  -0.762       1.0        0           0   \n",
       "1         0.0     4.0    6635.0    6   0.376       1.0        0           0   \n",
       "2         0.0     4.0    6635.0    6   0.473       6.0        0           0   \n",
       "9         0.0     4.0    6635.0    6  -0.665       1.0        0           0   \n",
       "10        0.0     4.0    6635.0    6   0.473       1.0        0           0   \n",
       "\n",
       "    Connecticut  Dist. of Columbia    ...      SPECIAL ASSESSMENT  \\\n",
       "0             0                  0    ...                       0   \n",
       "1             0                  0    ...                       0   \n",
       "2             0                  0    ...                       0   \n",
       "9             0                  0    ...                       0   \n",
       "10            0                  0    ...                       0   \n",
       "\n",
       "    SPECIAL TAX  STUDENT LOAN REVENUE  TAX INCRMT./ALLCTN.REV.  \\\n",
       "0             0                     0                        0   \n",
       "1             0                     0                        0   \n",
       "2             0                     0                        0   \n",
       "9             0                     0                        0   \n",
       "10            0                     0                        0   \n",
       "\n",
       "    TELECOM REVENUE  TOBACCO & LIQUOR TAXES  TOBACCO SETTLEMENT FUNDED  \\\n",
       "0                 0                       0                          0   \n",
       "1                 0                       0                          0   \n",
       "2                 0                       0                          0   \n",
       "9                 0                       0                          0   \n",
       "10                0                       0                          0   \n",
       "\n",
       "    TRANSIT REVENUE  WATER REVENUE  tradetype  \n",
       "0                 0              0          1  \n",
       "1                 0              0          1  \n",
       "2                 0              0          1  \n",
       "9                 0              0          1  \n",
       "10                0              0          1  \n",
       "\n",
       "[5 rows x 77 columns]"
      ]
     },
     "execution_count": 226,
     "metadata": {},
     "output_type": "execute_result"
    }
   ],
   "source": [
    "s.head()"
   ]
  },
  {
   "cell_type": "markdown",
   "metadata": {
    "deletable": true,
    "editable": true
   },
   "source": [
    "### Try a Random Forest Regressor"
   ]
  },
  {
   "cell_type": "code",
   "execution_count": 227,
   "metadata": {
    "collapsed": false,
    "deletable": true,
    "editable": true
   },
   "outputs": [],
   "source": [
    "dprice = s.pop('dprice')"
   ]
  },
  {
   "cell_type": "code",
   "execution_count": 228,
   "metadata": {
    "collapsed": true,
    "deletable": true,
    "editable": true
   },
   "outputs": [],
   "source": [
    "s_train, s_test, dp_train, dp_test = train_test_split(s, dprice, test_size=0.20, random_state=203)"
   ]
  },
  {
   "cell_type": "markdown",
   "metadata": {
    "deletable": true,
    "editable": true
   },
   "source": [
    "### Want to optimize the max_depth and n_estimators parameters of the regressor with respect to the percentage of winning predictions that are actually winners. To do this, we construct a custom scorer function"
   ]
  },
  {
   "cell_type": "code",
   "execution_count": 229,
   "metadata": {
    "collapsed": true,
    "deletable": true,
    "editable": true
   },
   "outputs": [],
   "source": [
    "def scorer(clf, X_test, y_test):\n",
    "    #we want to maximize the recall of positive gains, i.e. the estimator catches the most positive outcomes\n",
    "    y_predict = clf.predict(X_test)\n",
    "    return float(np.sum(y_predict[y_test > 0] > 0))/np.sum(y_test > 0)"
   ]
  },
  {
   "cell_type": "code",
   "execution_count": 231,
   "metadata": {
    "collapsed": false,
    "deletable": true,
    "editable": true
   },
   "outputs": [],
   "source": [
    "parameters = {'max_depth':[10, 15, 20, 25], 'n_estimators':[50, 100], 'criterion':['mse']}\n",
    "rfr = RandomForestRegressor()\n",
    "clf = GridSearchCV(rfr, param_grid = parameters, scoring = scorer)"
   ]
  },
  {
   "cell_type": "code",
   "execution_count": 232,
   "metadata": {
    "collapsed": false,
    "deletable": true,
    "editable": true
   },
   "outputs": [
    {
     "data": {
      "text/plain": [
       "GridSearchCV(cv=None, error_score='raise',\n",
       "       estimator=RandomForestRegressor(bootstrap=True, criterion='mse', max_depth=None,\n",
       "           max_features='auto', max_leaf_nodes=None,\n",
       "           min_impurity_split=1e-07, min_samples_leaf=1,\n",
       "           min_samples_split=2, min_weight_fraction_leaf=0.0,\n",
       "           n_estimators=10, n_jobs=1, oob_score=False, random_state=None,\n",
       "           verbose=0, warm_start=False),\n",
       "       fit_params={}, iid=True, n_jobs=1,\n",
       "       param_grid={'n_estimators': [50, 100], 'criterion': ['mse'], 'max_depth': [10, 15, 20, 25]},\n",
       "       pre_dispatch='2*n_jobs', refit=True, return_train_score=True,\n",
       "       scoring=<function scorer at 0x7fd9a1318c08>, verbose=0)"
      ]
     },
     "execution_count": 232,
     "metadata": {},
     "output_type": "execute_result"
    }
   ],
   "source": [
    "clf.fit(s, dprice)"
   ]
  },
  {
   "cell_type": "code",
   "execution_count": 233,
   "metadata": {
    "collapsed": false,
    "deletable": true,
    "editable": true
   },
   "outputs": [
    {
     "data": {
      "text/plain": [
       "{'criterion': 'mse', 'max_depth': 20, 'n_estimators': 100}"
      ]
     },
     "execution_count": 233,
     "metadata": {},
     "output_type": "execute_result"
    }
   ],
   "source": [
    "clf.cv_results_\n",
    "estimator = clf.best_estimator_\n",
    "clf.best_params_"
   ]
  },
  {
   "cell_type": "code",
   "execution_count": 234,
   "metadata": {
    "collapsed": false,
    "deletable": true,
    "editable": true
   },
   "outputs": [],
   "source": [
    "dp_predict = estimator.predict(s_test)"
   ]
  },
  {
   "cell_type": "code",
   "execution_count": 235,
   "metadata": {
    "collapsed": false,
    "deletable": true,
    "editable": true
   },
   "outputs": [
    {
     "data": {
      "text/plain": [
       "array([-1.80688988, -2.52243784, -0.99426396, -0.56956658, -2.46786459,\n",
       "       -2.14799485, -2.84120393, -1.66508455, -2.04197979, -3.68586655])"
      ]
     },
     "execution_count": 235,
     "metadata": {},
     "output_type": "execute_result"
    }
   ],
   "source": [
    "dp_predict[:10]"
   ]
  },
  {
   "cell_type": "code",
   "execution_count": 236,
   "metadata": {
    "collapsed": false,
    "deletable": true,
    "editable": true
   },
   "outputs": [
    {
     "data": {
      "text/plain": [
       "30915   -1.185\n",
       "6096    -2.545\n",
       "73      -2.224\n",
       "15324   -1.079\n",
       "36687   -2.550\n",
       "37439    0.608\n",
       "16973   -3.569\n",
       "34611   -0.229\n",
       "6471    -2.273\n",
       "49317   -3.580\n",
       "Name: dprice, dtype: float64"
      ]
     },
     "execution_count": 236,
     "metadata": {},
     "output_type": "execute_result"
    }
   ],
   "source": [
    "dp_test[:10]"
   ]
  },
  {
   "cell_type": "code",
   "execution_count": 237,
   "metadata": {
    "collapsed": false,
    "deletable": true,
    "editable": true
   },
   "outputs": [
    {
     "data": {
      "text/plain": [
       "547"
      ]
     },
     "execution_count": 237,
     "metadata": {},
     "output_type": "execute_result"
    }
   ],
   "source": [
    "I1 = dp_test > 0\n",
    "np.sum(I1)\n",
    "#scorer(estimator, s_test, dp_test)"
   ]
  },
  {
   "cell_type": "markdown",
   "metadata": {
    "deletable": true,
    "editable": true
   },
   "source": [
    "### below: of the actual test cases where price increased, which fraction were predicted by the model to be an increase?"
   ]
  },
  {
   "cell_type": "code",
   "execution_count": 238,
   "metadata": {
    "collapsed": false,
    "deletable": true,
    "editable": true
   },
   "outputs": [
    {
     "data": {
      "text/plain": [
       "0.3820840950639854"
      ]
     },
     "execution_count": 238,
     "metadata": {},
     "output_type": "execute_result"
    }
   ],
   "source": [
    "float(np.sum(dp_predict[I1] > 0))/np.sum(I1)"
   ]
  },
  {
   "cell_type": "code",
   "execution_count": 239,
   "metadata": {
    "collapsed": false,
    "deletable": true,
    "editable": true
   },
   "outputs": [
    {
     "data": {
      "text/plain": [
       "209"
      ]
     },
     "execution_count": 239,
     "metadata": {},
     "output_type": "execute_result"
    }
   ],
   "source": [
    "I2 = (dp_test > 0) & (dp_predict > 0)\n",
    "np.sum(I2)"
   ]
  },
  {
   "cell_type": "markdown",
   "metadata": {
    "deletable": true,
    "editable": true
   },
   "source": [
    "### below: percentage of samples that were predicted by model to be increase and were actually an increase."
   ]
  },
  {
   "cell_type": "code",
   "execution_count": 240,
   "metadata": {
    "collapsed": false,
    "deletable": true,
    "editable": true
   },
   "outputs": [
    {
     "data": {
      "text/plain": [
       "0.8708333333333333"
      ]
     },
     "execution_count": 240,
     "metadata": {},
     "output_type": "execute_result"
    }
   ],
   "source": [
    "float(np.sum(I2))/np.sum(dp_predict > 0)"
   ]
  },
  {
   "cell_type": "markdown",
   "metadata": {
    "deletable": true,
    "editable": true
   },
   "source": [
    "### below: percentage of total predictions correct"
   ]
  },
  {
   "cell_type": "code",
   "execution_count": 241,
   "metadata": {
    "collapsed": false,
    "deletable": true,
    "editable": true
   },
   "outputs": [
    {
     "data": {
      "text/plain": [
       "0.9300473933649289"
      ]
     },
     "execution_count": 241,
     "metadata": {},
     "output_type": "execute_result"
    }
   ],
   "source": [
    "float(np.sum((dp_predict>0) == (dp_test>0)))/dp_test.size"
   ]
  },
  {
   "cell_type": "code",
   "execution_count": 242,
   "metadata": {
    "collapsed": false,
    "deletable": true,
    "editable": true
   },
   "outputs": [
    {
     "data": {
      "image/png": "[encoded data removed]",
      "text/plain": [
       "<matplotlib.figure.Figure at 0x7fd9a0b38250>"
      ]
     },
     "metadata": {},
     "output_type": "display_data"
    }
   ],
   "source": [
    "cnf_matrix = confusion_matrix((dp_test>0).astype(np.int), (dp_predict>0).astype(np.int))\n",
    "plt.figure()\n",
    "visualize.plot_confusion_matrix(cnf_matrix, classes=[0, 1], title='Confusion matrix, without normalization')\n",
    "plt.show()"
   ]
  },
  {
   "cell_type": "markdown",
   "metadata": {
    "deletable": true,
    "editable": true
   },
   "source": [
    "### For correctly predicted winners, what are typical values of dprice?"
   ]
  },
  {
   "cell_type": "code",
   "execution_count": 245,
   "metadata": {
    "collapsed": false,
    "deletable": true,
    "editable": true
   },
   "outputs": [
    {
     "name": "stdout",
     "output_type": "stream",
     "text": [
      "0.00299999999999 8.0 1.04853110048\n"
     ]
    },
    {
     "data": {
      "image/png": "[encoded data removed]",
      "text/plain": [
       "<matplotlib.figure.Figure at 0x7fd9a0b38450>"
      ]
     },
     "metadata": {},
     "output_type": "display_data"
    }
   ],
   "source": [
    "dp_slice = dp_test[I2]\n",
    "print dp_slice.min(), dp_slice.max(), dp_slice.mean()\n",
    "sns.distplot(dp_slice)\n",
    "plt.show()"
   ]
  },
  {
   "cell_type": "markdown",
   "metadata": {
    "deletable": true,
    "editable": true
   },
   "source": [
    "### Plot distribution of dprice_test when winner is predicted but it's actually a loser"
   ]
  },
  {
   "cell_type": "code",
   "execution_count": 246,
   "metadata": {
    "collapsed": false,
    "deletable": true,
    "editable": true
   },
   "outputs": [
    {
     "name": "stdout",
     "output_type": "stream",
     "text": [
      "-2.755 -0.00299999999999 -0.356857142857\n"
     ]
    },
    {
     "data": {
      "image/png": "[encoded data removed]",
      "text/plain": [
       "<matplotlib.figure.Figure at 0x7fd9a0de7410>"
      ]
     },
     "metadata": {},
     "output_type": "display_data"
    }
   ],
   "source": [
    "dp_slice_loser = dp_test[(dp_test < 0) & (dp_predict > 0)]\n",
    "print dp_slice_loser.min(), dp_slice_loser.max(), dp_slice_loser.mean()\n",
    "sns.distplot(dp_slice_loser)\n",
    "plt.show()"
   ]
  },
  {
   "cell_type": "code",
   "execution_count": 247,
   "metadata": {
    "collapsed": false,
    "deletable": true,
    "editable": true
   },
   "outputs": [
    {
     "data": {
      "text/plain": [
       "array([  2.10302861e-01,   1.11735397e-01,   2.42590932e-01,\n",
       "         8.38366000e-02,   9.90696152e-02,   2.12538942e-03,\n",
       "         7.85192027e-03,   2.41272706e-03,   9.08811729e-04,\n",
       "         3.06472639e-03,   1.02139605e-03,   1.45894802e-02,\n",
       "         1.51673685e-03,   3.78768419e-03,   6.77774507e-04,\n",
       "         6.20978731e-04,   3.97054839e-03,   9.09676145e-03,\n",
       "         1.04864813e-02,   5.78006433e-03,   6.39926849e-03,\n",
       "         2.60172074e-03,   5.89297509e-03,   1.36028842e-02,\n",
       "         1.16890847e-03,   8.40288512e-03,   2.01420612e-03,\n",
       "         1.98044379e-03,   8.48322805e-03,   6.53459275e-03,\n",
       "         9.00675666e-05,   1.62604080e-04,   3.83843041e-04,\n",
       "         7.56971172e-03,   7.08992673e-03,   5.70506536e-04,\n",
       "         0.00000000e+00,   8.61073243e-03,   8.56496213e-05,\n",
       "         4.77979482e-03,   1.02015145e-04,   2.32892047e-03,\n",
       "         2.66433223e-03,   6.87770321e-03,   7.15315364e-03,\n",
       "         5.64897130e-03,   1.26946055e-04,   2.86554955e-03,\n",
       "         7.78907564e-05,   1.05103699e-03,   1.66628811e-03,\n",
       "         5.65739207e-04,   1.72165718e-03,   1.59572267e-03,\n",
       "         1.61754375e-03,   1.25662966e-04,   7.18582313e-03,\n",
       "         4.13369579e-03,   2.02385494e-04,   8.29232118e-04,\n",
       "         5.30078113e-04,   7.02260159e-03,   2.72927899e-04,\n",
       "         1.16158511e-04,   2.78832562e-03,   1.93892977e-03,\n",
       "         1.36692769e-04,   1.39216296e-04,   3.20437953e-04,\n",
       "         5.30407577e-04,   1.91476791e-05,   7.86889134e-03,\n",
       "         1.92588553e-02,   4.18435115e-03,   4.46187296e-03,\n",
       "         0.00000000e+00])"
      ]
     },
     "execution_count": 247,
     "metadata": {},
     "output_type": "execute_result"
    }
   ],
   "source": [
    "clf.best_estimator_.feature_importances_"
   ]
  },
  {
   "cell_type": "code",
   "execution_count": 248,
   "metadata": {
    "collapsed": false,
    "deletable": true,
    "editable": true
   },
   "outputs": [
    {
     "data": {
      "text/plain": [
       "[2, 0, 1, 4, 3, 72, 11, 23, 18, 17, 37, 28, 25, 71, 6, 33, 56, 44, 34, 61]"
      ]
     },
     "execution_count": 248,
     "metadata": {},
     "output_type": "execute_result"
    }
   ],
   "source": [
    "important_features_indices = np.where(clf.best_estimator_.feature_importances_ > 0.01)\n",
    "ordered_indices = sorted(range(s1.shape[1]), key=clf.best_estimator_.feature_importances_.__getitem__)\n",
    "ordered_indices.reverse()\n",
    "ordered_indices[:20]"
   ]
  },
  {
   "cell_type": "code",
   "execution_count": 249,
   "metadata": {
    "collapsed": false,
    "deletable": true,
    "editable": true
   },
   "outputs": [
    {
     "data": {
      "text/plain": [
       "Index([u'maturity', u'tradedate', u'coupon', u'holdtime', u'rtg',\n",
       "       u'TOBACCO SETTLEMENT FUNDED', u'Illinois', u'Virgin Islands', u'Ohio',\n",
       "       u'New York', u'COLLEGE & UNIV. REV.', u'GENERAL OBLIGATION UNLTD',\n",
       "       u'otherstates', u'TOBACCO & LIQUOR TAXES', u'California',\n",
       "       u'AD VALOREM PROPERTY TAX', u'MISCELLANEOUS REVENUE',\n",
       "       u'HIGHWAY REVENUE TOLLS', u'APPROPRIATIONS',\n",
       "       u'PRT, AIRPRT & MARINA REV.'],\n",
       "      dtype='object')"
      ]
     },
     "execution_count": 249,
     "metadata": {},
     "output_type": "execute_result"
    }
   ],
   "source": [
    "s_test.columns[ordered_indices[:20]]"
   ]
  },
  {
   "cell_type": "code",
   "execution_count": 250,
   "metadata": {
    "collapsed": false,
    "deletable": true,
    "editable": true
   },
   "outputs": [
    {
     "data": {
      "text/plain": [
       "array([ 0.24259093,  0.21030286,  0.1117354 ,  0.09906962,  0.0838366 ,\n",
       "        0.01925886,  0.01458948,  0.01360288,  0.01048648,  0.00909676,\n",
       "        0.00861073,  0.00848323,  0.00840289,  0.00786889,  0.00785192,\n",
       "        0.00756971,  0.00718582,  0.00715315,  0.00708993,  0.0070226 ])"
      ]
     },
     "execution_count": 250,
     "metadata": {},
     "output_type": "execute_result"
    }
   ],
   "source": [
    "clf.best_estimator_.feature_importances_[ordered_indices[:20]]"
   ]
  },
  {
   "cell_type": "code",
   "execution_count": null,
   "metadata": {
    "collapsed": true
   },
   "outputs": [],
   "source": []
  }
 ],
 "metadata": {
  "kernelspec": {
   "display_name": "Python 2",
   "language": "python",
   "name": "python2"
  },
  "language_info": {
   "codemirror_mode": {
    "name": "ipython",
    "version": 2
   },
   "file_extension": ".py",
   "mimetype": "text/x-python",
   "name": "python",
   "nbconvert_exporter": "python",
   "pygments_lexer": "ipython2",
   "version": "2.7.10"
  }
 },
 "nbformat": 4,
 "nbformat_minor": 2
}
