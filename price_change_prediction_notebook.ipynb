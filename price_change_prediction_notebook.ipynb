{
 "cells": [
  {
   "cell_type": "code",
   "execution_count": 1,
   "metadata": {
    "collapsed": false,
    "deletable": true,
    "editable": true
   },
   "outputs": [],
   "source": [
    "import numpy as np\n",
    "import pandas as pd\n",
    "import matplotlib.pyplot as plt\n",
    "import extract\n",
    "import visualize\n",
    "from sklearn import tree\n",
    "import pydotplus\n",
    "import seaborn as sns\n",
    "import time"
   ]
  },
  {
   "cell_type": "code",
   "execution_count": 2,
   "metadata": {
    "collapsed": true,
    "deletable": true,
    "editable": true
   },
   "outputs": [],
   "source": [
    "from sklearn.preprocessing import StandardScaler\n",
    "from sklearn import preprocessing\n",
    "from sklearn.model_selection import train_test_split, GridSearchCV\n",
    "from sklearn.model_selection import StratifiedShuffleSplit\n",
    "from sklearn.metrics import confusion_matrix\n",
    "from sklearn.ensemble import RandomForestRegressor\n",
    "from sklearn.tree import DecisionTreeRegressor"
   ]
  },
  {
   "cell_type": "code",
   "execution_count": 3,
   "metadata": {
    "collapsed": false,
    "deletable": true,
    "editable": true
   },
   "outputs": [
    {
     "name": "stderr",
     "output_type": "stream",
     "text": [
      "/home/mark/Math/bondproject/venv/local/lib/python2.7/site-packages/pandas/core/indexing.py:477: SettingWithCopyWarning: \n",
      "A value is trying to be set on a copy of a slice from a DataFrame.\n",
      "Try using .loc[row_indexer,col_indexer] = value instead\n",
      "\n",
      "See the caveats in the documentation: http://pandas.pydata.org/pandas-docs/stable/indexing.html#indexing-view-versus-copy\n",
      "  self.obj[item] = s\n",
      "/home/mark/Math/bondproject/venv/local/lib/python2.7/site-packages/pandas/core/indexing.py:297: SettingWithCopyWarning: \n",
      "A value is trying to be set on a copy of a slice from a DataFrame.\n",
      "Try using .loc[row_indexer,col_indexer] = value instead\n",
      "\n",
      "See the caveats in the documentation: http://pandas.pydata.org/pandas-docs/stable/indexing.html#indexing-view-versus-copy\n",
      "  self.obj[key] = _infer_fill_value(value)\n"
     ]
    }
   ],
   "source": [
    "d = extract.get_data()\n",
    "d = extract.clean_data(d)"
   ]
  },
  {
   "cell_type": "code",
   "execution_count": 4,
   "metadata": {
    "collapsed": false,
    "deletable": true,
    "editable": true
   },
   "outputs": [
    {
     "data": {
      "text/html": [
       "<div>\n",
       "<table border=\"1\" class=\"dataframe\">\n",
       "  <thead>\n",
       "    <tr style=\"text-align: right;\">\n",
       "      <th></th>\n",
       "      <th>tradeid</th>\n",
       "      <th>cusip</th>\n",
       "      <th>amount</th>\n",
       "      <th>price</th>\n",
       "      <th>yield</th>\n",
       "      <th>tradedate</th>\n",
       "      <th>tradetype</th>\n",
       "      <th>name</th>\n",
       "      <th>state</th>\n",
       "      <th>coupon</th>\n",
       "      <th>maturity</th>\n",
       "      <th>issuesize</th>\n",
       "      <th>issuetype</th>\n",
       "      <th>issuesource</th>\n",
       "      <th>bidcount</th>\n",
       "      <th>rtg</th>\n",
       "    </tr>\n",
       "  </thead>\n",
       "  <tbody>\n",
       "    <tr>\n",
       "      <th>0</th>\n",
       "      <td>317.0</td>\n",
       "      <td>45471AKG6</td>\n",
       "      <td>5000.0</td>\n",
       "      <td>99.507</td>\n",
       "      <td>4.037</td>\n",
       "      <td>2.0</td>\n",
       "      <td>Sale_to_Customer</td>\n",
       "      <td>indiana st fin auth-a</td>\n",
       "      <td>Indiana</td>\n",
       "      <td>4.00</td>\n",
       "      <td>6694.0</td>\n",
       "      <td>88930000.0</td>\n",
       "      <td>REVENUE BONDS</td>\n",
       "      <td>HLTH, HOSP, NURSHOME REV.</td>\n",
       "      <td>NaN</td>\n",
       "      <td>6</td>\n",
       "    </tr>\n",
       "    <tr>\n",
       "      <th>1</th>\n",
       "      <td>318.0</td>\n",
       "      <td>45471AKG6</td>\n",
       "      <td>30000.0</td>\n",
       "      <td>99.410</td>\n",
       "      <td>4.045</td>\n",
       "      <td>2.0</td>\n",
       "      <td>Sale_to_Customer</td>\n",
       "      <td>indiana st fin auth-a</td>\n",
       "      <td>Indiana</td>\n",
       "      <td>4.00</td>\n",
       "      <td>6694.0</td>\n",
       "      <td>88930000.0</td>\n",
       "      <td>REVENUE BONDS</td>\n",
       "      <td>HLTH, HOSP, NURSHOME REV.</td>\n",
       "      <td>NaN</td>\n",
       "      <td>6</td>\n",
       "    </tr>\n",
       "    <tr>\n",
       "      <th>2</th>\n",
       "      <td>319.0</td>\n",
       "      <td>45471AKG6</td>\n",
       "      <td>30000.0</td>\n",
       "      <td>99.290</td>\n",
       "      <td>4.054</td>\n",
       "      <td>2.0</td>\n",
       "      <td>Purchase_from_Customer</td>\n",
       "      <td>indiana st fin auth-a</td>\n",
       "      <td>Indiana</td>\n",
       "      <td>4.00</td>\n",
       "      <td>6694.0</td>\n",
       "      <td>88930000.0</td>\n",
       "      <td>REVENUE BONDS</td>\n",
       "      <td>HLTH, HOSP, NURSHOME REV.</td>\n",
       "      <td>NaN</td>\n",
       "      <td>6</td>\n",
       "    </tr>\n",
       "    <tr>\n",
       "      <th>3</th>\n",
       "      <td>333.0</td>\n",
       "      <td>45471AMY5</td>\n",
       "      <td>15000.0</td>\n",
       "      <td>103.145</td>\n",
       "      <td>3.717</td>\n",
       "      <td>2.0</td>\n",
       "      <td>Sale_to_Customer</td>\n",
       "      <td>in fin auth-major</td>\n",
       "      <td>Indiana</td>\n",
       "      <td>4.25</td>\n",
       "      <td>6482.0</td>\n",
       "      <td>9520000.0</td>\n",
       "      <td>REVENUE BONDS</td>\n",
       "      <td>HLTH, HOSP, NURSHOME REV.</td>\n",
       "      <td>NaN</td>\n",
       "      <td>9</td>\n",
       "    </tr>\n",
       "    <tr>\n",
       "      <th>4</th>\n",
       "      <td>378.0</td>\n",
       "      <td>4550572N8</td>\n",
       "      <td>150000.0</td>\n",
       "      <td>114.082</td>\n",
       "      <td>2.060</td>\n",
       "      <td>2.0</td>\n",
       "      <td>Sale_to_Customer</td>\n",
       "      <td>in fin auth-ref-a</td>\n",
       "      <td>Indiana</td>\n",
       "      <td>5.00</td>\n",
       "      <td>2953.0</td>\n",
       "      <td>22530000.0</td>\n",
       "      <td>REVENUE BONDS</td>\n",
       "      <td>WATER REVENUE</td>\n",
       "      <td>NaN</td>\n",
       "      <td>1</td>\n",
       "    </tr>\n",
       "  </tbody>\n",
       "</table>\n",
       "</div>"
      ],
      "text/plain": [
       "   tradeid      cusip    amount    price  yield  tradedate  \\\n",
       "0    317.0  45471AKG6    5000.0   99.507  4.037        2.0   \n",
       "1    318.0  45471AKG6   30000.0   99.410  4.045        2.0   \n",
       "2    319.0  45471AKG6   30000.0   99.290  4.054        2.0   \n",
       "3    333.0  45471AMY5   15000.0  103.145  3.717        2.0   \n",
       "4    378.0  4550572N8  150000.0  114.082  2.060        2.0   \n",
       "\n",
       "                tradetype                   name    state  coupon  maturity  \\\n",
       "0        Sale_to_Customer  indiana st fin auth-a  Indiana    4.00    6694.0   \n",
       "1        Sale_to_Customer  indiana st fin auth-a  Indiana    4.00    6694.0   \n",
       "2  Purchase_from_Customer  indiana st fin auth-a  Indiana    4.00    6694.0   \n",
       "3        Sale_to_Customer      in fin auth-major  Indiana    4.25    6482.0   \n",
       "4        Sale_to_Customer      in fin auth-ref-a  Indiana    5.00    2953.0   \n",
       "\n",
       "    issuesize      issuetype                issuesource  bidcount  rtg  \n",
       "0  88930000.0  REVENUE BONDS  HLTH, HOSP, NURSHOME REV.       NaN    6  \n",
       "1  88930000.0  REVENUE BONDS  HLTH, HOSP, NURSHOME REV.       NaN    6  \n",
       "2  88930000.0  REVENUE BONDS  HLTH, HOSP, NURSHOME REV.       NaN    6  \n",
       "3   9520000.0  REVENUE BONDS  HLTH, HOSP, NURSHOME REV.       NaN    9  \n",
       "4  22530000.0  REVENUE BONDS              WATER REVENUE       NaN    1  "
      ]
     },
     "execution_count": 4,
     "metadata": {},
     "output_type": "execute_result"
    }
   ],
   "source": [
    "d.head()"
   ]
  },
  {
   "cell_type": "code",
   "execution_count": 5,
   "metadata": {
    "collapsed": false,
    "deletable": true,
    "editable": true
   },
   "outputs": [],
   "source": [
    "s0 = pd.read_csv(\"./data/price_change_data.csv\", usecols = ['d_index', 'tradetype',\n",
    "\t\t'state', 'coupon', 'maturity', 'issuetype', 'issuesource', 'rtg',\n",
    "\t\t'tradedate', 'dprice', 'holdtime'])"
   ]
  },
  {
   "cell_type": "code",
   "execution_count": 6,
   "metadata": {
    "collapsed": false,
    "deletable": true,
    "editable": true
   },
   "outputs": [
    {
     "data": {
      "text/html": [
       "<div>\n",
       "<table border=\"1\" class=\"dataframe\">\n",
       "  <thead>\n",
       "    <tr style=\"text-align: right;\">\n",
       "      <th></th>\n",
       "      <th>tradedate</th>\n",
       "      <th>tradetype</th>\n",
       "      <th>state</th>\n",
       "      <th>coupon</th>\n",
       "      <th>maturity</th>\n",
       "      <th>issuetype</th>\n",
       "      <th>issuesource</th>\n",
       "      <th>rtg</th>\n",
       "      <th>dprice</th>\n",
       "      <th>holdtime</th>\n",
       "      <th>d_index</th>\n",
       "    </tr>\n",
       "  </thead>\n",
       "  <tbody>\n",
       "    <tr>\n",
       "      <th>0</th>\n",
       "      <td>0.0</td>\n",
       "      <td>Sale_to_Customer</td>\n",
       "      <td>Indiana</td>\n",
       "      <td>4.0</td>\n",
       "      <td>6635.0</td>\n",
       "      <td>REVENUE BONDS</td>\n",
       "      <td>HLTH, HOSP, NURSHOME REV.</td>\n",
       "      <td>6</td>\n",
       "      <td>-0.762</td>\n",
       "      <td>1.0</td>\n",
       "      <td>0</td>\n",
       "    </tr>\n",
       "    <tr>\n",
       "      <th>1</th>\n",
       "      <td>0.0</td>\n",
       "      <td>Sale_to_Customer</td>\n",
       "      <td>Indiana</td>\n",
       "      <td>4.0</td>\n",
       "      <td>6635.0</td>\n",
       "      <td>REVENUE BONDS</td>\n",
       "      <td>HLTH, HOSP, NURSHOME REV.</td>\n",
       "      <td>6</td>\n",
       "      <td>0.376</td>\n",
       "      <td>1.0</td>\n",
       "      <td>0</td>\n",
       "    </tr>\n",
       "    <tr>\n",
       "      <th>2</th>\n",
       "      <td>0.0</td>\n",
       "      <td>Sale_to_Customer</td>\n",
       "      <td>Indiana</td>\n",
       "      <td>4.0</td>\n",
       "      <td>6635.0</td>\n",
       "      <td>REVENUE BONDS</td>\n",
       "      <td>HLTH, HOSP, NURSHOME REV.</td>\n",
       "      <td>6</td>\n",
       "      <td>0.473</td>\n",
       "      <td>6.0</td>\n",
       "      <td>0</td>\n",
       "    </tr>\n",
       "    <tr>\n",
       "      <th>3</th>\n",
       "      <td>0.0</td>\n",
       "      <td>Sale_to_Customer</td>\n",
       "      <td>Indiana</td>\n",
       "      <td>4.0</td>\n",
       "      <td>6635.0</td>\n",
       "      <td>REVENUE BONDS</td>\n",
       "      <td>HLTH, HOSP, NURSHOME REV.</td>\n",
       "      <td>6</td>\n",
       "      <td>1.614</td>\n",
       "      <td>8.0</td>\n",
       "      <td>0</td>\n",
       "    </tr>\n",
       "    <tr>\n",
       "      <th>4</th>\n",
       "      <td>0.0</td>\n",
       "      <td>Sale_to_Customer</td>\n",
       "      <td>Indiana</td>\n",
       "      <td>4.0</td>\n",
       "      <td>6635.0</td>\n",
       "      <td>REVENUE BONDS</td>\n",
       "      <td>HLTH, HOSP, NURSHOME REV.</td>\n",
       "      <td>6</td>\n",
       "      <td>1.272</td>\n",
       "      <td>10.0</td>\n",
       "      <td>0</td>\n",
       "    </tr>\n",
       "  </tbody>\n",
       "</table>\n",
       "</div>"
      ],
      "text/plain": [
       "   tradedate         tradetype    state  coupon  maturity      issuetype  \\\n",
       "0        0.0  Sale_to_Customer  Indiana     4.0    6635.0  REVENUE BONDS   \n",
       "1        0.0  Sale_to_Customer  Indiana     4.0    6635.0  REVENUE BONDS   \n",
       "2        0.0  Sale_to_Customer  Indiana     4.0    6635.0  REVENUE BONDS   \n",
       "3        0.0  Sale_to_Customer  Indiana     4.0    6635.0  REVENUE BONDS   \n",
       "4        0.0  Sale_to_Customer  Indiana     4.0    6635.0  REVENUE BONDS   \n",
       "\n",
       "                 issuesource  rtg  dprice  holdtime  d_index  \n",
       "0  HLTH, HOSP, NURSHOME REV.    6  -0.762       1.0        0  \n",
       "1  HLTH, HOSP, NURSHOME REV.    6   0.376       1.0        0  \n",
       "2  HLTH, HOSP, NURSHOME REV.    6   0.473       6.0        0  \n",
       "3  HLTH, HOSP, NURSHOME REV.    6   1.614       8.0        0  \n",
       "4  HLTH, HOSP, NURSHOME REV.    6   1.272      10.0        0  "
      ]
     },
     "execution_count": 6,
     "metadata": {},
     "output_type": "execute_result"
    }
   ],
   "source": [
    "s0.head()"
   ]
  },
  {
   "cell_type": "code",
   "execution_count": 7,
   "metadata": {
    "collapsed": false,
    "deletable": true,
    "editable": true
   },
   "outputs": [],
   "source": [
    "d_index = s0.pop('d_index')\n",
    "s_state_features = extract.build_state_features(s0, num_states = None)\n",
    "s_other_features = extract.build_other_text_features(s0)\n",
    "s = pd.concat([s0.drop(['state', 'issuetype', 'issuesource', 'tradetype'], axis = 1), s_state_features, s_other_features], axis = 1)\n",
    "s = s.dropna()\n",
    "s = s[s.holdtime < 7] #pick out only data with holdtime < 7 days"
   ]
  },
  {
   "cell_type": "code",
   "execution_count": 8,
   "metadata": {
    "collapsed": false,
    "deletable": true,
    "editable": true
   },
   "outputs": [
    {
     "data": {
      "text/html": [
       "<div>\n",
       "<table border=\"1\" class=\"dataframe\">\n",
       "  <thead>\n",
       "    <tr style=\"text-align: right;\">\n",
       "      <th></th>\n",
       "      <th>tradedate</th>\n",
       "      <th>coupon</th>\n",
       "      <th>maturity</th>\n",
       "      <th>rtg</th>\n",
       "      <th>dprice</th>\n",
       "      <th>holdtime</th>\n",
       "      <th>Alabama</th>\n",
       "      <th>Alaska</th>\n",
       "      <th>Arizona</th>\n",
       "      <th>Arkansas</th>\n",
       "      <th>...</th>\n",
       "      <th>SPECIAL ASSESSMENT</th>\n",
       "      <th>SPECIAL TAX</th>\n",
       "      <th>STUDENT LOAN REVENUE</th>\n",
       "      <th>TAX INCRMT./ALLCTN.REV.</th>\n",
       "      <th>TELECOM REVENUE</th>\n",
       "      <th>TOBACCO &amp; LIQUOR TAXES</th>\n",
       "      <th>TOBACCO SETTLEMENT FUNDED</th>\n",
       "      <th>TRANSIT REVENUE</th>\n",
       "      <th>WATER REVENUE</th>\n",
       "      <th>tradetype</th>\n",
       "    </tr>\n",
       "  </thead>\n",
       "  <tbody>\n",
       "    <tr>\n",
       "      <th>0</th>\n",
       "      <td>0.0</td>\n",
       "      <td>4.0</td>\n",
       "      <td>6635.0</td>\n",
       "      <td>6</td>\n",
       "      <td>-0.762</td>\n",
       "      <td>1.0</td>\n",
       "      <td>0</td>\n",
       "      <td>0</td>\n",
       "      <td>0</td>\n",
       "      <td>0</td>\n",
       "      <td>...</td>\n",
       "      <td>0</td>\n",
       "      <td>0</td>\n",
       "      <td>0</td>\n",
       "      <td>0</td>\n",
       "      <td>0</td>\n",
       "      <td>0</td>\n",
       "      <td>0</td>\n",
       "      <td>0</td>\n",
       "      <td>0</td>\n",
       "      <td>1</td>\n",
       "    </tr>\n",
       "    <tr>\n",
       "      <th>1</th>\n",
       "      <td>0.0</td>\n",
       "      <td>4.0</td>\n",
       "      <td>6635.0</td>\n",
       "      <td>6</td>\n",
       "      <td>0.376</td>\n",
       "      <td>1.0</td>\n",
       "      <td>0</td>\n",
       "      <td>0</td>\n",
       "      <td>0</td>\n",
       "      <td>0</td>\n",
       "      <td>...</td>\n",
       "      <td>0</td>\n",
       "      <td>0</td>\n",
       "      <td>0</td>\n",
       "      <td>0</td>\n",
       "      <td>0</td>\n",
       "      <td>0</td>\n",
       "      <td>0</td>\n",
       "      <td>0</td>\n",
       "      <td>0</td>\n",
       "      <td>1</td>\n",
       "    </tr>\n",
       "    <tr>\n",
       "      <th>2</th>\n",
       "      <td>0.0</td>\n",
       "      <td>4.0</td>\n",
       "      <td>6635.0</td>\n",
       "      <td>6</td>\n",
       "      <td>0.473</td>\n",
       "      <td>6.0</td>\n",
       "      <td>0</td>\n",
       "      <td>0</td>\n",
       "      <td>0</td>\n",
       "      <td>0</td>\n",
       "      <td>...</td>\n",
       "      <td>0</td>\n",
       "      <td>0</td>\n",
       "      <td>0</td>\n",
       "      <td>0</td>\n",
       "      <td>0</td>\n",
       "      <td>0</td>\n",
       "      <td>0</td>\n",
       "      <td>0</td>\n",
       "      <td>0</td>\n",
       "      <td>1</td>\n",
       "    </tr>\n",
       "    <tr>\n",
       "      <th>9</th>\n",
       "      <td>0.0</td>\n",
       "      <td>4.0</td>\n",
       "      <td>6635.0</td>\n",
       "      <td>6</td>\n",
       "      <td>-0.665</td>\n",
       "      <td>1.0</td>\n",
       "      <td>0</td>\n",
       "      <td>0</td>\n",
       "      <td>0</td>\n",
       "      <td>0</td>\n",
       "      <td>...</td>\n",
       "      <td>0</td>\n",
       "      <td>0</td>\n",
       "      <td>0</td>\n",
       "      <td>0</td>\n",
       "      <td>0</td>\n",
       "      <td>0</td>\n",
       "      <td>0</td>\n",
       "      <td>0</td>\n",
       "      <td>0</td>\n",
       "      <td>1</td>\n",
       "    </tr>\n",
       "    <tr>\n",
       "      <th>10</th>\n",
       "      <td>0.0</td>\n",
       "      <td>4.0</td>\n",
       "      <td>6635.0</td>\n",
       "      <td>6</td>\n",
       "      <td>0.473</td>\n",
       "      <td>1.0</td>\n",
       "      <td>0</td>\n",
       "      <td>0</td>\n",
       "      <td>0</td>\n",
       "      <td>0</td>\n",
       "      <td>...</td>\n",
       "      <td>0</td>\n",
       "      <td>0</td>\n",
       "      <td>0</td>\n",
       "      <td>0</td>\n",
       "      <td>0</td>\n",
       "      <td>0</td>\n",
       "      <td>0</td>\n",
       "      <td>0</td>\n",
       "      <td>0</td>\n",
       "      <td>1</td>\n",
       "    </tr>\n",
       "  </tbody>\n",
       "</table>\n",
       "<p>5 rows × 108 columns</p>\n",
       "</div>"
      ],
      "text/plain": [
       "    tradedate  coupon  maturity  rtg  dprice  holdtime  Alabama  Alaska  \\\n",
       "0         0.0     4.0    6635.0    6  -0.762       1.0        0       0   \n",
       "1         0.0     4.0    6635.0    6   0.376       1.0        0       0   \n",
       "2         0.0     4.0    6635.0    6   0.473       6.0        0       0   \n",
       "9         0.0     4.0    6635.0    6  -0.665       1.0        0       0   \n",
       "10        0.0     4.0    6635.0    6   0.473       1.0        0       0   \n",
       "\n",
       "    Arizona  Arkansas    ...      SPECIAL ASSESSMENT  SPECIAL TAX  \\\n",
       "0         0         0    ...                       0            0   \n",
       "1         0         0    ...                       0            0   \n",
       "2         0         0    ...                       0            0   \n",
       "9         0         0    ...                       0            0   \n",
       "10        0         0    ...                       0            0   \n",
       "\n",
       "    STUDENT LOAN REVENUE  TAX INCRMT./ALLCTN.REV.  TELECOM REVENUE  \\\n",
       "0                      0                        0                0   \n",
       "1                      0                        0                0   \n",
       "2                      0                        0                0   \n",
       "9                      0                        0                0   \n",
       "10                     0                        0                0   \n",
       "\n",
       "    TOBACCO & LIQUOR TAXES  TOBACCO SETTLEMENT FUNDED  TRANSIT REVENUE  \\\n",
       "0                        0                          0                0   \n",
       "1                        0                          0                0   \n",
       "2                        0                          0                0   \n",
       "9                        0                          0                0   \n",
       "10                       0                          0                0   \n",
       "\n",
       "    WATER REVENUE  tradetype  \n",
       "0               0          1  \n",
       "1               0          1  \n",
       "2               0          1  \n",
       "9               0          1  \n",
       "10              0          1  \n",
       "\n",
       "[5 rows x 108 columns]"
      ]
     },
     "execution_count": 8,
     "metadata": {},
     "output_type": "execute_result"
    }
   ],
   "source": [
    "s.head()"
   ]
  },
  {
   "cell_type": "markdown",
   "metadata": {
    "deletable": true,
    "editable": true
   },
   "source": [
    "### Try a Random Forest Regressor"
   ]
  },
  {
   "cell_type": "code",
   "execution_count": 9,
   "metadata": {
    "collapsed": false,
    "deletable": true,
    "editable": true
   },
   "outputs": [],
   "source": [
    "dprice = s.pop('dprice')\n",
    "winner_class = (dprice > 0).astype(np.int)"
   ]
  },
  {
   "cell_type": "code",
   "execution_count": 10,
   "metadata": {
    "collapsed": false,
    "deletable": true,
    "editable": true
   },
   "outputs": [],
   "source": [
    "s_train, s_test, dp_train, dp_test = train_test_split(s, dprice, test_size=0.20, random_state=180)\n",
    "#sss = StratifiedShuffleSplit(n_splits = 1, test_size = 0.2, random_state = 23)\n",
    "#train_indices, test_indices = sss.split(s, winner_class).next()\n",
    "#print len(set(training_indices))\n",
    "#print float(np.sum(winner_class.values[test_indices] == 0)) / len(test_indices)\n",
    "#print float(np.sum(winner_class.values[test_indices] == 1)) / len(test_indices)\n",
    "#print float(np.sum(winner_class.values[train_indices] == 0)) / len(train_indices)\n",
    "#print float(np.sum(winner_class.values[train_indices] == 1)) / len(train_indices)\n",
    "#print float(np.sum(dp_train > 0))/np.sum(dp_train < 0)\n",
    "#print float(np.sum(dp_test > 0))/np.sum(dp_test < 0)"
   ]
  },
  {
   "cell_type": "markdown",
   "metadata": {
    "deletable": true,
    "editable": true
   },
   "source": [
    "### Want to optimize the max_depth and n_estimators parameters of the regressor with respect to the percentage of winning predictions that are actually winners. To do this, we construct a custom scorer function"
   ]
  },
  {
   "cell_type": "code",
   "execution_count": 11,
   "metadata": {
    "collapsed": true,
    "deletable": true,
    "editable": true
   },
   "outputs": [],
   "source": [
    "def scorer(clf, X_test, y_test):\n",
    "    #we want to maximize f1 score value = 2*(precision*recall)/(precision + recall)\n",
    "    y_predict = clf.predict(X_test)\n",
    "    recall = float(np.sum(y_predict[y_test > 0] > 0))/np.sum(y_test > 0)\n",
    "    precision = float(np.sum(y_test[y_predict > 0] > 0))/np.sum(y_predict > 0)\n",
    "    return 2*precision*recall/(precision + recall)"
   ]
  },
  {
   "cell_type": "code",
   "execution_count": 12,
   "metadata": {
    "collapsed": false,
    "deletable": true,
    "editable": true
   },
   "outputs": [],
   "source": [
    "parameters = {'max_depth':[10, 15, 20, 25], 'n_estimators':[50, 100], 'criterion':['mse']}\n",
    "rfr = RandomForestRegressor()\n",
    "clf = GridSearchCV(rfr, param_grid = parameters, scoring = scorer)"
   ]
  },
  {
   "cell_type": "code",
   "execution_count": 13,
   "metadata": {
    "collapsed": false,
    "deletable": true,
    "editable": true
   },
   "outputs": [
    {
     "name": "stdout",
     "output_type": "stream",
     "text": [
      "220.990990877\n"
     ]
    }
   ],
   "source": [
    "t0 = time.time()\n",
    "clf.fit(s_train, dp_train)\n",
    "print time.time() - t0"
   ]
  },
  {
   "cell_type": "code",
   "execution_count": 14,
   "metadata": {
    "collapsed": false,
    "deletable": true,
    "editable": true
   },
   "outputs": [
    {
     "data": {
      "text/plain": [
       "{'criterion': 'mse', 'max_depth': 25, 'n_estimators': 100}"
      ]
     },
     "execution_count": 14,
     "metadata": {},
     "output_type": "execute_result"
    }
   ],
   "source": [
    "clf.cv_results_\n",
    "estimator = clf.best_estimator_\n",
    "clf.best_params_"
   ]
  },
  {
   "cell_type": "code",
   "execution_count": 15,
   "metadata": {
    "collapsed": false,
    "deletable": true,
    "editable": true
   },
   "outputs": [],
   "source": [
    "dp_predict = estimator.predict(s_test)"
   ]
  },
  {
   "cell_type": "code",
   "execution_count": 16,
   "metadata": {
    "collapsed": false,
    "deletable": true,
    "editable": true
   },
   "outputs": [
    {
     "data": {
      "text/plain": [
       "array([-2.54301509, -3.12549418, -0.51111545, -2.69898912,  0.57386005,\n",
       "        0.01503242, -2.48465761, -1.69282667, -1.57199609, -0.9186873 ])"
      ]
     },
     "execution_count": 16,
     "metadata": {},
     "output_type": "execute_result"
    }
   ],
   "source": [
    "dp_predict[:10]"
   ]
  },
  {
   "cell_type": "code",
   "execution_count": 17,
   "metadata": {
    "collapsed": false,
    "deletable": true,
    "editable": true
   },
   "outputs": [
    {
     "data": {
      "text/plain": [
       "6134    -2.545\n",
       "76299   -3.211\n",
       "23792   -0.831\n",
       "53333   -2.850\n",
       "73692    0.640\n",
       "70469    0.355\n",
       "61604   -2.575\n",
       "61767   -0.729\n",
       "74650   -1.092\n",
       "43275   -1.373\n",
       "Name: dprice, dtype: float64"
      ]
     },
     "execution_count": 17,
     "metadata": {},
     "output_type": "execute_result"
    }
   ],
   "source": [
    "dp_test[:10]"
   ]
  },
  {
   "cell_type": "code",
   "execution_count": 18,
   "metadata": {
    "collapsed": false,
    "deletable": true,
    "editable": true
   },
   "outputs": [
    {
     "data": {
      "text/plain": [
       "593"
      ]
     },
     "execution_count": 18,
     "metadata": {},
     "output_type": "execute_result"
    }
   ],
   "source": [
    "I1 = dp_test > 0\n",
    "np.sum(I1)\n",
    "#scorer(estimator, s_test, dp_test)"
   ]
  },
  {
   "cell_type": "markdown",
   "metadata": {
    "deletable": true,
    "editable": true
   },
   "source": [
    "### below: of the actual test cases where price increased, which fraction were predicted by the model to be an increase?"
   ]
  },
  {
   "cell_type": "code",
   "execution_count": 19,
   "metadata": {
    "collapsed": false,
    "deletable": true,
    "editable": true
   },
   "outputs": [
    {
     "data": {
      "text/plain": [
       "0.30016863406408095"
      ]
     },
     "execution_count": 19,
     "metadata": {},
     "output_type": "execute_result"
    }
   ],
   "source": [
    "float(np.sum(dp_predict[I1] > 0))/np.sum(I1)"
   ]
  },
  {
   "cell_type": "code",
   "execution_count": 20,
   "metadata": {
    "collapsed": false,
    "deletable": true,
    "editable": true
   },
   "outputs": [
    {
     "data": {
      "text/plain": [
       "178"
      ]
     },
     "execution_count": 20,
     "metadata": {},
     "output_type": "execute_result"
    }
   ],
   "source": [
    "I2 = (dp_test > 0) & (dp_predict > 0)\n",
    "np.sum(I2)"
   ]
  },
  {
   "cell_type": "markdown",
   "metadata": {
    "deletable": true,
    "editable": true
   },
   "source": [
    "### below: percentage of samples that were predicted by model to be increase and were actually an increase."
   ]
  },
  {
   "cell_type": "code",
   "execution_count": 21,
   "metadata": {
    "collapsed": false,
    "deletable": true,
    "editable": true
   },
   "outputs": [
    {
     "data": {
      "text/plain": [
       "0.7235772357723578"
      ]
     },
     "execution_count": 21,
     "metadata": {},
     "output_type": "execute_result"
    }
   ],
   "source": [
    "precision_ratio = float(np.sum(I2))/np.sum(dp_predict > 0)\n",
    "precision_ratio"
   ]
  },
  {
   "cell_type": "markdown",
   "metadata": {
    "deletable": true,
    "editable": true
   },
   "source": [
    "### below: percentage of total predictions correct"
   ]
  },
  {
   "cell_type": "code",
   "execution_count": 22,
   "metadata": {
    "collapsed": false,
    "deletable": true,
    "editable": true
   },
   "outputs": [
    {
     "data": {
      "text/plain": [
       "0.9084360189573459"
      ]
     },
     "execution_count": 22,
     "metadata": {},
     "output_type": "execute_result"
    }
   ],
   "source": [
    "float(np.sum((dp_predict>0) == (dp_test>0)))/dp_test.size"
   ]
  },
  {
   "cell_type": "code",
   "execution_count": 23,
   "metadata": {
    "collapsed": false,
    "deletable": true,
    "editable": true
   },
   "outputs": [
    {
     "data": {
      "image/png": "[encoded data removed]",
      "text/plain": [
       "<matplotlib.figure.Figure at 0x7feeffee0650>"
      ]
     },
     "metadata": {},
     "output_type": "display_data"
    }
   ],
   "source": [
    "cnf_matrix = confusion_matrix((dp_test>0).astype(np.int), (dp_predict>0).astype(np.int))\n",
    "plt.figure()\n",
    "visualize.plot_confusion_matrix(cnf_matrix, classes=[0, 1], title='Confusion matrix, without normalization')\n",
    "plt.show()"
   ]
  },
  {
   "cell_type": "markdown",
   "metadata": {
    "deletable": true,
    "editable": true
   },
   "source": [
    "### For correctly predicted winners, what are typical values of dprice? Also plot distribution of dprice_test when winner is predicted but it's actually a loser on same axes."
   ]
  },
  {
   "cell_type": "code",
   "execution_count": 24,
   "metadata": {
    "collapsed": false,
    "deletable": true,
    "editable": true
   },
   "outputs": [
    {
     "data": {
      "image/png": "[encoded data removed]",
      "text/plain": [
       "<matplotlib.figure.Figure at 0x7feeffe98210>"
      ]
     },
     "metadata": {},
     "output_type": "display_data"
    }
   ],
   "source": [
    "I2 = (dp_test > 0) & (dp_predict > 0)\n",
    "dp_slice_winner = dp_test[I2]\n",
    "dp_slice_loser = dp_test[(dp_test < 0) & (dp_predict > 0)]\n",
    "#print dp_slice_loser.min(), dp_slice_loser.max(), dp_slice_loser.mean()\n",
    "sns.distplot(dp_slice_loser)\n",
    "sns.distplot(dp_slice_winner)\n",
    "plt.show()"
   ]
  },
  {
   "cell_type": "code",
   "execution_count": 25,
   "metadata": {
    "collapsed": false,
    "deletable": true,
    "editable": true
   },
   "outputs": [
    {
     "data": {
      "image/png": "[encoded data removed]",
      "text/plain": [
       "<matplotlib.figure.Figure at 0x7feeffca8250>"
      ]
     },
     "metadata": {},
     "output_type": "display_data"
    },
    {
     "name": "stdout",
     "output_type": "stream",
     "text": [
      "0.431382113821 1.20673696994\n"
     ]
    }
   ],
   "source": [
    "dp_predict_winner_density = dp_test[dp_predict > 0]\n",
    "sns.distplot(dp_predict_winner_density)\n",
    "plt.show()\n",
    "print dp_predict_winner_density.mean(), dp_predict_winner_density.std()"
   ]
  },
  {
   "cell_type": "code",
   "execution_count": 26,
   "metadata": {
    "collapsed": false
   },
   "outputs": [
    {
     "data": {
      "image/png": "[encoded data removed]",
      "text/plain": [
       "<matplotlib.figure.Figure at 0x7fef00568790>"
      ]
     },
     "metadata": {},
     "output_type": "display_data"
    },
    {
     "name": "stdout",
     "output_type": "stream",
     "text": [
      "-1.6070540863 1.39238058289\n"
     ]
    }
   ],
   "source": [
    "#distribution of dprice when dp_predict < 0\n",
    "dp_predict_loser_density = dp_test[dp_predict < 0]\n",
    "sns.distplot(dp_predict_loser_density)\n",
    "plt.show()\n",
    "print dp_predict_loser_density.mean(), dp_predict_loser_density.std()"
   ]
  },
  {
   "cell_type": "markdown",
   "metadata": {
    "deletable": true,
    "editable": true
   },
   "source": [
    "### Expected gains"
   ]
  },
  {
   "cell_type": "code",
   "execution_count": 27,
   "metadata": {
    "collapsed": false,
    "deletable": true,
    "editable": true
   },
   "outputs": [
    {
     "name": "stdout",
     "output_type": "stream",
     "text": [
      "0.431382113821\n"
     ]
    }
   ],
   "source": [
    "I3 = dp_predict > 0\n",
    "E = np.sum(dp_test[I3])/np.sum(I3)\n",
    "print E"
   ]
  },
  {
   "cell_type": "code",
   "execution_count": 28,
   "metadata": {
    "collapsed": false,
    "deletable": true,
    "editable": true
   },
   "outputs": [
    {
     "data": {
      "text/plain": [
       "array([  2.14912295e-01,   1.04996256e-01,   2.30110357e-01,\n",
       "         8.24658066e-02,   1.08812874e-01,   4.29130550e-03,\n",
       "         2.30969325e-05,   2.02105592e-03,   4.28241187e-05,\n",
       "         8.03418774e-03,   6.74989763e-03,   3.12404005e-03,\n",
       "         1.66144577e-04,   1.02056539e-03,   4.16057831e-03,\n",
       "         1.05997644e-03,   2.64576085e-05,   6.26012866e-04,\n",
       "         1.07549924e-04,   1.30633660e-02])"
      ]
     },
     "execution_count": 28,
     "metadata": {},
     "output_type": "execute_result"
    }
   ],
   "source": [
    "clf.best_estimator_.feature_importances_[:20]"
   ]
  },
  {
   "cell_type": "code",
   "execution_count": 29,
   "metadata": {
    "collapsed": false,
    "deletable": true,
    "editable": true
   },
   "outputs": [
    {
     "data": {
      "text/plain": [
       "[2, 0, 4, 1, 3, 103, 19, 40, 52, 37, 68, 102, 9, 59, 64, 87, 65, 10, 44, 75]"
      ]
     },
     "execution_count": 29,
     "metadata": {},
     "output_type": "execute_result"
    }
   ],
   "source": [
    "important_features_indices = np.where(clf.best_estimator_.feature_importances_ > 0.01)\n",
    "ordered_indices = sorted(range(s.shape[1]), key=clf.best_estimator_.feature_importances_.__getitem__)\n",
    "ordered_indices.reverse()\n",
    "ordered_indices[:20]"
   ]
  },
  {
   "cell_type": "code",
   "execution_count": 31,
   "metadata": {
    "collapsed": false,
    "deletable": true,
    "editable": true
   },
   "outputs": [
    {
     "data": {
      "text/plain": [
       "['maturity',\n",
       " 'tradedate',\n",
       " 'holdtime',\n",
       " 'coupon',\n",
       " 'rtg',\n",
       " 'TOBACCO SETTLEMENT FUNDED',\n",
       " 'Illinois',\n",
       " 'Ohio',\n",
       " 'Virgin Islands',\n",
       " 'New York',\n",
       " 'COLLEGE & UNIV. REV.',\n",
       " 'TOBACCO & LIQUOR TAXES',\n",
       " 'California',\n",
       " 'GENERAL OBLIGATION UNLTD',\n",
       " 'AD VALOREM PROPERTY TAX',\n",
       " 'MISCELLANEOUS REVENUE',\n",
       " 'APPROPRIATIONS',\n",
       " 'Colorado',\n",
       " 'Puerto Rico',\n",
       " 'HIGHWAY REVENUE TOLLS']"
      ]
     },
     "execution_count": 31,
     "metadata": {},
     "output_type": "execute_result"
    }
   ],
   "source": [
    "list(s_test.columns[ordered_indices[:20]])"
   ]
  },
  {
   "cell_type": "code",
   "execution_count": 32,
   "metadata": {
    "collapsed": false,
    "deletable": true,
    "editable": true
   },
   "outputs": [
    {
     "data": {
      "text/plain": [
       "array([ 0.23011036,  0.2149123 ,  0.10881287,  0.10499626,  0.08246581,\n",
       "        0.01448115,  0.01306337,  0.01078495,  0.00940098,  0.00871535,\n",
       "        0.00835388,  0.00820441,  0.00803419,  0.00778409,  0.00740613,\n",
       "        0.00710691,  0.00677976,  0.0067499 ,  0.00640016,  0.00634917])"
      ]
     },
     "execution_count": 32,
     "metadata": {},
     "output_type": "execute_result"
    }
   ],
   "source": [
    "clf.best_estimator_.feature_importances_[ordered_indices[:20]]"
   ]
  },
  {
   "cell_type": "markdown",
   "metadata": {
    "collapsed": true,
    "deletable": true,
    "editable": true
   },
   "source": [
    "### Pick out best estimator and save decision tree to file, using max_depth = 5. Make sure to label features appropriately and set filled = True and feature_names = list(s_test.columns)"
   ]
  },
  {
   "cell_type": "code",
   "execution_count": 82,
   "metadata": {
    "collapsed": false,
    "deletable": true,
    "editable": true
   },
   "outputs": [
    {
     "data": {
      "text/plain": [
       "DecisionTreeRegressor(criterion='mse', max_depth=25, max_features=None,\n",
       "           max_leaf_nodes=None, min_impurity_split=1e-07,\n",
       "           min_samples_leaf=1, min_samples_split=2,\n",
       "           min_weight_fraction_leaf=0.0, presort=False, random_state=None,\n",
       "           splitter='best')"
      ]
     },
     "execution_count": 82,
     "metadata": {},
     "output_type": "execute_result"
    }
   ],
   "source": [
    "#clf_best = clf.best_estimator_\n",
    "#tree0 = clf_best.estimators_[21]\n",
    "clf_dec = DecisionTreeRegressor(max_depth = 25, max_features = None, criterion = 'mse')\n",
    "clf_dec.fit(s_train, dp_train)"
   ]
  },
  {
   "cell_type": "code",
   "execution_count": 83,
   "metadata": {
    "collapsed": false,
    "deletable": true,
    "editable": true
   },
   "outputs": [
    {
     "data": {
      "image/png": "[encoded data removed]",
      "text/plain": [
       "<matplotlib.figure.Figure at 0x7f742f0de750>"
      ]
     },
     "metadata": {},
     "output_type": "display_data"
    }
   ],
   "source": [
    "dp_predict_0 = clf_dec.predict(s_test)\n",
    "cnf_matrix = confusion_matrix((dp_test>0).astype(np.int), (dp_predict_0>0).astype(np.int))\n",
    "plt.figure()\n",
    "visualize.plot_confusion_matrix(cnf_matrix, classes=[0, 1], title='Confusion matrix, without normalization')\n",
    "plt.show()"
   ]
  },
  {
   "cell_type": "code",
   "execution_count": 279,
   "metadata": {
    "collapsed": true,
    "deletable": true,
    "editable": true
   },
   "outputs": [],
   "source": [
    "tree.export_graphviz(clf_dec, 'dprice_decision_tree.dot', max_depth = 5, filled = True, feature_names = list(s_test.columns))"
   ]
  },
  {
   "cell_type": "markdown",
   "metadata": {
    "deletable": true,
    "editable": true
   },
   "source": [
    "### To convert to .png, in the terminal type \"dot -Tpng dprice_decision_tree_0.dot -o dprice_decision_tree_0.png\""
   ]
  },
  {
   "cell_type": "code",
   "execution_count": 85,
   "metadata": {
    "collapsed": false,
    "deletable": true,
    "editable": true
   },
   "outputs": [
    {
     "data": {
      "image/png": "[encoded data removed]",
      "text/plain": [
       "<matplotlib.figure.Figure at 0x7f742edfcb10>"
      ]
     },
     "metadata": {},
     "output_type": "display_data"
    },
    {
     "name": "stdout",
     "output_type": "stream",
     "text": [
      "0.0424329896907 1.34530340205\n"
     ]
    }
   ],
   "source": [
    "dp_predict_0_winner_density = dp_test[dp_predict_0 > 0]\n",
    "sns.distplot(dp_predict_0_winner_density)\n",
    "plt.show()\n",
    "print dp_predict_0_winner_density.mean(), dp_predict_0_winner_density.std()"
   ]
  },
  {
   "cell_type": "code",
   "execution_count": null,
   "metadata": {
    "collapsed": true,
    "deletable": true,
    "editable": true
   },
   "outputs": [],
   "source": []
  }
 ],
 "metadata": {
  "kernelspec": {
   "display_name": "Python 2",
   "language": "python",
   "name": "python2"
  },
  "language_info": {
   "codemirror_mode": {
    "name": "ipython",
    "version": 2
   },
   "file_extension": ".py",
   "mimetype": "text/x-python",
   "name": "python",
   "nbconvert_exporter": "python",
   "pygments_lexer": "ipython2",
   "version": "2.7.10"
  }
 },
 "nbformat": 4,
 "nbformat_minor": 2
}
