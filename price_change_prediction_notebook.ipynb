{
 "cells": [
  {
   "cell_type": "code",
   "execution_count": 244,
   "metadata": {
    "collapsed": false,
    "deletable": true,
    "editable": true
   },
   "outputs": [],
   "source": [
    "import numpy as np\n",
    "import pandas as pd\n",
    "import matplotlib.pyplot as plt\n",
    "import extract\n",
    "import visualize\n",
    "from sklearn import tree\n",
    "import pydotplus\n",
    "import seaborn as sns"
   ]
  },
  {
   "cell_type": "code",
   "execution_count": 245,
   "metadata": {
    "collapsed": true,
    "deletable": true,
    "editable": true
   },
   "outputs": [],
   "source": [
    "from sklearn.preprocessing import StandardScaler\n",
    "from sklearn import preprocessing\n",
    "from sklearn.model_selection import train_test_split, GridSearchCV\n",
    "from sklearn.metrics import confusion_matrix\n",
    "from sklearn.ensemble import RandomForestRegressor\n",
    "from sklearn.tree import DecisionTreeRegressor"
   ]
  },
  {
   "cell_type": "code",
   "execution_count": 246,
   "metadata": {
    "collapsed": false,
    "deletable": true,
    "editable": true
   },
   "outputs": [],
   "source": [
    "d = extract.get_data()\n",
    "d = extract.clean_data(d)"
   ]
  },
  {
   "cell_type": "code",
   "execution_count": 247,
   "metadata": {
    "collapsed": false,
    "deletable": true,
    "editable": true
   },
   "outputs": [
    {
     "data": {
      "text/html": [
       "<div>\n",
       "<table border=\"1\" class=\"dataframe\">\n",
       "  <thead>\n",
       "    <tr style=\"text-align: right;\">\n",
       "      <th></th>\n",
       "      <th>tradeid</th>\n",
       "      <th>cusip</th>\n",
       "      <th>amount</th>\n",
       "      <th>price</th>\n",
       "      <th>yield</th>\n",
       "      <th>tradedate</th>\n",
       "      <th>tradetype</th>\n",
       "      <th>name</th>\n",
       "      <th>state</th>\n",
       "      <th>coupon</th>\n",
       "      <th>maturity</th>\n",
       "      <th>issuesize</th>\n",
       "      <th>issuetype</th>\n",
       "      <th>issuesource</th>\n",
       "      <th>bidcount</th>\n",
       "      <th>rtg</th>\n",
       "    </tr>\n",
       "  </thead>\n",
       "  <tbody>\n",
       "    <tr>\n",
       "      <th>0</th>\n",
       "      <td>317.0</td>\n",
       "      <td>45471AKG6</td>\n",
       "      <td>5000.0</td>\n",
       "      <td>99.507</td>\n",
       "      <td>4.037</td>\n",
       "      <td>0.0</td>\n",
       "      <td>Sale_to_Customer</td>\n",
       "      <td>indiana st fin auth-a</td>\n",
       "      <td>Indiana</td>\n",
       "      <td>4.00</td>\n",
       "      <td>6635.0</td>\n",
       "      <td>88930000.0</td>\n",
       "      <td>REVENUE BONDS</td>\n",
       "      <td>HLTH, HOSP, NURSHOME REV.</td>\n",
       "      <td>NaN</td>\n",
       "      <td>6</td>\n",
       "    </tr>\n",
       "    <tr>\n",
       "      <th>1</th>\n",
       "      <td>318.0</td>\n",
       "      <td>45471AKG6</td>\n",
       "      <td>30000.0</td>\n",
       "      <td>99.410</td>\n",
       "      <td>4.045</td>\n",
       "      <td>0.0</td>\n",
       "      <td>Sale_to_Customer</td>\n",
       "      <td>indiana st fin auth-a</td>\n",
       "      <td>Indiana</td>\n",
       "      <td>4.00</td>\n",
       "      <td>6635.0</td>\n",
       "      <td>88930000.0</td>\n",
       "      <td>REVENUE BONDS</td>\n",
       "      <td>HLTH, HOSP, NURSHOME REV.</td>\n",
       "      <td>NaN</td>\n",
       "      <td>6</td>\n",
       "    </tr>\n",
       "    <tr>\n",
       "      <th>2</th>\n",
       "      <td>319.0</td>\n",
       "      <td>45471AKG6</td>\n",
       "      <td>30000.0</td>\n",
       "      <td>99.290</td>\n",
       "      <td>4.054</td>\n",
       "      <td>0.0</td>\n",
       "      <td>Purchase_from_Customer</td>\n",
       "      <td>indiana st fin auth-a</td>\n",
       "      <td>Indiana</td>\n",
       "      <td>4.00</td>\n",
       "      <td>6635.0</td>\n",
       "      <td>88930000.0</td>\n",
       "      <td>REVENUE BONDS</td>\n",
       "      <td>HLTH, HOSP, NURSHOME REV.</td>\n",
       "      <td>NaN</td>\n",
       "      <td>6</td>\n",
       "    </tr>\n",
       "    <tr>\n",
       "      <th>3</th>\n",
       "      <td>333.0</td>\n",
       "      <td>45471AMY5</td>\n",
       "      <td>15000.0</td>\n",
       "      <td>103.145</td>\n",
       "      <td>3.717</td>\n",
       "      <td>0.0</td>\n",
       "      <td>Sale_to_Customer</td>\n",
       "      <td>in fin auth-major</td>\n",
       "      <td>Indiana</td>\n",
       "      <td>4.25</td>\n",
       "      <td>6423.0</td>\n",
       "      <td>9520000.0</td>\n",
       "      <td>REVENUE BONDS</td>\n",
       "      <td>HLTH, HOSP, NURSHOME REV.</td>\n",
       "      <td>NaN</td>\n",
       "      <td>9</td>\n",
       "    </tr>\n",
       "    <tr>\n",
       "      <th>4</th>\n",
       "      <td>378.0</td>\n",
       "      <td>4550572N8</td>\n",
       "      <td>150000.0</td>\n",
       "      <td>114.082</td>\n",
       "      <td>2.060</td>\n",
       "      <td>0.0</td>\n",
       "      <td>Sale_to_Customer</td>\n",
       "      <td>in fin auth-ref-a</td>\n",
       "      <td>Indiana</td>\n",
       "      <td>5.00</td>\n",
       "      <td>2894.0</td>\n",
       "      <td>22530000.0</td>\n",
       "      <td>REVENUE BONDS</td>\n",
       "      <td>WATER REVENUE</td>\n",
       "      <td>NaN</td>\n",
       "      <td>1</td>\n",
       "    </tr>\n",
       "  </tbody>\n",
       "</table>\n",
       "</div>"
      ],
      "text/plain": [
       "   tradeid      cusip    amount    price  yield  tradedate  \\\n",
       "0    317.0  45471AKG6    5000.0   99.507  4.037        0.0   \n",
       "1    318.0  45471AKG6   30000.0   99.410  4.045        0.0   \n",
       "2    319.0  45471AKG6   30000.0   99.290  4.054        0.0   \n",
       "3    333.0  45471AMY5   15000.0  103.145  3.717        0.0   \n",
       "4    378.0  4550572N8  150000.0  114.082  2.060        0.0   \n",
       "\n",
       "                tradetype                   name    state  coupon  maturity  \\\n",
       "0        Sale_to_Customer  indiana st fin auth-a  Indiana    4.00    6635.0   \n",
       "1        Sale_to_Customer  indiana st fin auth-a  Indiana    4.00    6635.0   \n",
       "2  Purchase_from_Customer  indiana st fin auth-a  Indiana    4.00    6635.0   \n",
       "3        Sale_to_Customer      in fin auth-major  Indiana    4.25    6423.0   \n",
       "4        Sale_to_Customer      in fin auth-ref-a  Indiana    5.00    2894.0   \n",
       "\n",
       "    issuesize      issuetype                issuesource  bidcount  rtg  \n",
       "0  88930000.0  REVENUE BONDS  HLTH, HOSP, NURSHOME REV.       NaN    6  \n",
       "1  88930000.0  REVENUE BONDS  HLTH, HOSP, NURSHOME REV.       NaN    6  \n",
       "2  88930000.0  REVENUE BONDS  HLTH, HOSP, NURSHOME REV.       NaN    6  \n",
       "3   9520000.0  REVENUE BONDS  HLTH, HOSP, NURSHOME REV.       NaN    9  \n",
       "4  22530000.0  REVENUE BONDS              WATER REVENUE       NaN    1  "
      ]
     },
     "execution_count": 247,
     "metadata": {},
     "output_type": "execute_result"
    }
   ],
   "source": [
    "d.head()"
   ]
  },
  {
   "cell_type": "code",
   "execution_count": 248,
   "metadata": {
    "collapsed": false,
    "deletable": true,
    "editable": true
   },
   "outputs": [],
   "source": [
    "s0 = pd.read_csv(\"./data/price_change_data.csv\", usecols = ['d_index', 'tradetype',\n",
    "\t\t'state', 'coupon', 'maturity', 'issuetype', 'issuesource', 'rtg',\n",
    "\t\t'tradedate', 'dprice', 'holdtime'])"
   ]
  },
  {
   "cell_type": "code",
   "execution_count": 249,
   "metadata": {
    "collapsed": false,
    "deletable": true,
    "editable": true
   },
   "outputs": [
    {
     "data": {
      "text/html": [
       "<div>\n",
       "<table border=\"1\" class=\"dataframe\">\n",
       "  <thead>\n",
       "    <tr style=\"text-align: right;\">\n",
       "      <th></th>\n",
       "      <th>tradedate</th>\n",
       "      <th>tradetype</th>\n",
       "      <th>state</th>\n",
       "      <th>coupon</th>\n",
       "      <th>maturity</th>\n",
       "      <th>issuetype</th>\n",
       "      <th>issuesource</th>\n",
       "      <th>rtg</th>\n",
       "      <th>dprice</th>\n",
       "      <th>holdtime</th>\n",
       "      <th>d_index</th>\n",
       "    </tr>\n",
       "  </thead>\n",
       "  <tbody>\n",
       "    <tr>\n",
       "      <th>0</th>\n",
       "      <td>0.0</td>\n",
       "      <td>Sale_to_Customer</td>\n",
       "      <td>Indiana</td>\n",
       "      <td>4.0</td>\n",
       "      <td>6635.0</td>\n",
       "      <td>REVENUE BONDS</td>\n",
       "      <td>HLTH, HOSP, NURSHOME REV.</td>\n",
       "      <td>6</td>\n",
       "      <td>-0.762</td>\n",
       "      <td>1.0</td>\n",
       "      <td>0</td>\n",
       "    </tr>\n",
       "    <tr>\n",
       "      <th>1</th>\n",
       "      <td>0.0</td>\n",
       "      <td>Sale_to_Customer</td>\n",
       "      <td>Indiana</td>\n",
       "      <td>4.0</td>\n",
       "      <td>6635.0</td>\n",
       "      <td>REVENUE BONDS</td>\n",
       "      <td>HLTH, HOSP, NURSHOME REV.</td>\n",
       "      <td>6</td>\n",
       "      <td>0.376</td>\n",
       "      <td>1.0</td>\n",
       "      <td>0</td>\n",
       "    </tr>\n",
       "    <tr>\n",
       "      <th>2</th>\n",
       "      <td>0.0</td>\n",
       "      <td>Sale_to_Customer</td>\n",
       "      <td>Indiana</td>\n",
       "      <td>4.0</td>\n",
       "      <td>6635.0</td>\n",
       "      <td>REVENUE BONDS</td>\n",
       "      <td>HLTH, HOSP, NURSHOME REV.</td>\n",
       "      <td>6</td>\n",
       "      <td>0.473</td>\n",
       "      <td>6.0</td>\n",
       "      <td>0</td>\n",
       "    </tr>\n",
       "    <tr>\n",
       "      <th>3</th>\n",
       "      <td>0.0</td>\n",
       "      <td>Sale_to_Customer</td>\n",
       "      <td>Indiana</td>\n",
       "      <td>4.0</td>\n",
       "      <td>6635.0</td>\n",
       "      <td>REVENUE BONDS</td>\n",
       "      <td>HLTH, HOSP, NURSHOME REV.</td>\n",
       "      <td>6</td>\n",
       "      <td>1.614</td>\n",
       "      <td>8.0</td>\n",
       "      <td>0</td>\n",
       "    </tr>\n",
       "    <tr>\n",
       "      <th>4</th>\n",
       "      <td>0.0</td>\n",
       "      <td>Sale_to_Customer</td>\n",
       "      <td>Indiana</td>\n",
       "      <td>4.0</td>\n",
       "      <td>6635.0</td>\n",
       "      <td>REVENUE BONDS</td>\n",
       "      <td>HLTH, HOSP, NURSHOME REV.</td>\n",
       "      <td>6</td>\n",
       "      <td>1.272</td>\n",
       "      <td>10.0</td>\n",
       "      <td>0</td>\n",
       "    </tr>\n",
       "    <tr>\n",
       "      <th>5</th>\n",
       "      <td>0.0</td>\n",
       "      <td>Sale_to_Customer</td>\n",
       "      <td>Indiana</td>\n",
       "      <td>4.0</td>\n",
       "      <td>6635.0</td>\n",
       "      <td>REVENUE BONDS</td>\n",
       "      <td>HLTH, HOSP, NURSHOME REV.</td>\n",
       "      <td>6</td>\n",
       "      <td>-0.211</td>\n",
       "      <td>21.0</td>\n",
       "      <td>0</td>\n",
       "    </tr>\n",
       "    <tr>\n",
       "      <th>6</th>\n",
       "      <td>0.0</td>\n",
       "      <td>Sale_to_Customer</td>\n",
       "      <td>Indiana</td>\n",
       "      <td>4.0</td>\n",
       "      <td>6635.0</td>\n",
       "      <td>REVENUE BONDS</td>\n",
       "      <td>HLTH, HOSP, NURSHOME REV.</td>\n",
       "      <td>6</td>\n",
       "      <td>0.126</td>\n",
       "      <td>21.0</td>\n",
       "      <td>0</td>\n",
       "    </tr>\n",
       "    <tr>\n",
       "      <th>7</th>\n",
       "      <td>0.0</td>\n",
       "      <td>Sale_to_Customer</td>\n",
       "      <td>Indiana</td>\n",
       "      <td>4.0</td>\n",
       "      <td>6635.0</td>\n",
       "      <td>REVENUE BONDS</td>\n",
       "      <td>HLTH, HOSP, NURSHOME REV.</td>\n",
       "      <td>6</td>\n",
       "      <td>-0.306</td>\n",
       "      <td>27.0</td>\n",
       "      <td>0</td>\n",
       "    </tr>\n",
       "    <tr>\n",
       "      <th>8</th>\n",
       "      <td>0.0</td>\n",
       "      <td>Sale_to_Customer</td>\n",
       "      <td>Indiana</td>\n",
       "      <td>4.0</td>\n",
       "      <td>6635.0</td>\n",
       "      <td>REVENUE BONDS</td>\n",
       "      <td>HLTH, HOSP, NURSHOME REV.</td>\n",
       "      <td>6</td>\n",
       "      <td>-2.240</td>\n",
       "      <td>29.0</td>\n",
       "      <td>0</td>\n",
       "    </tr>\n",
       "    <tr>\n",
       "      <th>9</th>\n",
       "      <td>0.0</td>\n",
       "      <td>Sale_to_Customer</td>\n",
       "      <td>Indiana</td>\n",
       "      <td>4.0</td>\n",
       "      <td>6635.0</td>\n",
       "      <td>REVENUE BONDS</td>\n",
       "      <td>HLTH, HOSP, NURSHOME REV.</td>\n",
       "      <td>6</td>\n",
       "      <td>-0.665</td>\n",
       "      <td>1.0</td>\n",
       "      <td>1</td>\n",
       "    </tr>\n",
       "  </tbody>\n",
       "</table>\n",
       "</div>"
      ],
      "text/plain": [
       "   tradedate         tradetype    state  coupon  maturity      issuetype  \\\n",
       "0        0.0  Sale_to_Customer  Indiana     4.0    6635.0  REVENUE BONDS   \n",
       "1        0.0  Sale_to_Customer  Indiana     4.0    6635.0  REVENUE BONDS   \n",
       "2        0.0  Sale_to_Customer  Indiana     4.0    6635.0  REVENUE BONDS   \n",
       "3        0.0  Sale_to_Customer  Indiana     4.0    6635.0  REVENUE BONDS   \n",
       "4        0.0  Sale_to_Customer  Indiana     4.0    6635.0  REVENUE BONDS   \n",
       "5        0.0  Sale_to_Customer  Indiana     4.0    6635.0  REVENUE BONDS   \n",
       "6        0.0  Sale_to_Customer  Indiana     4.0    6635.0  REVENUE BONDS   \n",
       "7        0.0  Sale_to_Customer  Indiana     4.0    6635.0  REVENUE BONDS   \n",
       "8        0.0  Sale_to_Customer  Indiana     4.0    6635.0  REVENUE BONDS   \n",
       "9        0.0  Sale_to_Customer  Indiana     4.0    6635.0  REVENUE BONDS   \n",
       "\n",
       "                 issuesource  rtg  dprice  holdtime  d_index  \n",
       "0  HLTH, HOSP, NURSHOME REV.    6  -0.762       1.0        0  \n",
       "1  HLTH, HOSP, NURSHOME REV.    6   0.376       1.0        0  \n",
       "2  HLTH, HOSP, NURSHOME REV.    6   0.473       6.0        0  \n",
       "3  HLTH, HOSP, NURSHOME REV.    6   1.614       8.0        0  \n",
       "4  HLTH, HOSP, NURSHOME REV.    6   1.272      10.0        0  \n",
       "5  HLTH, HOSP, NURSHOME REV.    6  -0.211      21.0        0  \n",
       "6  HLTH, HOSP, NURSHOME REV.    6   0.126      21.0        0  \n",
       "7  HLTH, HOSP, NURSHOME REV.    6  -0.306      27.0        0  \n",
       "8  HLTH, HOSP, NURSHOME REV.    6  -2.240      29.0        0  \n",
       "9  HLTH, HOSP, NURSHOME REV.    6  -0.665       1.0        1  "
      ]
     },
     "execution_count": 249,
     "metadata": {},
     "output_type": "execute_result"
    }
   ],
   "source": [
    "s0[:10]"
   ]
  },
  {
   "cell_type": "code",
   "execution_count": 250,
   "metadata": {
    "collapsed": false,
    "deletable": true,
    "editable": true
   },
   "outputs": [],
   "source": [
    "d_index = s0.pop('d_index')\n",
    "s_state_features = extract.build_state_features(s0, num_states = None)\n",
    "s_other_features = extract.build_other_text_features(s0)\n",
    "s = pd.concat([s0.drop(['state', 'issuetype', 'issuesource', 'tradetype'], axis = 1), s_state_features, s_other_features], axis = 1)\n",
    "s = s.dropna()\n",
    "s = s[s.holdtime < 7] #pick out only data with holdtime < 7 days"
   ]
  },
  {
   "cell_type": "code",
   "execution_count": 251,
   "metadata": {
    "collapsed": false,
    "deletable": true,
    "editable": true
   },
   "outputs": [
    {
     "data": {
      "text/html": [
       "<div>\n",
       "<table border=\"1\" class=\"dataframe\">\n",
       "  <thead>\n",
       "    <tr style=\"text-align: right;\">\n",
       "      <th></th>\n",
       "      <th>tradedate</th>\n",
       "      <th>coupon</th>\n",
       "      <th>maturity</th>\n",
       "      <th>rtg</th>\n",
       "      <th>dprice</th>\n",
       "      <th>holdtime</th>\n",
       "      <th>Alabama</th>\n",
       "      <th>Alaska</th>\n",
       "      <th>Arizona</th>\n",
       "      <th>Arkansas</th>\n",
       "      <th>...</th>\n",
       "      <th>SPECIAL ASSESSMENT</th>\n",
       "      <th>SPECIAL TAX</th>\n",
       "      <th>STUDENT LOAN REVENUE</th>\n",
       "      <th>TAX INCRMT./ALLCTN.REV.</th>\n",
       "      <th>TELECOM REVENUE</th>\n",
       "      <th>TOBACCO &amp; LIQUOR TAXES</th>\n",
       "      <th>TOBACCO SETTLEMENT FUNDED</th>\n",
       "      <th>TRANSIT REVENUE</th>\n",
       "      <th>WATER REVENUE</th>\n",
       "      <th>tradetype</th>\n",
       "    </tr>\n",
       "  </thead>\n",
       "  <tbody>\n",
       "    <tr>\n",
       "      <th>0</th>\n",
       "      <td>0.0</td>\n",
       "      <td>4.0</td>\n",
       "      <td>6635.0</td>\n",
       "      <td>6</td>\n",
       "      <td>-0.762</td>\n",
       "      <td>1.0</td>\n",
       "      <td>0</td>\n",
       "      <td>0</td>\n",
       "      <td>0</td>\n",
       "      <td>0</td>\n",
       "      <td>...</td>\n",
       "      <td>0</td>\n",
       "      <td>0</td>\n",
       "      <td>0</td>\n",
       "      <td>0</td>\n",
       "      <td>0</td>\n",
       "      <td>0</td>\n",
       "      <td>0</td>\n",
       "      <td>0</td>\n",
       "      <td>0</td>\n",
       "      <td>1</td>\n",
       "    </tr>\n",
       "    <tr>\n",
       "      <th>1</th>\n",
       "      <td>0.0</td>\n",
       "      <td>4.0</td>\n",
       "      <td>6635.0</td>\n",
       "      <td>6</td>\n",
       "      <td>0.376</td>\n",
       "      <td>1.0</td>\n",
       "      <td>0</td>\n",
       "      <td>0</td>\n",
       "      <td>0</td>\n",
       "      <td>0</td>\n",
       "      <td>...</td>\n",
       "      <td>0</td>\n",
       "      <td>0</td>\n",
       "      <td>0</td>\n",
       "      <td>0</td>\n",
       "      <td>0</td>\n",
       "      <td>0</td>\n",
       "      <td>0</td>\n",
       "      <td>0</td>\n",
       "      <td>0</td>\n",
       "      <td>1</td>\n",
       "    </tr>\n",
       "    <tr>\n",
       "      <th>2</th>\n",
       "      <td>0.0</td>\n",
       "      <td>4.0</td>\n",
       "      <td>6635.0</td>\n",
       "      <td>6</td>\n",
       "      <td>0.473</td>\n",
       "      <td>6.0</td>\n",
       "      <td>0</td>\n",
       "      <td>0</td>\n",
       "      <td>0</td>\n",
       "      <td>0</td>\n",
       "      <td>...</td>\n",
       "      <td>0</td>\n",
       "      <td>0</td>\n",
       "      <td>0</td>\n",
       "      <td>0</td>\n",
       "      <td>0</td>\n",
       "      <td>0</td>\n",
       "      <td>0</td>\n",
       "      <td>0</td>\n",
       "      <td>0</td>\n",
       "      <td>1</td>\n",
       "    </tr>\n",
       "    <tr>\n",
       "      <th>9</th>\n",
       "      <td>0.0</td>\n",
       "      <td>4.0</td>\n",
       "      <td>6635.0</td>\n",
       "      <td>6</td>\n",
       "      <td>-0.665</td>\n",
       "      <td>1.0</td>\n",
       "      <td>0</td>\n",
       "      <td>0</td>\n",
       "      <td>0</td>\n",
       "      <td>0</td>\n",
       "      <td>...</td>\n",
       "      <td>0</td>\n",
       "      <td>0</td>\n",
       "      <td>0</td>\n",
       "      <td>0</td>\n",
       "      <td>0</td>\n",
       "      <td>0</td>\n",
       "      <td>0</td>\n",
       "      <td>0</td>\n",
       "      <td>0</td>\n",
       "      <td>1</td>\n",
       "    </tr>\n",
       "    <tr>\n",
       "      <th>10</th>\n",
       "      <td>0.0</td>\n",
       "      <td>4.0</td>\n",
       "      <td>6635.0</td>\n",
       "      <td>6</td>\n",
       "      <td>0.473</td>\n",
       "      <td>1.0</td>\n",
       "      <td>0</td>\n",
       "      <td>0</td>\n",
       "      <td>0</td>\n",
       "      <td>0</td>\n",
       "      <td>...</td>\n",
       "      <td>0</td>\n",
       "      <td>0</td>\n",
       "      <td>0</td>\n",
       "      <td>0</td>\n",
       "      <td>0</td>\n",
       "      <td>0</td>\n",
       "      <td>0</td>\n",
       "      <td>0</td>\n",
       "      <td>0</td>\n",
       "      <td>1</td>\n",
       "    </tr>\n",
       "  </tbody>\n",
       "</table>\n",
       "<p>5 rows × 108 columns</p>\n",
       "</div>"
      ],
      "text/plain": [
       "    tradedate  coupon  maturity  rtg  dprice  holdtime  Alabama  Alaska  \\\n",
       "0         0.0     4.0    6635.0    6  -0.762       1.0        0       0   \n",
       "1         0.0     4.0    6635.0    6   0.376       1.0        0       0   \n",
       "2         0.0     4.0    6635.0    6   0.473       6.0        0       0   \n",
       "9         0.0     4.0    6635.0    6  -0.665       1.0        0       0   \n",
       "10        0.0     4.0    6635.0    6   0.473       1.0        0       0   \n",
       "\n",
       "    Arizona  Arkansas    ...      SPECIAL ASSESSMENT  SPECIAL TAX  \\\n",
       "0         0         0    ...                       0            0   \n",
       "1         0         0    ...                       0            0   \n",
       "2         0         0    ...                       0            0   \n",
       "9         0         0    ...                       0            0   \n",
       "10        0         0    ...                       0            0   \n",
       "\n",
       "    STUDENT LOAN REVENUE  TAX INCRMT./ALLCTN.REV.  TELECOM REVENUE  \\\n",
       "0                      0                        0                0   \n",
       "1                      0                        0                0   \n",
       "2                      0                        0                0   \n",
       "9                      0                        0                0   \n",
       "10                     0                        0                0   \n",
       "\n",
       "    TOBACCO & LIQUOR TAXES  TOBACCO SETTLEMENT FUNDED  TRANSIT REVENUE  \\\n",
       "0                        0                          0                0   \n",
       "1                        0                          0                0   \n",
       "2                        0                          0                0   \n",
       "9                        0                          0                0   \n",
       "10                       0                          0                0   \n",
       "\n",
       "    WATER REVENUE  tradetype  \n",
       "0               0          1  \n",
       "1               0          1  \n",
       "2               0          1  \n",
       "9               0          1  \n",
       "10              0          1  \n",
       "\n",
       "[5 rows x 108 columns]"
      ]
     },
     "execution_count": 251,
     "metadata": {},
     "output_type": "execute_result"
    }
   ],
   "source": [
    "s.head()"
   ]
  },
  {
   "cell_type": "markdown",
   "metadata": {
    "deletable": true,
    "editable": true
   },
   "source": [
    "### Try a Random Forest Regressor"
   ]
  },
  {
   "cell_type": "code",
   "execution_count": 252,
   "metadata": {
    "collapsed": false,
    "deletable": true,
    "editable": true
   },
   "outputs": [],
   "source": [
    "dprice = s.pop('dprice')"
   ]
  },
  {
   "cell_type": "code",
   "execution_count": 253,
   "metadata": {
    "collapsed": true,
    "deletable": true,
    "editable": true
   },
   "outputs": [],
   "source": [
    "s_train, s_test, dp_train, dp_test = train_test_split(s, dprice, test_size=0.20, random_state=180)"
   ]
  },
  {
   "cell_type": "markdown",
   "metadata": {
    "deletable": true,
    "editable": true
   },
   "source": [
    "### Want to optimize the max_depth and n_estimators parameters of the regressor with respect to the percentage of winning predictions that are actually winners. To do this, we construct a custom scorer function"
   ]
  },
  {
   "cell_type": "code",
   "execution_count": 254,
   "metadata": {
    "collapsed": true,
    "deletable": true,
    "editable": true
   },
   "outputs": [],
   "source": [
    "def scorer(clf, X_test, y_test):\n",
    "    #we want to maximize the recall of positive gains, i.e. the estimator catches the most positive outcomes\n",
    "    y_predict = clf.predict(X_test)\n",
    "    return float(np.sum(y_predict[y_test > 0] > 0))/np.sum(y_test > 0)"
   ]
  },
  {
   "cell_type": "code",
   "execution_count": 255,
   "metadata": {
    "collapsed": false,
    "deletable": true,
    "editable": true
   },
   "outputs": [],
   "source": [
    "parameters = {'max_depth':[10, 15, 20, 25], 'n_estimators':[50, 100, 200], 'criterion':['mse']}\n",
    "rfr = RandomForestRegressor()\n",
    "clf = GridSearchCV(rfr, param_grid = parameters, scoring = scorer)"
   ]
  },
  {
   "cell_type": "code",
   "execution_count": 256,
   "metadata": {
    "collapsed": false,
    "deletable": true,
    "editable": true
   },
   "outputs": [
    {
     "data": {
      "text/plain": [
       "GridSearchCV(cv=None, error_score='raise',\n",
       "       estimator=RandomForestRegressor(bootstrap=True, criterion='mse', max_depth=None,\n",
       "           max_features='auto', max_leaf_nodes=None,\n",
       "           min_impurity_split=1e-07, min_samples_leaf=1,\n",
       "           min_samples_split=2, min_weight_fraction_leaf=0.0,\n",
       "           n_estimators=10, n_jobs=1, oob_score=False, random_state=None,\n",
       "           verbose=0, warm_start=False),\n",
       "       fit_params={}, iid=True, n_jobs=1,\n",
       "       param_grid={'n_estimators': [50, 100, 200], 'criterion': ['mse'], 'max_depth': [10, 15, 20, 25]},\n",
       "       pre_dispatch='2*n_jobs', refit=True, return_train_score=True,\n",
       "       scoring=<function scorer at 0x7f180c3cd410>, verbose=0)"
      ]
     },
     "execution_count": 256,
     "metadata": {},
     "output_type": "execute_result"
    }
   ],
   "source": [
    "clf.fit(s_train, dp_train)"
   ]
  },
  {
   "cell_type": "code",
   "execution_count": 257,
   "metadata": {
    "collapsed": false,
    "deletable": true,
    "editable": true
   },
   "outputs": [
    {
     "data": {
      "text/plain": [
       "{'criterion': 'mse', 'max_depth': 25, 'n_estimators': 100}"
      ]
     },
     "execution_count": 257,
     "metadata": {},
     "output_type": "execute_result"
    }
   ],
   "source": [
    "clf.cv_results_\n",
    "estimator = clf.best_estimator_\n",
    "clf.best_params_"
   ]
  },
  {
   "cell_type": "code",
   "execution_count": 258,
   "metadata": {
    "collapsed": false,
    "deletable": true,
    "editable": true
   },
   "outputs": [],
   "source": [
    "dp_predict = estimator.predict(s_test)"
   ]
  },
  {
   "cell_type": "code",
   "execution_count": 259,
   "metadata": {
    "collapsed": false,
    "deletable": true,
    "editable": true
   },
   "outputs": [
    {
     "data": {
      "text/plain": [
       "array([-2.53775631, -3.14211369, -0.51105701, -2.69463894,  0.6119329 ,\n",
       "        0.0874613 , -2.44607662, -1.09169946, -1.33070007, -0.76649239])"
      ]
     },
     "execution_count": 259,
     "metadata": {},
     "output_type": "execute_result"
    }
   ],
   "source": [
    "dp_predict[:10]"
   ]
  },
  {
   "cell_type": "code",
   "execution_count": 260,
   "metadata": {
    "collapsed": false,
    "deletable": true,
    "editable": true
   },
   "outputs": [
    {
     "data": {
      "text/plain": [
       "6134    -2.545\n",
       "76299   -3.211\n",
       "23792   -0.831\n",
       "53333   -2.850\n",
       "73692    0.640\n",
       "70469    0.355\n",
       "61604   -2.575\n",
       "61767   -0.729\n",
       "74650   -1.092\n",
       "43275   -1.373\n",
       "Name: dprice, dtype: float64"
      ]
     },
     "execution_count": 260,
     "metadata": {},
     "output_type": "execute_result"
    }
   ],
   "source": [
    "dp_test[:10]"
   ]
  },
  {
   "cell_type": "code",
   "execution_count": 261,
   "metadata": {
    "collapsed": false,
    "deletable": true,
    "editable": true
   },
   "outputs": [
    {
     "data": {
      "text/plain": [
       "593"
      ]
     },
     "execution_count": 261,
     "metadata": {},
     "output_type": "execute_result"
    }
   ],
   "source": [
    "I1 = dp_test > 0\n",
    "np.sum(I1)\n",
    "#scorer(estimator, s_test, dp_test)"
   ]
  },
  {
   "cell_type": "markdown",
   "metadata": {
    "deletable": true,
    "editable": true
   },
   "source": [
    "### below: of the actual test cases where price increased, which fraction were predicted by the model to be an increase?"
   ]
  },
  {
   "cell_type": "code",
   "execution_count": 262,
   "metadata": {
    "collapsed": false,
    "deletable": true,
    "editable": true
   },
   "outputs": [
    {
     "data": {
      "text/plain": [
       "0.3102866779089376"
      ]
     },
     "execution_count": 262,
     "metadata": {},
     "output_type": "execute_result"
    }
   ],
   "source": [
    "float(np.sum(dp_predict[I1] > 0))/np.sum(I1)"
   ]
  },
  {
   "cell_type": "code",
   "execution_count": 263,
   "metadata": {
    "collapsed": false,
    "deletable": true,
    "editable": true
   },
   "outputs": [
    {
     "data": {
      "text/plain": [
       "184"
      ]
     },
     "execution_count": 263,
     "metadata": {},
     "output_type": "execute_result"
    }
   ],
   "source": [
    "I2 = (dp_test > 0) & (dp_predict > 0)\n",
    "np.sum(I2)"
   ]
  },
  {
   "cell_type": "markdown",
   "metadata": {
    "deletable": true,
    "editable": true
   },
   "source": [
    "### below: percentage of samples that were predicted by model to be increase and were actually an increase."
   ]
  },
  {
   "cell_type": "code",
   "execution_count": 264,
   "metadata": {
    "collapsed": false,
    "deletable": true,
    "editable": true
   },
   "outputs": [
    {
     "data": {
      "text/plain": [
       "0.7131782945736435"
      ]
     },
     "execution_count": 264,
     "metadata": {},
     "output_type": "execute_result"
    }
   ],
   "source": [
    "float(np.sum(I2))/np.sum(dp_predict > 0)"
   ]
  },
  {
   "cell_type": "markdown",
   "metadata": {
    "deletable": true,
    "editable": true
   },
   "source": [
    "### below: percentage of total predictions correct"
   ]
  },
  {
   "cell_type": "code",
   "execution_count": 265,
   "metadata": {
    "collapsed": false,
    "deletable": true,
    "editable": true
   },
   "outputs": [
    {
     "data": {
      "text/plain": [
       "0.9084360189573459"
      ]
     },
     "execution_count": 265,
     "metadata": {},
     "output_type": "execute_result"
    }
   ],
   "source": [
    "float(np.sum((dp_predict>0) == (dp_test>0)))/dp_test.size"
   ]
  },
  {
   "cell_type": "code",
   "execution_count": 266,
   "metadata": {
    "collapsed": false,
    "deletable": true,
    "editable": true
   },
   "outputs": [
    {
     "data": {
      "image/png": "[encoded data removed]",
      "text/plain": [
       "<matplotlib.figure.Figure at 0x7f180c0ab610>"
      ]
     },
     "metadata": {},
     "output_type": "display_data"
    }
   ],
   "source": [
    "cnf_matrix = confusion_matrix((dp_test>0).astype(np.int), (dp_predict>0).astype(np.int))\n",
    "plt.figure()\n",
    "visualize.plot_confusion_matrix(cnf_matrix, classes=[0, 1], title='Confusion matrix, without normalization')\n",
    "plt.show()"
   ]
  },
  {
   "cell_type": "markdown",
   "metadata": {
    "deletable": true,
    "editable": true
   },
   "source": [
    "### For correctly predicted winners, what are typical values of dprice?"
   ]
  },
  {
   "cell_type": "code",
   "execution_count": 267,
   "metadata": {
    "collapsed": false,
    "deletable": true,
    "editable": true
   },
   "outputs": [
    {
     "name": "stdout",
     "output_type": "stream",
     "text": [
      "0.00299999999999 6.5 0.883402173913\n"
     ]
    },
    {
     "data": {
      "image/png": "[encoded data removed]",
      "text/plain": [
       "<matplotlib.figure.Figure at 0x7f180c530a90>"
      ]
     },
     "metadata": {},
     "output_type": "display_data"
    }
   ],
   "source": [
    "dp_slice = dp_test[I2]\n",
    "print dp_slice.min(), dp_slice.max(), dp_slice.mean()\n",
    "sns.distplot(dp_slice)\n",
    "plt.show()"
   ]
  },
  {
   "cell_type": "markdown",
   "metadata": {
    "deletable": true,
    "editable": true
   },
   "source": [
    "### Plot distribution of dprice_test when winner is predicted but it's actually a loser"
   ]
  },
  {
   "cell_type": "code",
   "execution_count": 268,
   "metadata": {
    "collapsed": false,
    "deletable": true,
    "editable": true
   },
   "outputs": [
    {
     "name": "stdout",
     "output_type": "stream",
     "text": [
      "-3.632 -0.00299999999999 -0.913394366197\n"
     ]
    },
    {
     "data": {
      "image/png": "[encoded data removed]",
      "text/plain": [
       "<matplotlib.figure.Figure at 0x7f180c19e250>"
      ]
     },
     "metadata": {},
     "output_type": "display_data"
    }
   ],
   "source": [
    "dp_slice_loser = dp_test[(dp_test < 0) & (dp_predict > 0)]\n",
    "print dp_slice_loser.min(), dp_slice_loser.max(), dp_slice_loser.mean()\n",
    "sns.distplot(dp_slice_loser)\n",
    "plt.show()"
   ]
  },
  {
   "cell_type": "code",
   "execution_count": 269,
   "metadata": {
    "collapsed": false,
    "deletable": true,
    "editable": true
   },
   "outputs": [
    {
     "data": {
      "text/plain": [
       "array([  2.06677892e-01,   1.03376350e-01,   2.31205314e-01,\n",
       "         9.93656658e-02,   1.06924897e-01,   3.65121870e-03,\n",
       "         2.98461489e-05,   1.60458947e-03,   3.56364438e-05,\n",
       "         8.80916770e-03,   6.55847242e-03,   2.60601490e-03,\n",
       "         1.72491081e-04,   7.73250376e-04,   3.12047873e-03,\n",
       "         1.14228704e-03,   1.64831131e-05,   6.96586671e-04,\n",
       "         1.98011059e-04,   5.34031203e-03,   7.29535680e-04,\n",
       "         1.33439107e-04,   4.19549327e-04,   6.63612245e-04,\n",
       "         1.15119699e-03,   2.02177613e-05,   4.76314622e-03,\n",
       "         3.01516327e-03,   5.79100614e-04,   3.31709526e-04,\n",
       "         6.89802977e-05,   1.14274467e-03,   5.74715064e-04,\n",
       "         6.33670230e-04,   1.78794763e-04,   4.40523810e-03,\n",
       "         3.40996830e-03,   8.21099777e-03,   9.50827609e-04,\n",
       "         0.00000000e+00,   1.24462229e-02,   4.78900912e-04,\n",
       "         9.74235014e-05,   5.92049526e-03,   5.12729218e-03,\n",
       "         5.63471234e-05,   2.43793745e-03,   0.00000000e+00,\n",
       "         8.73773361e-04,   5.27060428e-03,   1.58625460e-04,\n",
       "         1.72657793e-04,   6.78431468e-03,   1.21854505e-03,\n",
       "         1.00133779e-03,   4.89202173e-04,   1.88541334e-03,\n",
       "         1.89904728e-03,   1.81932542e-03,   9.64960870e-03,\n",
       "         6.03661719e-03,   8.89418576e-05,   1.32312362e-04,\n",
       "         4.40323667e-04,   8.82271036e-03,   8.33033742e-03,\n",
       "         7.47189484e-04,   0.00000000e+00,   7.23097130e-03,\n",
       "         4.05336153e-05,   4.42385582e-03,   3.04039003e-04,\n",
       "         2.40988812e-03,   2.76752600e-03,   3.57081473e-03,\n",
       "         6.48116809e-03,   5.99456218e-03,   1.34979880e-04,\n",
       "         3.47295191e-03,   8.02767384e-05,   1.42051901e-03,\n",
       "         1.28811232e-03,   5.20463397e-04,   1.72624955e-03,\n",
       "         7.75793817e-04,   1.72420637e-03,   1.52067342e-04,\n",
       "         6.64506837e-03,   3.61371779e-03,   1.69318968e-04,\n",
       "         7.89558331e-04,   1.38994333e-03,   5.76776912e-03,\n",
       "         7.35165829e-04,   4.22626594e-05,   3.99504367e-03,\n",
       "         1.07220356e-03,   1.21650329e-04,   1.84759231e-04,\n",
       "         3.88183155e-04,   4.68990927e-04,   1.23900232e-05,\n",
       "         1.18645970e-02,   1.42345538e-02,   3.08322009e-03,\n",
       "         4.82954572e-03,   0.00000000e+00])"
      ]
     },
     "execution_count": 269,
     "metadata": {},
     "output_type": "execute_result"
    }
   ],
   "source": [
    "clf.best_estimator_.feature_importances_"
   ]
  },
  {
   "cell_type": "code",
   "execution_count": 272,
   "metadata": {
    "collapsed": false,
    "deletable": true,
    "editable": true
   },
   "outputs": [
    {
     "data": {
      "text/plain": [
       "[2, 0, 4, 1, 3, 103, 40, 102, 59, 64, 9, 65, 37, 68, 52, 87, 10, 75, 60, 76]"
      ]
     },
     "execution_count": 272,
     "metadata": {},
     "output_type": "execute_result"
    }
   ],
   "source": [
    "important_features_indices = np.where(clf.best_estimator_.feature_importances_ > 0.01)\n",
    "ordered_indices = sorted(range(s.shape[1]), key=clf.best_estimator_.feature_importances_.__getitem__)\n",
    "ordered_indices.reverse()\n",
    "ordered_indices[:20]"
   ]
  },
  {
   "cell_type": "code",
   "execution_count": 273,
   "metadata": {
    "collapsed": false,
    "deletable": true,
    "editable": true
   },
   "outputs": [
    {
     "data": {
      "text/plain": [
       "['maturity',\n",
       " 'tradedate',\n",
       " 'holdtime',\n",
       " 'coupon',\n",
       " 'rtg',\n",
       " 'TOBACCO SETTLEMENT FUNDED',\n",
       " 'Ohio',\n",
       " 'TOBACCO & LIQUOR TAXES',\n",
       " 'GENERAL OBLIGATION UNLTD',\n",
       " 'AD VALOREM PROPERTY TAX',\n",
       " 'California',\n",
       " 'APPROPRIATIONS',\n",
       " 'New York',\n",
       " 'COLLEGE & UNIV. REV.',\n",
       " 'Virgin Islands',\n",
       " 'MISCELLANEOUS REVENUE',\n",
       " 'Colorado',\n",
       " 'HIGHWAY REVENUE TOLLS',\n",
       " 'REVENUE BONDS',\n",
       " 'HLTH, HOSP, NURSHOME REV.']"
      ]
     },
     "execution_count": 273,
     "metadata": {},
     "output_type": "execute_result"
    }
   ],
   "source": [
    "list(s_test.columns[ordered_indices[:20]])"
   ]
  },
  {
   "cell_type": "code",
   "execution_count": 274,
   "metadata": {
    "collapsed": false,
    "deletable": true,
    "editable": true
   },
   "outputs": [
    {
     "data": {
      "text/plain": [
       "array([ 0.23120531,  0.20667789,  0.1069249 ,  0.10337635,  0.09936567,\n",
       "        0.01423455,  0.01244622,  0.0118646 ,  0.00964961,  0.00882271,\n",
       "        0.00880917,  0.00833034,  0.008211  ,  0.00723097,  0.00678431,\n",
       "        0.00664507,  0.00655847,  0.00648117,  0.00603662,  0.00599456])"
      ]
     },
     "execution_count": 274,
     "metadata": {},
     "output_type": "execute_result"
    }
   ],
   "source": [
    "clf.best_estimator_.feature_importances_[ordered_indices[:20]]"
   ]
  },
  {
   "cell_type": "markdown",
   "metadata": {
    "collapsed": true,
    "deletable": true,
    "editable": true
   },
   "source": [
    "### Pick out best estimator and save decision tree to file, using max_depth = 5. Make sure to label features appropriately and set filled = True and feature_names = list(s_test.columns)"
   ]
  },
  {
   "cell_type": "code",
   "execution_count": 277,
   "metadata": {
    "collapsed": false
   },
   "outputs": [
    {
     "data": {
      "text/plain": [
       "DecisionTreeRegressor(criterion='mse', max_depth=25, max_features=None,\n",
       "           max_leaf_nodes=None, min_impurity_split=1e-07,\n",
       "           min_samples_leaf=1, min_samples_split=2,\n",
       "           min_weight_fraction_leaf=0.0, presort=False, random_state=None,\n",
       "           splitter='best')"
      ]
     },
     "execution_count": 277,
     "metadata": {},
     "output_type": "execute_result"
    }
   ],
   "source": [
    "#clf_best = clf.best_estimator_\n",
    "#tree0 = clf_best.estimators_[21]\n",
    "clf_dec = DecisionTreeRegressor(max_depth = 25, max_features = None, criterion = 'mse')\n",
    "clf_dec.fit(s_train, dp_train)"
   ]
  },
  {
   "cell_type": "code",
   "execution_count": 278,
   "metadata": {
    "collapsed": false
   },
   "outputs": [
    {
     "data": {
      "image/png": "[encoded data removed]",
      "text/plain": [
       "<matplotlib.figure.Figure at 0x7f17d3f2ee50>"
      ]
     },
     "metadata": {},
     "output_type": "display_data"
    }
   ],
   "source": [
    "dp_predict_0 = clf_dec.predict(s_test)\n",
    "cnf_matrix = confusion_matrix((dp_test>0).astype(np.int), (dp_predict_0>0).astype(np.int))\n",
    "plt.figure()\n",
    "visualize.plot_confusion_matrix(cnf_matrix, classes=[0, 1], title='Confusion matrix, without normalization')\n",
    "plt.show()"
   ]
  },
  {
   "cell_type": "code",
   "execution_count": 279,
   "metadata": {
    "collapsed": true
   },
   "outputs": [],
   "source": [
    "tree.export_graphviz(clf_dec, 'dprice_decision_tree.dot', max_depth = 5, filled = True, feature_names = list(s_test.columns))"
   ]
  },
  {
   "cell_type": "markdown",
   "metadata": {},
   "source": [
    "### To convert to .png, in the terminal type \"dot -Tpng dprice_decision_tree_0.dot -o dprice_decision_tree_0.png\""
   ]
  },
  {
   "cell_type": "code",
   "execution_count": null,
   "metadata": {
    "collapsed": true
   },
   "outputs": [],
   "source": []
  }
 ],
 "metadata": {
  "kernelspec": {
   "display_name": "Python 2",
   "language": "python",
   "name": "python2"
  },
  "language_info": {
   "codemirror_mode": {
    "name": "ipython",
    "version": 2
   },
   "file_extension": ".py",
   "mimetype": "text/x-python",
   "name": "python",
   "nbconvert_exporter": "python",
   "pygments_lexer": "ipython2",
   "version": "2.7.12"
  }
 },
 "nbformat": 4,
 "nbformat_minor": 2
}
